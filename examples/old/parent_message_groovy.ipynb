{
 "cells": [
  {
   "cell_type": "markdown",
   "metadata": {
    "deletable": true,
    "editable": true
   },
   "source": [
    "# Parent Header Test\n",
    "Run all the cells and confirm the widgets are in order"
   ]
  },
  {
   "cell_type": "code",
   "execution_count": null,
   "metadata": {
    "collapsed": true,
    "deletable": true,
    "editable": true
   },
   "outputs": [],
   "source": [
    "import com.twosigma.beakerx.widget.IntProgress\n",
    "bar = new IntProgress()\n",
    "bar.max = 300\n",
    "bar.value = 10\n",
    "bar"
   ]
  },
  {
   "cell_type": "code",
   "execution_count": null,
   "metadata": {
    "collapsed": true,
    "deletable": true,
    "editable": true
   },
   "outputs": [],
   "source": [
    "import com.twosigma.beakerx.widget.IntProgress\n",
    "\n",
    "bar = new IntProgress()\n",
    "bar.max = 300\n",
    "bar.value = 20\n",
    "bar"
   ]
  },
  {
   "cell_type": "code",
   "execution_count": null,
   "metadata": {
    "collapsed": true,
    "deletable": true,
    "editable": true
   },
   "outputs": [],
   "source": [
    "import com.twosigma.beakerx.widget.IntProgress\n",
    "\n",
    "bar = new IntProgress()\n",
    "bar.max = 300\n",
    "bar.value = 30\n",
    "bar"
   ]
  },
  {
   "cell_type": "code",
   "execution_count": null,
   "metadata": {
    "collapsed": true,
    "deletable": true,
    "editable": true
   },
   "outputs": [],
   "source": [
    "import com.twosigma.beakerx.widget.IntProgress\n",
    "\n",
    "bar = new IntProgress()\n",
    "bar.max = 300\n",
    "bar.value = 40\n",
    "bar"
   ]
  },
  {
   "cell_type": "code",
   "execution_count": null,
   "metadata": {
    "collapsed": true,
    "deletable": true,
    "editable": true
   },
   "outputs": [],
   "source": [
    "import com.twosigma.beakerx.widget.IntProgress\n",
    "\n",
    "bar = new IntProgress()\n",
    "bar.max = 300\n",
    "bar.value = 50\n",
    "bar"
   ]
  },
  {
   "cell_type": "code",
   "execution_count": null,
   "metadata": {
    "collapsed": true,
    "deletable": true,
    "editable": true
   },
   "outputs": [],
   "source": [
    "import com.twosigma.beakerx.widget.IntProgress\n",
    "\n",
    "bar = new IntProgress()\n",
    "bar.max = 300\n",
    "bar.value = 60\n",
    "bar"
   ]
  },
  {
   "cell_type": "code",
   "execution_count": null,
   "metadata": {
    "collapsed": true,
    "deletable": true,
    "editable": true
   },
   "outputs": [],
   "source": [
    "import com.twosigma.beakerx.widget.IntProgress\n",
    "\n",
    "bar = new IntProgress()\n",
    "bar.max = 300\n",
    "bar.value = 70\n",
    "bar"
   ]
  },
  {
   "cell_type": "code",
   "execution_count": null,
   "metadata": {
    "collapsed": true,
    "deletable": true,
    "editable": true
   },
   "outputs": [],
   "source": [
    "import com.twosigma.beakerx.widget.IntProgress\n",
    "\n",
    "bar = new IntProgress()\n",
    "bar.max = 300\n",
    "bar.value = 80\n",
    "bar"
   ]
  },
  {
   "cell_type": "code",
   "execution_count": null,
   "metadata": {
    "collapsed": true,
    "deletable": true,
    "editable": true
   },
   "outputs": [],
   "source": [
    "import com.twosigma.beakerx.widget.IntProgress\n",
    "\n",
    "bar = new IntProgress()\n",
    "bar.max = 300\n",
    "bar.value = 90\n",
    "bar"
   ]
  },
  {
   "cell_type": "code",
   "execution_count": null,
   "metadata": {
    "collapsed": true,
    "deletable": true,
    "editable": true
   },
   "outputs": [],
   "source": [
    "import com.twosigma.beakerx.widget.IntProgress\n",
    "\n",
    "bar = new IntProgress()\n",
    "bar.max = 300\n",
    "bar.value = 100\n",
    "bar"
   ]
  },
  {
   "cell_type": "code",
   "execution_count": null,
   "metadata": {
    "collapsed": true,
    "deletable": true,
    "editable": true
   },
   "outputs": [],
   "source": [
    "import com.twosigma.beakerx.widget.IntProgress\n",
    "\n",
    "bar = new IntProgress()\n",
    "bar.max = 300\n",
    "bar.value = 110\n",
    "bar"
   ]
  },
  {
   "cell_type": "code",
   "execution_count": null,
   "metadata": {
    "collapsed": true,
    "deletable": true,
    "editable": true
   },
   "outputs": [],
   "source": [
    "import com.twosigma.beakerx.widget.IntProgress\n",
    "\n",
    "bar = new IntProgress()\n",
    "bar.max = 300\n",
    "bar.value = 120\n",
    "bar"
   ]
  },
  {
   "cell_type": "code",
   "execution_count": null,
   "metadata": {
    "collapsed": true,
    "deletable": true,
    "editable": true
   },
   "outputs": [],
   "source": [
    "import com.twosigma.beakerx.widget.IntProgress\n",
    "\n",
    "bar = new IntProgress()\n",
    "bar.max = 300\n",
    "bar.value = 130\n",
    "bar"
   ]
  },
  {
   "cell_type": "code",
   "execution_count": null,
   "metadata": {
    "collapsed": true,
    "deletable": true,
    "editable": true
   },
   "outputs": [],
   "source": [
    "import com.twosigma.beakerx.widget.IntProgress\n",
    "\n",
    "bar = new IntProgress()\n",
    "bar.max = 300\n",
    "bar.value = 140\n",
    "bar"
   ]
  },
  {
   "cell_type": "code",
   "execution_count": null,
   "metadata": {
    "collapsed": true,
    "deletable": true,
    "editable": true
   },
   "outputs": [],
   "source": [
    "import com.twosigma.beakerx.widget.IntProgress\n",
    "\n",
    "bar = new IntProgress()\n",
    "bar.max = 300\n",
    "bar.value = 150\n",
    "bar"
   ]
  },
  {
   "cell_type": "code",
   "execution_count": null,
   "metadata": {
    "collapsed": true,
    "deletable": true,
    "editable": true
   },
   "outputs": [],
   "source": [
    "import com.twosigma.beakerx.widget.IntProgress\n",
    "\n",
    "bar = new IntProgress()\n",
    "bar.max = 300\n",
    "bar.value = 160\n",
    "bar"
   ]
  },
  {
   "cell_type": "code",
   "execution_count": null,
   "metadata": {
    "collapsed": true,
    "deletable": true,
    "editable": true
   },
   "outputs": [],
   "source": [
    "import com.twosigma.beakerx.widget.IntProgress\n",
    "\n",
    "bar = new IntProgress()\n",
    "bar.max = 300\n",
    "bar.value = 170\n",
    "bar"
   ]
  },
  {
   "cell_type": "code",
   "execution_count": null,
   "metadata": {
    "collapsed": true,
    "deletable": true,
    "editable": true
   },
   "outputs": [],
   "source": [
    "import com.twosigma.beakerx.widget.IntProgress\n",
    "\n",
    "bar = new IntProgress()\n",
    "bar.max = 300\n",
    "bar.value = 180\n",
    "bar"
   ]
  },
  {
   "cell_type": "code",
   "execution_count": null,
   "metadata": {
    "collapsed": true,
    "deletable": true,
    "editable": true
   },
   "outputs": [],
   "source": [
    "import com.twosigma.beakerx.widget.IntProgress\n",
    "\n",
    "bar = new IntProgress()\n",
    "bar.max = 300\n",
    "bar.value = 190\n",
    "bar"
   ]
  },
  {
   "cell_type": "code",
   "execution_count": null,
   "metadata": {
    "collapsed": true,
    "deletable": true,
    "editable": true
   },
   "outputs": [],
   "source": [
    "import com.twosigma.beakerx.widget.IntProgress\n",
    "\n",
    "bar = new IntProgress()\n",
    "bar.max = 300\n",
    "bar.value = 200\n",
    "bar"
   ]
  },
  {
   "cell_type": "code",
   "execution_count": null,
   "metadata": {
    "collapsed": true,
    "deletable": true,
    "editable": true
   },
   "outputs": [],
   "source": [
    "import com.twosigma.beakerx.widget.IntProgress\n",
    "\n",
    "bar = new IntProgress()\n",
    "bar.max = 300\n",
    "bar.value = 210\n",
    "bar"
   ]
  },
  {
   "cell_type": "code",
   "execution_count": null,
   "metadata": {
    "collapsed": true,
    "deletable": true,
    "editable": true
   },
   "outputs": [],
   "source": [
    "import com.twosigma.beakerx.widget.IntProgress\n",
    "\n",
    "bar = new IntProgress()\n",
    "bar.max = 300\n",
    "bar.value = 220\n",
    "bar"
   ]
  },
  {
   "cell_type": "code",
   "execution_count": null,
   "metadata": {
    "collapsed": true,
    "deletable": true,
    "editable": true
   },
   "outputs": [],
   "source": [
    "import com.twosigma.beakerx.widget.IntProgress\n",
    "\n",
    "bar = new IntProgress()\n",
    "bar.max = 300\n",
    "bar.value = 230\n",
    "bar"
   ]
  },
  {
   "cell_type": "code",
   "execution_count": null,
   "metadata": {
    "collapsed": true,
    "deletable": true,
    "editable": true
   },
   "outputs": [],
   "source": [
    "import com.twosigma.beakerx.widget.IntProgress\n",
    "\n",
    "bar = new IntProgress()\n",
    "bar.max = 300\n",
    "bar.value = 240\n",
    "bar"
   ]
  },
  {
   "cell_type": "code",
   "execution_count": null,
   "metadata": {
    "collapsed": true,
    "deletable": true,
    "editable": true
   },
   "outputs": [],
   "source": [
    "import com.twosigma.beakerx.widget.IntProgress\n",
    "\n",
    "bar = new IntProgress()\n",
    "bar.max = 300\n",
    "bar.value = 250\n",
    "bar"
   ]
  },
  {
   "cell_type": "code",
   "execution_count": null,
   "metadata": {
    "collapsed": true,
    "deletable": true,
    "editable": true
   },
   "outputs": [],
   "source": [
    "import com.twosigma.beakerx.widget.IntProgress\n",
    "\n",
    "bar = new IntProgress()\n",
    "bar.max = 300\n",
    "bar.value = 260\n",
    "bar"
   ]
  },
  {
   "cell_type": "code",
   "execution_count": null,
   "metadata": {
    "collapsed": true,
    "deletable": true,
    "editable": true
   },
   "outputs": [],
   "source": [
    "import com.twosigma.beakerx.widget.IntProgress\n",
    "\n",
    "bar = new IntProgress()\n",
    "bar.max = 300\n",
    "bar.value = 270\n",
    "bar"
   ]
  },
  {
   "cell_type": "code",
   "execution_count": null,
   "metadata": {
    "collapsed": true,
    "deletable": true,
    "editable": true
   },
   "outputs": [],
   "source": [
    "import com.twosigma.beakerx.widget.IntProgress\n",
    "\n",
    "bar = new IntProgress()\n",
    "bar.max = 300\n",
    "bar.value = 280\n",
    "bar"
   ]
  },
  {
   "cell_type": "code",
   "execution_count": null,
   "metadata": {
    "collapsed": true,
    "deletable": true,
    "editable": true
   },
   "outputs": [],
   "source": [
    "import com.twosigma.beakerx.widget.IntProgress\n",
    "\n",
    "bar = new IntProgress()\n",
    "bar.max = 300\n",
    "bar.value = 290\n",
    "bar"
   ]
  },
  {
   "cell_type": "code",
   "execution_count": null,
   "metadata": {
    "collapsed": true,
    "deletable": true,
    "editable": true
   },
   "outputs": [],
   "source": [
    "import com.twosigma.beakerx.widget.IntProgress\n",
    "\n",
    "bar = new IntProgress()\n",
    "bar.max = 300\n",
    "bar.value = 300\n",
    "bar"
   ]
  }
 ],
 "metadata": {
  "anaconda-cloud": {},
  "beakerx_kernel_parameters": {},
  "kernelspec": {
   "display_name": "Groovy",
   "language": "groovy",
   "name": "groovy"
  },
  "language_info": {
   "codemirror_mode": "groovy",
   "file_extension": ".groovy",
   "mimetype": "",
   "name": "Groovy",
   "nbconverter_exporter": "",
   "version": "2.4.3"
  }
 },
 "nbformat": 4,
 "nbformat_minor": 2
}
