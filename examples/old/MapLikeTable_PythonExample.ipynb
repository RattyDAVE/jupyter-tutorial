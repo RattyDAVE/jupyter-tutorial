{
 "cells": [
  {
   "cell_type": "code",
   "execution_count": null,
   "metadata": {},
   "outputs": [],
   "source": [
    "from beakerx import *\n",
    "\n",
    "TableDisplay([{'y1':4, 'm3':2, 'z2':1}, {'m3':4, 'z2':2}])"
   ]
  },
  {
   "cell_type": "code",
   "execution_count": null,
   "metadata": {},
   "outputs": [],
   "source": [
    "TableDisplay({\"x\" : 1, \"y\" : 2})"
   ]
  },
  {
   "cell_type": "code",
   "execution_count": null,
   "metadata": {},
   "outputs": [],
   "source": [
    "list = list();\n",
    "list.append({\"x\" : 1, \"y\" : 2});\n",
    "list.append({\"x\" : 3, \"y\" : 4});\n",
    "TableDisplay(list)"
   ]
  },
  {
   "cell_type": "code",
   "execution_count": null,
   "metadata": {},
   "outputs": [],
   "source": [
    "map = [None] * 2\n",
    "map[0] = {\"x\" : 1, \"y\" : 2}\n",
    "map[1] = {\"x\" : 3, \"y\" : 4}\n",
    "TableDisplay(map)"
   ]
  },
  {
   "cell_type": "code",
   "execution_count": null,
   "metadata": {},
   "outputs": [],
   "source": [
    "listOfMap = []\n",
    "for idx in range(1, 11):\n",
    "    listOfMap.append({\"test\": idx})\n",
    "TableDisplay(listOfMap)"
   ]
  },
  {
   "cell_type": "code",
   "execution_count": null,
   "metadata": {},
   "outputs": [],
   "source": [
    "myMap = {}\n",
    "myList = []\n",
    "myList.append([1, 2, 3])\n",
    "myList.append([2, 3, 4])\n",
    "myMap[1] = myList\n",
    "TableDisplay(myMap)"
   ]
  },
  {
   "cell_type": "code",
   "execution_count": null,
   "metadata": {},
   "outputs": [],
   "source": [
    "myMap = {}\n",
    "myList = {\"num1\":1, \"num2\":2}\n",
    "myMap[0] = myList\n",
    "myMap\n",
    "TableDisplay(myMap)"
   ]
  }
 ],
 "metadata": {
  "kernelspec": {
   "display_name": "Python 3",
   "language": "python",
   "name": "python3"
  },
  "language_info": {
   "codemirror_mode": {
    "name": "ipython",
    "version": 3
   },
   "file_extension": ".py",
   "mimetype": "text/x-python",
   "name": "python",
   "nbconvert_exporter": "python",
   "pygments_lexer": "ipython3",
   "version": "3.5.4"
  }
 },
 "nbformat": 4,
 "nbformat_minor": 2
}
