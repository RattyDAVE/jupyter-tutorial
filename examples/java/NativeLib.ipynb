{
 "cells": [
  {
   "cell_type": "code",
   "execution_count": 1,
   "metadata": {},
   "outputs": [
    {
     "data": {
      "application/vnd.jupyter.widget-view+json": {
       "model_id": "85c416b5-ee0d-4051-af45-ffcac7a74928",
       "version_major": 2,
       "version_minor": 0
      },
      "method": "display_data"
     },
     "metadata": {},
     "output_type": "display_data"
    },
    {
     "name": "stdout",
     "output_type": "stream",
     "text": [
      "Added jars: [nd4j-native-0.9.1-android-x86.jar, nd4j-common-0.9.1.jar, openblas-0.2.19-1.3-macosx-x86_64.jar, commons-io-2.4.jar, openblas-0.2.19-1.3.jar, nd4j-api-0.9.1.jar, commons-lang3-3.3.1.jar, openblas-0.2.19-1.3-windows-x86.jar, nd4j-buffer-0.9.1.jar, nd4j-native-api-0.9.1.jar, openblas-0.2.19-1.3-windows-x86_64.jar, nd4j-native-0.9.1-macosx-x86_64.jar, joda-time-2.2.jar, annotations-2.0.1.jar, openblas-0.2.19-1.3-linux-x86.jar, javacpp-1.3.3.jar, slf4j-api-1.7.10.jar, nd4j-native-0.9.1-linux-x86_64.jar, openblas-0.2.19-1.3-linux-armhf.jar, snakeyaml-1.12.jar, openblas-0.2.19-1.3-android-x86.jar, reflections-0.9.10.jar, findbugs-annotations-1.3.9-1.jar, nd4j-context-0.9.1.jar, neoitertools-1.0.0.jar, guava-15.0.jar, nd4j-native-0.9.1-linux-ppc64le.jar, nd4j-native-0.9.1-android-arm.jar, openblas-platform-0.2.19-1.3.jar, openblas-0.2.19-1.3-linux-ppc64le.jar, jackson-0.9.1.jar, nd4j-native-0.9.1-windows-x86_64.jar, nd4j-native-0.9.1.jar, junit-4.8.2.jar, stax2-api-3.1.4.jar, javassist-3.19.0-GA.jar, nd4j-native-platform-0.9.1.jar, openblas-0.2.19-1.3-linux-x86_64.jar, lombok-1.16.16.jar, openblas-0.2.19-1.3-android-arm.jar, commons-math3-3.4.1.jar]\n"
     ]
    }
   ],
   "source": [
    "%classpath add mvn org.nd4j nd4j-native-platform 0.9.1"
   ]
  },
  {
   "cell_type": "code",
   "execution_count": 2,
   "metadata": {},
   "outputs": [
    {
     "data": {
      "text/plain": [
       "org.nd4j.linalg.cpu.nativecpu.rng.CpuNativeRandom@6c5b3603"
      ]
     },
     "execution_count": 2,
     "metadata": {},
     "output_type": "execute_result"
    }
   ],
   "source": [
    "import org.nd4j.linalg.factory.Nd4j;\n",
    "return Nd4j.getRandom();"
   ]
  },
  {
   "cell_type": "code",
   "execution_count": 3,
   "metadata": {},
   "outputs": [
    {
     "data": {
      "application/vnd.jupyter.widget-view+json": {
       "model_id": "0f3cc063-cc11-44f3-9a38-56cc89516146",
       "version_major": 2,
       "version_minor": 0
      },
      "method": "display_data"
     },
     "metadata": {},
     "output_type": "display_data"
    },
    {
     "name": "stdout",
     "output_type": "stream",
     "text": [
      "Added jars: [arpack_combined_all-0.1.jar, core-1.1.2.jar]\n"
     ]
    }
   ],
   "source": [
    "%classpath add mvn com.github.fommil.netlib core 1.1.2"
   ]
  },
  {
   "cell_type": "code",
   "execution_count": 4,
   "metadata": {},
   "outputs": [
    {
     "data": {
      "text/plain": [
       "org.netlib.blas.Daxpy@2f334c67"
      ]
     },
     "execution_count": 4,
     "metadata": {},
     "output_type": "execute_result"
    }
   ],
   "source": [
    "return new org.netlib.blas.Daxpy();"
   ]
  },
  {
   "cell_type": "code",
   "execution_count": null,
   "metadata": {},
   "outputs": [],
   "source": []
  }
 ],
 "metadata": {
  "kernelspec": {
   "display_name": "Java",
   "language": "java",
   "name": "java"
  },
  "language_info": {
   "codemirror_mode": "text/x-java",
   "file_extension": ".java",
   "mimetype": "",
   "name": "Java",
   "nbconverter_exporter": "",
   "version": "1.8.0_121"
  }
 },
 "nbformat": 4,
 "nbformat_minor": 2
}
