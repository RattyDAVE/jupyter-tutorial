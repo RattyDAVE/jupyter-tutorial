{
 "cells": [
  {
   "cell_type": "markdown",
   "metadata": {},
   "source": [
    "# Category Plots, aka Bar Charts"
   ]
  },
  {
   "cell_type": "code",
   "execution_count": 1,
   "metadata": {},
   "outputs": [
    {
     "data": {
      "application/vnd.jupyter.widget-view+json": {
       "model_id": "dcf9eef0-8ec9-4ec0-91c5-2ad9ab1f687a",
       "version_major": 2,
       "version_minor": 0
      },
      "method": "display_data"
     },
     "metadata": {},
     "output_type": "display_data"
    }
   ],
   "source": [
    "def bars = new CategoryBars(value: [[1, 2, 3], [1, 3, 5]])\n",
    "new CategoryPlot() << bars"
   ]
  },
  {
   "cell_type": "code",
   "execution_count": 2,
   "metadata": {},
   "outputs": [
    {
     "data": {
      "application/vnd.jupyter.widget-view+json": {
       "model_id": "5d1a8db8-b889-4490-a307-4bac4672d846",
       "version_major": 2,
       "version_minor": 0
      },
      "method": "display_data"
     },
     "metadata": {},
     "output_type": "display_data"
    }
   ],
   "source": [
    "def cplot = new CategoryPlot(initWidth: 400, initHeight: 200)\n",
    "def bars = new CategoryBars(value:[[1, 2, 3], [1, 3, 5]])\n",
    "cplot << bars"
   ]
  },
  {
   "cell_type": "code",
   "execution_count": 3,
   "metadata": {},
   "outputs": [
    {
     "data": {
      "application/vnd.jupyter.widget-view+json": {
       "model_id": "95b0e76f-608b-45ca-a578-8fa3c714f524",
       "version_major": 2,
       "version_minor": 0
      },
      "method": "display_data"
     },
     "metadata": {},
     "output_type": "display_data"
    }
   ],
   "source": [
    "def cplot = new CategoryPlot(title: \"Hello CategoryPlot!\",\n",
    "                             xLabel: \"Categories\",\n",
    "                             yLabel: \"Values\")\n",
    "cplot << new CategoryBars(value:[[1, 2, 3], [1, 3, 5]])"
   ]
  },
  {
   "cell_type": "code",
   "execution_count": 4,
   "metadata": {},
   "outputs": [
    {
     "data": {
      "application/vnd.jupyter.widget-view+json": {
       "model_id": "7a10c506-cc2a-4293-a1e7-1e1a6de90930",
       "version_major": 2,
       "version_minor": 0
      },
      "method": "display_data"
     },
     "metadata": {},
     "output_type": "display_data"
    }
   ],
   "source": [
    "def cplot = new CategoryPlot(categoryNames: [\"Helium\", \"Neon\", \"Argon\"])\n",
    "cplot << new CategoryBars(value: [[1, 2, 3], [1, 3, 5]])"
   ]
  },
  {
   "cell_type": "code",
   "execution_count": 5,
   "metadata": {},
   "outputs": [
    {
     "data": {
      "application/vnd.jupyter.widget-view+json": {
       "model_id": "af62f33e-83cd-415d-a0a1-9574d38d04d5",
       "version_major": 2,
       "version_minor": 0
      },
      "method": "display_data"
     },
     "metadata": {},
     "output_type": "display_data"
    }
   ],
   "source": [
    "new CategoryPlot() << new CategoryBars(value: [[1, 2, 3], [1, 3, 5]],\n",
    "                                       seriesNames: [\"Gas\", \"Liquid\"])"
   ]
  },
  {
   "cell_type": "code",
   "execution_count": 6,
   "metadata": {},
   "outputs": [
    {
     "data": {
      "application/vnd.jupyter.widget-view+json": {
       "model_id": "ba0cb8f3-c05c-4955-8883-954d7a667409",
       "version_major": 2,
       "version_minor": 0
      },
      "method": "display_data"
     },
     "metadata": {},
     "output_type": "display_data"
    }
   ],
   "source": [
    "def bars = new CategoryBars(value: [[1, 2], [3, 4], [5, 6], [7, 8]],\n",
    "                            seriesNames: [\"Gas\", null, \"\", \"Liquid\"])\n",
    "new CategoryPlot() << bars"
   ]
  },
  {
   "cell_type": "code",
   "execution_count": 7,
   "metadata": {},
   "outputs": [
    {
     "data": {
      "application/vnd.jupyter.widget-view+json": {
       "model_id": "c4db7762-2263-45df-9903-a325cad733ec",
       "version_major": 2,
       "version_minor": 0
      },
      "method": "display_data"
     },
     "metadata": {},
     "output_type": "display_data"
    }
   ],
   "source": [
    "def plot = new CategoryPlot(showLegend: true) // force legend display\n",
    "def bars = new CategoryBars(value: [[1, 2, 3], [1, 3, 5]])\n",
    "// since no display names were provided, default names \"series0\" etc will be used.\n",
    "plot << bars"
   ]
  },
  {
   "cell_type": "code",
   "execution_count": 8,
   "metadata": {},
   "outputs": [
    {
     "data": {
      "application/vnd.jupyter.widget-view+json": {
       "model_id": "48fb59d3-7207-4484-8215-67280141fcd9",
       "version_major": 2,
       "version_minor": 0
      },
      "method": "display_data"
     },
     "metadata": {},
     "output_type": "display_data"
    }
   ],
   "source": [
    "def plot = new CategoryPlot(orientation: PlotOrientationType.HORIZONTAL)\n",
    "plot << new CategoryBars(value:[[1, 2, 3], [1, 3, 5]])"
   ]
  },
  {
   "cell_type": "code",
   "execution_count": 9,
   "metadata": {},
   "outputs": [
    {
     "data": {
      "application/vnd.jupyter.widget-view+json": {
       "model_id": "a19a3c5a-a071-40fb-b64e-27da74e9f737",
       "version_major": 2,
       "version_minor": 0
      },
      "method": "display_data"
     },
     "metadata": {},
     "output_type": "display_data"
    }
   ],
   "source": [
    "def plot = new CategoryPlot(categoryNames: [\"Acid\", \"Neutral\", \"Base\"], \n",
    "                            categoryNamesLabelAngle: -1/4 * Math.PI)\n",
    "plot << new CategoryBars(value: [[1, 2, 3], [4, 5, 6]])"
   ]
  },
  {
   "cell_type": "code",
   "execution_count": 10,
   "metadata": {},
   "outputs": [
    {
     "data": {
      "application/vnd.jupyter.widget-view+json": {
       "model_id": "4f0a0a4c-cc44-4cab-8d45-e53c7c765237",
       "version_major": 2,
       "version_minor": 0
      },
      "method": "display_data"
     },
     "metadata": {},
     "output_type": "display_data"
    }
   ],
   "source": [
    "new CategoryPlot(categoryMargin: 2) << new CategoryBars(value: [[1, 2, 3], [4, 5, 6]])"
   ]
  },
  {
   "cell_type": "code",
   "execution_count": 11,
   "metadata": {},
   "outputs": [
    {
     "data": {
      "application/vnd.jupyter.widget-view+json": {
       "model_id": "1490cd03-f2a5-4ae1-ab45-667e5064959b",
       "version_major": 2,
       "version_minor": 0
      },
      "method": "display_data"
     },
     "metadata": {},
     "output_type": "display_data"
    }
   ],
   "source": [
    "def bars = new CategoryBars(value: (1..4) + 2)\n",
    "new CategoryPlot() << bars"
   ]
  },
  {
   "cell_type": "code",
   "execution_count": 12,
   "metadata": {},
   "outputs": [
    {
     "data": {
      "application/vnd.jupyter.widget-view+json": {
       "model_id": "953a455f-947d-49d5-a8ba-9dfed198b4bb",
       "version_major": 2,
       "version_minor": 0
      },
      "method": "display_data"
     },
     "metadata": {},
     "output_type": "display_data"
    }
   ],
   "source": [
    "def bars = new CategoryBars(value: [[1, 2], [3, 4], [5, 6]], color: Color.pink)\n",
    "new CategoryPlot() << bars"
   ]
  },
  {
   "cell_type": "code",
   "execution_count": 13,
   "metadata": {},
   "outputs": [
    {
     "data": {
      "application/vnd.jupyter.widget-view+json": {
       "model_id": "2d21f0a5-19ae-432f-8362-3d551a3953eb",
       "version_major": 2,
       "version_minor": 0
      },
      "method": "display_data"
     },
     "metadata": {},
     "output_type": "display_data"
    }
   ],
   "source": [
    "def colors = [Color.red, Color.gray, Color.blue]\n",
    "def bars = new CategoryBars(value: [[1, 2], [3, 4], [5, 6]], color: colors)\n",
    "new CategoryPlot() << bars"
   ]
  },
  {
   "cell_type": "code",
   "execution_count": 14,
   "metadata": {},
   "outputs": [
    {
     "data": {
      "application/vnd.jupyter.widget-view+json": {
       "model_id": "c8254161-c608-4ccf-adf8-f8c380647b32",
       "version_major": 2,
       "version_minor": 0
      },
      "method": "display_data"
     },
     "metadata": {},
     "output_type": "display_data"
    }
   ],
   "source": [
    "def colors = [[Color.red, Color.gray],\n",
    "              [Color.gray, Color.gray],\n",
    "              [Color.blue, Color.pink]]\n",
    "def bars = new CategoryBars(value: [[1, 2], [3, 4], [5, 6]], color: colors)\n",
    "new CategoryPlot() << bars"
   ]
  },
  {
   "cell_type": "code",
   "execution_count": 15,
   "metadata": {},
   "outputs": [
    {
     "data": {
      "application/vnd.jupyter.widget-view+json": {
       "model_id": "64c996c8-def3-4fe4-936a-fbcec3d1c5d9",
       "version_major": 2,
       "version_minor": 0
      },
      "method": "display_data"
     },
     "metadata": {},
     "output_type": "display_data"
    }
   ],
   "source": [
    "def colors = [Color.pink, [Color.red, Color.gray, Color.blue]]\n",
    "def bars = new CategoryBars(value: [[1, 2, 3], [4, 5, 6]], color: colors)\n",
    "new CategoryPlot() << bars"
   ]
  },
  {
   "cell_type": "code",
   "execution_count": 16,
   "metadata": {},
   "outputs": [
    {
     "data": {
      "application/vnd.jupyter.widget-view+json": {
       "model_id": "66f05e41-08bf-4796-aeda-26bdd30c348f",
       "version_major": 2,
       "version_minor": 0
      },
      "method": "display_data"
     },
     "metadata": {},
     "output_type": "display_data"
    }
   ],
   "source": [
    "def bars = new CategoryBars(value: [[1, 2, 3], [4, 5, 6]], base: -2)\n",
    "new CategoryPlot() << bars"
   ]
  },
  {
   "cell_type": "code",
   "execution_count": 17,
   "metadata": {},
   "outputs": [
    {
     "data": {
      "application/vnd.jupyter.widget-view+json": {
       "model_id": "07075306-f40e-42d5-81a3-cdfb647dda07",
       "version_major": 2,
       "version_minor": 0
      },
      "method": "display_data"
     },
     "metadata": {},
     "output_type": "display_data"
    }
   ],
   "source": [
    "def bars = new CategoryBars(value: [[1, 2,  3], [4, 5, 4]], base: [-1, -3])\n",
    "new CategoryPlot() << bars"
   ]
  },
  {
   "cell_type": "code",
   "execution_count": 18,
   "metadata": {},
   "outputs": [
    {
     "data": {
      "application/vnd.jupyter.widget-view+json": {
       "model_id": "097e1eed-b3f2-42fd-b133-440c78ddaa47",
       "version_major": 2,
       "version_minor": 0
      },
      "method": "display_data"
     },
     "metadata": {},
     "output_type": "display_data"
    }
   ],
   "source": [
    "def bars = new CategoryBars(value: [[1, 2, 3], [4, 5, 6]],\n",
    "                            base: [[0, 1, 1], [-4, -5, -6]])\n",
    "new CategoryPlot() << bars"
   ]
  },
  {
   "cell_type": "code",
   "execution_count": 19,
   "metadata": {},
   "outputs": [
    {
     "data": {
      "application/vnd.jupyter.widget-view+json": {
       "model_id": "2d316162-446d-4c19-8077-b4f70e1dfe16",
       "version_major": 2,
       "version_minor": 0
      },
      "method": "display_data"
     },
     "metadata": {},
     "output_type": "display_data"
    }
   ],
   "source": [
    "def bars = new CategoryBars(value: [[1, 2, 3], [4, 5, 6]],\n",
    "                            width: [[0.3, 0.6, 1.7], 1.0])\n",
    "new CategoryPlot() << bars"
   ]
  },
  {
   "cell_type": "code",
   "execution_count": 20,
   "metadata": {},
   "outputs": [
    {
     "data": {
      "application/vnd.jupyter.widget-view+json": {
       "model_id": "159bc1fc-a7c3-461e-bd53-eef625c25ae6",
       "version_major": 2,
       "version_minor": 0
      },
      "method": "display_data"
     },
     "metadata": {},
     "output_type": "display_data"
    }
   ],
   "source": [
    "def bars = new CategoryBars(value: [[1, 2, 3], [4, 5, 6]],\n",
    "                            fill: [[true, true, false], [true, false, true]],\n",
    "                            drawOutline: [[true, false, true], [true, true, false]],\n",
    "                            outlineColor: [Color.black, Color.red])\n",
    "new CategoryPlot() << bars"
   ]
  },
  {
   "cell_type": "code",
   "execution_count": 21,
   "metadata": {},
   "outputs": [
    {
     "data": {
      "application/vnd.jupyter.widget-view+json": {
       "model_id": "78161292-fabb-471e-bff3-ef35fe4bda0a",
       "version_major": 2,
       "version_minor": 0
      },
      "method": "display_data"
     },
     "metadata": {},
     "output_type": "display_data"
    }
   ],
   "source": [
    "def bars = new CategoryBars(value: [[1, 2, 3], [4, 5, 8], [10, 9, 10]],\n",
    "                           base: [0, [1, 2, 3], [4, 5, 8]],\n",
    "                           centerSeries: true,\n",
    "                           itemLabel: {value, base-> Math.abs(value-base)})\n",
    "new CategoryPlot() << bars"
   ]
  },
  {
   "cell_type": "code",
   "execution_count": 22,
   "metadata": {},
   "outputs": [
    {
     "data": {
      "application/vnd.jupyter.widget-view+json": {
       "model_id": "e525a0b5-7876-4ba1-bbd8-1c8dba9b5511",
       "version_major": 2,
       "version_minor": 0
      },
      "method": "display_data"
     },
     "metadata": {},
     "output_type": "display_data"
    }
   ],
   "source": [
    "def ss = [StrokeType.DASH, StrokeType.LONGDASH]\n",
    "def cs = [Color.black, Color.red]\n",
    "new CategoryPlot() << new CategoryStems(value: [[1, 2, 4], [4, 5, 8]], color: cs, style: ss)"
   ]
  },
  {
   "cell_type": "code",
   "execution_count": 23,
   "metadata": {},
   "outputs": [
    {
     "data": {
      "application/vnd.jupyter.widget-view+json": {
       "model_id": "c2f21ca0-815e-475a-910d-ee49de261ddd",
       "version_major": 2,
       "version_minor": 0
      },
      "method": "display_data"
     },
     "metadata": {},
     "output_type": "display_data"
    }
   ],
   "source": [
    "new CategoryPlot() << new CategoryPoints(value: [[1, 2, 4], [4, 5, 8]])"
   ]
  },
  {
   "cell_type": "code",
   "execution_count": 24,
   "metadata": {},
   "outputs": [
    {
     "data": {
      "application/vnd.jupyter.widget-view+json": {
       "model_id": "9fad2fca-7a6f-444c-a5d0-1c870ff298f7",
       "version_major": 2,
       "version_minor": 0
      },
      "method": "display_data"
     },
     "metadata": {},
     "output_type": "display_data"
    }
   ],
   "source": [
    "def ss = [StrokeType.DASH, StrokeType.DOT]\n",
    "new CategoryPlot() << new CategoryLines(value: [[1, 2, 4], [4, 5, 8]], style: ss,\n",
    "                                        seriesNames:[\"Lanthanide\", \"Actinide\"])"
   ]
  },
  {
   "cell_type": "code",
   "execution_count": 25,
   "metadata": {},
   "outputs": [
    {
     "data": {
      "application/vnd.jupyter.widget-view+json": {
       "model_id": "bf96163a-a24a-473a-b404-1629219a900b",
       "version_major": 2,
       "version_minor": 0
      },
      "method": "display_data"
     },
     "metadata": {},
     "output_type": "display_data"
    }
   ],
   "source": [
    "def s1 = [1, 2, 4]\n",
    "def s2 = [4, 5, 8]\n",
    "def lines = new CategoryLines(value: [s1, s2], centerSeries: true)\n",
    "def points = new CategoryPoints(value: [s1, s2], centerSeries: true)\n",
    "def stems = new CategoryStems(value:[s1], base: [s2], style: StrokeType.DOT, color: Color.gray)\n",
    "new CategoryPlot() << lines << points << stems"
   ]
  },
  {
   "cell_type": "code",
   "execution_count": 26,
   "metadata": {},
   "outputs": [
    {
     "data": {
      "application/vnd.jupyter.widget-view+json": {
       "model_id": "2c3ac8cb-01ca-4d94-8c88-9e7360aea689",
       "version_major": 2,
       "version_minor": 0
      },
      "method": "display_data"
     },
     "metadata": {},
     "output_type": "display_data"
    }
   ],
   "source": [
    "def plot = new CategoryPlot(initWidth: 500, initHeight: 400,\n",
    "                            title: \"Bar Chart Demo\",\n",
    "                            xLabel: \"Alkali\", yLabel: \"Temperature ° Celcius\",\n",
    "                            categoryNames:[\"Lithium\", \"Sodium\", \"Potassium\", \"Rubidium\"])\n",
    "def s1 = [[10, 15, 13, 7], [22, 18, 28, 17]]\n",
    "def high = [[12.4, 19.5, 15.1, 8.2], [24.3, 23.3, 30.1, 18.2]]\n",
    "def low = [[7.6, 10.5, 10.9, 5.8], [19.7, 12.7, 25.9, 15.8]]\n",
    "def color = [new Color(247, 150, 70), Color.orange, new Color(155, 187, 89)]\n",
    "plot << new CategoryBars(value: s1, color: color, seriesNames: [\"Solid\", \"Liquid\"])\n",
    "plot << new CategoryStems(value: high, base: low, color: color[2])\n",
    "plot << new CategoryPoints(value: high, outlineColor: color[2], size:12)\n",
    "plot << new CategoryPoints(value: low, outlineColor: color[2], size:12)"
   ]
  },
  {
   "cell_type": "code",
   "execution_count": 27,
   "metadata": {},
   "outputs": [
    {
     "data": {
      "application/vnd.jupyter.widget-view+json": {
       "model_id": "e9755fe4-3981-49f3-bd26-a4003fdc9584",
       "version_major": 2,
       "version_minor": 0
      },
      "method": "display_data"
     },
     "metadata": {},
     "output_type": "display_data"
    }
   ],
   "source": [
    "def p = new CategoryPlot(title: \"Multiple Y Axes Demo\",\n",
    "                         yLabel: \"Price\",\n",
    "                         categoryNames: [\"Q1\", \"Q2\", \"Q3\", \"Q4\"])\n",
    "p << new YAxis(label: \"Volume\", upperMargin: 1)\n",
    "p << new CategoryBars(value: [[1500, 2200, 2500, 4000]], width: 0.6,\n",
    "                      color: Color.PINK, yAxis: \"Volume\", showItemLabel: true,\n",
    "                      labelPosition: LabelPositionType.VALUE_INSIDE)\n",
    "p << new CategoryLines(value: [[5, 2, 3.5, 4]], color: Color.GRAY,\n",
    "                       showItemLabel:true)\n",
    "p << new CategoryPoints(value:[[5, 2, 3.5, 4]], color:Color.GRAY)"
   ]
  },
  {
   "cell_type": "code",
   "execution_count": 28,
   "metadata": {},
   "outputs": [
    {
     "data": {
      "application/vnd.jupyter.widget-view+json": {
       "model_id": "cf571cae-00bf-4b2e-b9e2-8c04bf82c1a0",
       "version_major": 2,
       "version_minor": 0
      },
      "method": "display_data"
     },
     "metadata": {},
     "output_type": "display_data"
    }
   ],
   "source": [
    "new CategoryPlot() << new CategoryStems(value:[[-3, 2, 4], [4, 5, 8]],\n",
    "                                        width: 10, showItemLabel: true)"
   ]
  },
  {
   "cell_type": "code",
   "execution_count": 29,
   "metadata": {},
   "outputs": [
    {
     "data": {
      "application/vnd.jupyter.widget-view+json": {
       "model_id": "7699b046-0c05-442f-9b17-f2ba4c505d3d",
       "version_major": 2,
       "version_minor": 0
      },
      "method": "display_data"
     },
     "metadata": {},
     "output_type": "display_data"
    }
   ],
   "source": [
    "def bars = new CategoryBars(value: [[-5, 2, 3], [1, 3, 5]],\n",
    "                            showItemLabel: true)\n",
    "new CategoryPlot() << bars"
   ]
  },
  {
   "cell_type": "code",
   "execution_count": 30,
   "metadata": {},
   "outputs": [
    {
     "data": {
      "application/vnd.jupyter.widget-view+json": {
       "model_id": "ae5479cd-c53e-48f0-809c-e02f167049de",
       "version_major": 2,
       "version_minor": 0
      },
      "method": "display_data"
     },
     "metadata": {},
     "output_type": "display_data"
    }
   ],
   "source": [
    "def bars = new CategoryBars(value: [[-5, 2, 3], [1, 3, 5]],\n",
    "                            labelPosition: LabelPositionType.BASE_OUTSIDE,\n",
    "                            showItemLabel: true)\n",
    "new CategoryPlot() << bars"
   ]
  },
  {
   "cell_type": "code",
   "execution_count": 31,
   "metadata": {},
   "outputs": [
    {
     "data": {
      "application/vnd.jupyter.widget-view+json": {
       "model_id": "b2628328-7306-498b-8855-9ba8aeed897e",
       "version_major": 2,
       "version_minor": 0
      },
      "method": "display_data"
     },
     "metadata": {},
     "output_type": "display_data"
    }
   ],
   "source": [
    "def plot = new CategoryPlot(title: \"Move mouse cursor over bars\")\n",
    "def bars = new CategoryBars(value: [[-5, 2, 3], [1, 3, 5]], useToolTip: false)\n",
    "plot << bars"
   ]
  },
  {
   "cell_type": "code",
   "execution_count": 32,
   "metadata": {},
   "outputs": [
    {
     "data": {
      "application/vnd.jupyter.widget-view+json": {
       "model_id": "845b7afd-5333-4f0d-8575-2ce66fb0cc34",
       "version_major": 2,
       "version_minor": 0
      },
      "method": "display_data"
     },
     "metadata": {},
     "output_type": "display_data"
    }
   ],
   "source": [
    "def input = [[1,2,3],[1,3,5]].transpose() // == [[1,1], [2,3], [3,5]]\n",
    "def bars = new CategoryBars(value: input)\n",
    "new CategoryPlot() << bars"
   ]
  },
  {
   "cell_type": "code",
   "execution_count": 33,
   "metadata": {},
   "outputs": [
    {
     "data": {
      "application/vnd.jupyter.widget-view+json": {
       "model_id": "a715803f-adaf-4d02-b909-a3437940acd5",
       "version_major": 2,
       "version_minor": 0
      },
      "method": "display_data"
     },
     "metadata": {},
     "output_type": "display_data"
    }
   ],
   "source": [
    "table = [[close:11.59, high:13.15, low:11.92, open:11.92],\n",
    "         [close:12.76, high:15.44, low:11.88, open:12.42],\n",
    "         [close:18.19, high:20.96, low:17.93, open:18.56]]\n",
    "def v = table.collect { it.values().toList() }\n",
    "def p = new CategoryPlot(categoryNames: table[0].keySet().toList())\n",
    "p << new CategoryBars(value: v, seriesNames: [\"A\", \"B\", \"C\"])"
   ]
  },
  {
   "cell_type": "code",
   "execution_count": 34,
   "metadata": {},
   "outputs": [
    {
     "data": {
      "application/vnd.jupyter.widget-view+json": {
       "model_id": "5a16b190-f8e6-40b2-bdf6-b1a67a872263",
       "version_major": 2,
       "version_minor": 0
      },
      "method": "display_data"
     },
     "metadata": {},
     "output_type": "display_data"
    }
   ],
   "source": [
    "def cs = [Color.orange]\n",
    "\n",
    "def cp = new CategoryPlot() \n",
    "\n",
    "cp << new CategoryArea(value: [[1, 3, 2]], base: [[0.5, 1, 0]])\n",
    "cp << new CategoryArea(value: [[2, 1, 0.5]],  color: cs)"
   ]
  },
  {
   "cell_type": "code",
   "execution_count": null,
   "metadata": {},
   "outputs": [],
   "source": []
  }
 ],
 "metadata": {
  "anaconda-cloud": {},
  "classpath": [],
  "imports": [],
  "kernelspec": {
   "display_name": "Groovy",
   "language": "groovy",
   "name": "groovy"
  },
  "language_info": {
   "codemirror_mode": "groovy",
   "file_extension": ".groovy",
   "mimetype": "",
   "name": "Groovy",
   "nbconverter_exporter": "",
   "version": "2.4.3"
  },
  "widgets": {
   "application/vnd.jupyter.widget-state+json": {
    "state": {
     "07075306-f40e-42d5-81a3-cdfb647dda07": {
      "model_module": "beakerx",
      "model_module_version": "*",
      "model_name": "PlotModel",
      "state": {
       "model": {
        "categoryNames": [],
        "categoryNamesLabelAngle": 0,
        "category_margin": 0.2,
        "chart_title": null,
        "crosshair": null,
        "custom_styles": [],
        "domain_axis_label": null,
        "element_styles": {},
        "graphics_list": [
         {
          "bases": [
           -1,
           -3
          ],
          "center_series": false,
          "color": null,
          "fill": null,
          "hasClickAction": false,
          "labelPosition": "CENTER",
          "outline": false,
          "outline_color": null,
          "showItemLabel": false,
          "type": "CategoryBars",
          "uid": "2dd82e0d-794e-4c7d-a477-806b7748cc10",
          "use_tool_tip": true,
          "value": [
           [
            1,
            2,
            3
           ],
           [
            4,
            5,
            4
           ]
          ],
          "visible": true,
          "width": null,
          "yAxis": null
         }
        ],
        "init_height": 480,
        "init_width": 640,
        "legend_layout": "VERTICAL",
        "legend_position": {
         "position": "TOP_RIGHT",
         "type": "LegendPosition"
        },
        "log_y": false,
        "numberOfPoints": 0,
        "omit_checkboxes": false,
        "orientation": "VERTICAL",
        "outputPointsLimit": 1000000,
        "outputPointsPreviewNumber": 10000,
        "rangeAxes": [
         {
          "auto_range": true,
          "auto_range_includes_zero": false,
          "label": "",
          "log_base": 10,
          "lower_bound": 0,
          "lower_margin": 0,
          "type": "YAxis",
          "upper_bound": 0,
          "upper_margin": 0,
          "use_log": false
         }
        ],
        "show_legend": null,
        "timezone": null,
        "tips": {},
        "type": "CategoryPlot",
        "use_tool_tip": true,
        "x_lower_margin": 0.05,
        "x_upper_margin": 0.05,
        "y_auto_range": true,
        "y_auto_range_includes_zero": false,
        "y_label": "",
        "y_lower_bound": 0,
        "y_lower_margin": 0,
        "y_upper_bound": 0,
        "y_upper_margin": 0
       }
      }
     },
     "093af78e-a1ae-4ca3-a69f-0aa2a9228a26": {
      "model_module": "beakerx",
      "model_module_version": "*",
      "model_name": "PlotModel",
      "state": {
       "model": {
        "categoryNames": [],
        "categoryNamesLabelAngle": 0,
        "category_margin": 0.2,
        "chart_title": null,
        "crosshair": null,
        "custom_styles": [],
        "domain_axis_label": null,
        "element_styles": {},
        "graphics_list": [
         {
          "base": 0,
          "center_series": false,
          "colors": [
           [
            "#FFFF0000",
            "#FF808080"
           ],
           [
            "#FF808080",
            "#FF808080"
           ],
           [
            "#FF0000FF",
            "#FFFFAFAF"
           ]
          ],
          "fill": null,
          "hasClickAction": false,
          "labelPosition": "CENTER",
          "outline": false,
          "outline_color": null,
          "showItemLabel": false,
          "type": "CategoryBars",
          "uid": "5cfdcd92-9276-476a-843d-86c046f1584d",
          "use_tool_tip": true,
          "value": [
           [
            1,
            2
           ],
           [
            3,
            4
           ],
           [
            5,
            6
           ]
          ],
          "visible": true,
          "width": null,
          "yAxis": null
         }
        ],
        "init_height": 480,
        "init_width": 640,
        "legend_layout": "VERTICAL",
        "legend_position": {
         "position": "TOP_RIGHT",
         "type": "LegendPosition"
        },
        "log_y": false,
        "omit_checkboxes": false,
        "orientation": "VERTICAL",
        "rangeAxes": [
         {
          "auto_range": true,
          "auto_range_includes_zero": false,
          "label": "",
          "log_base": 10,
          "lower_bound": 0,
          "lower_margin": 0,
          "type": "YAxis",
          "upper_bound": 0,
          "upper_margin": 0,
          "use_log": false
         }
        ],
        "show_legend": null,
        "timezone": null,
        "tips": {},
        "type": "CategoryPlot",
        "use_tool_tip": true,
        "x_lower_margin": 0.05,
        "x_upper_margin": 0.05,
        "y_auto_range": true,
        "y_auto_range_includes_zero": false,
        "y_label": "",
        "y_lower_bound": 0,
        "y_lower_margin": 0,
        "y_upper_bound": 0,
        "y_upper_margin": 0
       }
      }
     },
     "097e1eed-b3f2-42fd-b133-440c78ddaa47": {
      "model_module": "beakerx",
      "model_module_version": "*",
      "model_name": "PlotModel",
      "state": {
       "model": {
        "categoryNames": [],
        "categoryNamesLabelAngle": 0,
        "category_margin": 0.2,
        "chart_title": null,
        "crosshair": null,
        "custom_styles": [],
        "domain_axis_label": null,
        "element_styles": {},
        "graphics_list": [
         {
          "bases": [
           [
            0,
            1,
            1
           ],
           [
            -4,
            -5,
            -6
           ]
          ],
          "center_series": false,
          "color": null,
          "fill": null,
          "hasClickAction": false,
          "labelPosition": "CENTER",
          "outline": false,
          "outline_color": null,
          "showItemLabel": false,
          "type": "CategoryBars",
          "uid": "5b3e93d4-68c1-4335-b8a7-614ca5cf8af4",
          "use_tool_tip": true,
          "value": [
           [
            1,
            2,
            3
           ],
           [
            4,
            5,
            6
           ]
          ],
          "visible": true,
          "width": null,
          "yAxis": null
         }
        ],
        "init_height": 480,
        "init_width": 640,
        "legend_layout": "VERTICAL",
        "legend_position": {
         "position": "TOP_RIGHT",
         "type": "LegendPosition"
        },
        "log_y": false,
        "numberOfPoints": 0,
        "omit_checkboxes": false,
        "orientation": "VERTICAL",
        "outputPointsLimit": 1000000,
        "outputPointsPreviewNumber": 10000,
        "rangeAxes": [
         {
          "auto_range": true,
          "auto_range_includes_zero": false,
          "label": "",
          "log_base": 10,
          "lower_bound": 0,
          "lower_margin": 0,
          "type": "YAxis",
          "upper_bound": 0,
          "upper_margin": 0,
          "use_log": false
         }
        ],
        "show_legend": null,
        "timezone": null,
        "tips": {},
        "type": "CategoryPlot",
        "use_tool_tip": true,
        "x_lower_margin": 0.05,
        "x_upper_margin": 0.05,
        "y_auto_range": true,
        "y_auto_range_includes_zero": false,
        "y_label": "",
        "y_lower_bound": 0,
        "y_lower_margin": 0,
        "y_upper_bound": 0,
        "y_upper_margin": 0
       }
      }
     },
     "10ff9cc3-d336-44f5-9eb4-4ec88f8c76b0": {
      "model_module": "beakerx",
      "model_module_version": "*",
      "model_name": "PlotModel",
      "state": {
       "model": {
        "categoryNames": [],
        "categoryNamesLabelAngle": 0,
        "category_margin": 0.2,
        "chart_title": null,
        "crosshair": null,
        "custom_styles": [],
        "domain_axis_label": null,
        "element_styles": {},
        "graphics_list": [
         {
          "base": 0,
          "center_series": false,
          "color": null,
          "fill": null,
          "hasClickAction": false,
          "labelPosition": "CENTER",
          "outline": false,
          "outline_color": null,
          "showItemLabel": false,
          "type": "CategoryBars",
          "uid": "d6ed042a-9903-4a73-ae01-a081ce7efd12",
          "use_tool_tip": true,
          "value": [
           [
            1,
            2,
            3
           ],
           [
            1,
            3,
            5
           ]
          ],
          "visible": true,
          "width": null,
          "yAxis": null
         }
        ],
        "init_height": 480,
        "init_width": 640,
        "legend_layout": "VERTICAL",
        "legend_position": {
         "position": "TOP_RIGHT",
         "type": "LegendPosition"
        },
        "log_y": false,
        "omit_checkboxes": false,
        "orientation": "VERTICAL",
        "rangeAxes": [
         {
          "auto_range": true,
          "auto_range_includes_zero": false,
          "label": "",
          "log_base": 10,
          "lower_bound": 0,
          "lower_margin": 0,
          "type": "YAxis",
          "upper_bound": 0,
          "upper_margin": 0,
          "use_log": false
         }
        ],
        "show_legend": null,
        "timezone": null,
        "tips": {},
        "type": "CategoryPlot",
        "use_tool_tip": true,
        "x_lower_margin": 0.05,
        "x_upper_margin": 0.05,
        "y_auto_range": true,
        "y_auto_range_includes_zero": false,
        "y_label": "",
        "y_lower_bound": 0,
        "y_lower_margin": 0,
        "y_upper_bound": 0,
        "y_upper_margin": 0
       }
      }
     },
     "118a1fe1-523c-4be9-9100-11d527ae864e": {
      "model_module": "beakerx",
      "model_module_version": "*",
      "model_name": "PlotModel",
      "state": {
       "model": {
        "categoryNames": [
         "close",
         "high",
         "low",
         "open"
        ],
        "categoryNamesLabelAngle": 0,
        "category_margin": 0.2,
        "chart_title": null,
        "crosshair": null,
        "custom_styles": [],
        "domain_axis_label": null,
        "element_styles": {},
        "graphics_list": [
         {
          "base": 0,
          "center_series": false,
          "color": null,
          "fill": null,
          "hasClickAction": false,
          "labelPosition": "CENTER",
          "outline": false,
          "outline_color": null,
          "seriesNames": [
           "A",
           "B",
           "C"
          ],
          "showItemLabel": false,
          "type": "CategoryBars",
          "uid": "80065403-5089-4708-9444-0ba7fb6983e3",
          "use_tool_tip": true,
          "value": [
           [
            11.59,
            13.15,
            11.92,
            11.92
           ],
           [
            12.76,
            15.44,
            11.88,
            12.42
           ],
           [
            18.19,
            20.96,
            17.93,
            18.56
           ]
          ],
          "visible": true,
          "width": null,
          "yAxis": null
         }
        ],
        "init_height": 480,
        "init_width": 640,
        "legend_layout": "VERTICAL",
        "legend_position": {
         "position": "TOP_RIGHT",
         "type": "LegendPosition"
        },
        "log_y": false,
        "omit_checkboxes": false,
        "orientation": "VERTICAL",
        "rangeAxes": [
         {
          "auto_range": true,
          "auto_range_includes_zero": false,
          "label": "",
          "log_base": 10,
          "lower_bound": 0,
          "lower_margin": 0,
          "type": "YAxis",
          "upper_bound": 0,
          "upper_margin": 0,
          "use_log": false
         }
        ],
        "show_legend": null,
        "timezone": null,
        "tips": {},
        "type": "CategoryPlot",
        "use_tool_tip": true,
        "x_lower_margin": 0.05,
        "x_upper_margin": 0.05,
        "y_auto_range": true,
        "y_auto_range_includes_zero": false,
        "y_label": "",
        "y_lower_bound": 0,
        "y_lower_margin": 0,
        "y_upper_bound": 0,
        "y_upper_margin": 0
       }
      }
     },
     "125af48c-b40d-4301-b9b5-9acf29d8359c": {
      "model_module": "beakerx",
      "model_module_version": "*",
      "model_name": "PlotModel",
      "state": {
       "model": {
        "categoryNames": [],
        "categoryNamesLabelAngle": 0,
        "category_margin": 0.2,
        "chart_title": null,
        "crosshair": null,
        "custom_styles": [],
        "domain_axis_label": null,
        "element_styles": {},
        "graphics_list": [
         {
          "bases": [
           [
            0.5,
            1,
            0
           ]
          ],
          "center_series": false,
          "color": null,
          "fill": null,
          "hasClickAction": false,
          "labelPosition": "CENTER",
          "outline": false,
          "outline_color": null,
          "showItemLabel": false,
          "type": "CategoryArea",
          "uid": "035834ff-f84e-44fe-9d5a-c255ef55e9ee",
          "use_tool_tip": true,
          "value": [
           [
            1,
            3,
            2
           ]
          ],
          "visible": true,
          "width": null,
          "yAxis": null
         },
         {
          "base": 0,
          "center_series": false,
          "colors": [
           "#FFFFC800"
          ],
          "fill": null,
          "hasClickAction": false,
          "labelPosition": "CENTER",
          "outline": false,
          "outline_color": null,
          "showItemLabel": false,
          "type": "CategoryArea",
          "uid": "3f245364-3ab0-4a9f-80bb-f9fe1b25064f",
          "use_tool_tip": true,
          "value": [
           [
            2,
            1,
            0.5
           ]
          ],
          "visible": true,
          "width": null,
          "yAxis": null
         }
        ],
        "init_height": 480,
        "init_width": 640,
        "legend_layout": "VERTICAL",
        "legend_position": {
         "position": "TOP_RIGHT",
         "type": "LegendPosition"
        },
        "log_y": false,
        "omit_checkboxes": false,
        "orientation": "VERTICAL",
        "rangeAxes": [
         {
          "auto_range": true,
          "auto_range_includes_zero": false,
          "label": "",
          "log_base": 10,
          "lower_bound": 0,
          "lower_margin": 0,
          "type": "YAxis",
          "upper_bound": 0,
          "upper_margin": 0,
          "use_log": false
         }
        ],
        "show_legend": null,
        "timezone": null,
        "tips": {},
        "type": "CategoryPlot",
        "use_tool_tip": true,
        "x_lower_margin": 0.05,
        "x_upper_margin": 0.05,
        "y_auto_range": true,
        "y_auto_range_includes_zero": false,
        "y_label": "",
        "y_lower_bound": 0,
        "y_lower_margin": 0,
        "y_upper_bound": 0,
        "y_upper_margin": 0
       }
      }
     },
     "143bce2d-b3ca-4cc5-bfb6-90a488eda792": {
      "model_module": "beakerx",
      "model_module_version": "*",
      "model_name": "PlotModel",
      "state": {
       "model": {
        "categoryNames": [],
        "categoryNamesLabelAngle": 0,
        "category_margin": 0.2,
        "chart_title": null,
        "crosshair": null,
        "custom_styles": [],
        "domain_axis_label": null,
        "element_styles": {},
        "graphics_list": [
         {
          "base": 0,
          "center_series": false,
          "color": null,
          "fill": null,
          "hasClickAction": false,
          "labelPosition": "CENTER",
          "outline": false,
          "outline_color": null,
          "showItemLabel": false,
          "type": "CategoryBars",
          "uid": "ff6b4d78-68db-4a2f-9768-74a315c005e0",
          "use_tool_tip": true,
          "value": [
           [
            1,
            2,
            3
           ],
           [
            1,
            3,
            5
           ]
          ],
          "visible": true,
          "width": null,
          "yAxis": null
         }
        ],
        "init_height": 480,
        "init_width": 640,
        "legend_layout": "VERTICAL",
        "legend_position": {
         "position": "TOP_RIGHT",
         "type": "LegendPosition"
        },
        "log_y": false,
        "omit_checkboxes": false,
        "orientation": "HORIZONTAL",
        "rangeAxes": [
         {
          "auto_range": true,
          "auto_range_includes_zero": false,
          "label": "",
          "log_base": 10,
          "lower_bound": 0,
          "lower_margin": 0,
          "type": "YAxis",
          "upper_bound": 0,
          "upper_margin": 0,
          "use_log": false
         }
        ],
        "show_legend": null,
        "timezone": null,
        "tips": {},
        "type": "CategoryPlot",
        "use_tool_tip": true,
        "x_lower_margin": 0.05,
        "x_upper_margin": 0.05,
        "y_auto_range": true,
        "y_auto_range_includes_zero": false,
        "y_label": "",
        "y_lower_bound": 0,
        "y_lower_margin": 0,
        "y_upper_bound": 0,
        "y_upper_margin": 0
       }
      }
     },
     "1490cd03-f2a5-4ae1-ab45-667e5064959b": {
      "model_module": "beakerx",
      "model_module_version": "*",
      "model_name": "PlotModel",
      "state": {
       "model": {
        "categoryNames": [],
        "categoryNamesLabelAngle": 0,
        "category_margin": 0.2,
        "chart_title": null,
        "crosshair": null,
        "custom_styles": [],
        "domain_axis_label": null,
        "element_styles": {},
        "graphics_list": [
         {
          "base": 0,
          "center_series": false,
          "color": null,
          "fill": null,
          "hasClickAction": false,
          "labelPosition": "CENTER",
          "outline": false,
          "outline_color": null,
          "showItemLabel": false,
          "type": "CategoryBars",
          "uid": "592946e1-ad21-4d16-8057-3e88a6bd2e64",
          "use_tool_tip": true,
          "value": [
           [
            1,
            2,
            3,
            4,
            2
           ]
          ],
          "visible": true,
          "width": null,
          "yAxis": null
         }
        ],
        "init_height": 480,
        "init_width": 640,
        "legend_layout": "VERTICAL",
        "legend_position": {
         "position": "TOP_RIGHT",
         "type": "LegendPosition"
        },
        "log_y": false,
        "numberOfPoints": 0,
        "omit_checkboxes": false,
        "orientation": "VERTICAL",
        "outputPointsLimit": 1000000,
        "outputPointsPreviewNumber": 10000,
        "rangeAxes": [
         {
          "auto_range": true,
          "auto_range_includes_zero": false,
          "label": "",
          "log_base": 10,
          "lower_bound": 0,
          "lower_margin": 0,
          "type": "YAxis",
          "upper_bound": 0,
          "upper_margin": 0,
          "use_log": false
         }
        ],
        "show_legend": null,
        "timezone": null,
        "tips": {},
        "type": "CategoryPlot",
        "use_tool_tip": true,
        "x_lower_margin": 0.05,
        "x_upper_margin": 0.05,
        "y_auto_range": true,
        "y_auto_range_includes_zero": false,
        "y_label": "",
        "y_lower_bound": 0,
        "y_lower_margin": 0,
        "y_upper_bound": 0,
        "y_upper_margin": 0
       }
      }
     },
     "159bc1fc-a7c3-461e-bd53-eef625c25ae6": {
      "model_module": "beakerx",
      "model_module_version": "*",
      "model_name": "PlotModel",
      "state": {
       "model": {
        "categoryNames": [],
        "categoryNamesLabelAngle": 0,
        "category_margin": 0.2,
        "chart_title": null,
        "crosshair": null,
        "custom_styles": [],
        "domain_axis_label": null,
        "element_styles": {},
        "graphics_list": [
         {
          "base": 0,
          "center_series": false,
          "color": null,
          "fills": [
           [
            true,
            true,
            false
           ],
           [
            true,
            false,
            true
           ]
          ],
          "hasClickAction": false,
          "labelPosition": "CENTER",
          "outline_colors": [
           "#FF000000",
           "#FFFF0000"
          ],
          "outlines": [
           [
            true,
            false,
            true
           ],
           [
            true,
            true,
            false
           ]
          ],
          "showItemLabel": false,
          "type": "CategoryBars",
          "uid": "62006697-7157-45ac-8f2b-563e01610975",
          "use_tool_tip": true,
          "value": [
           [
            1,
            2,
            3
           ],
           [
            4,
            5,
            6
           ]
          ],
          "visible": true,
          "width": null,
          "yAxis": null
         }
        ],
        "init_height": 480,
        "init_width": 640,
        "legend_layout": "VERTICAL",
        "legend_position": {
         "position": "TOP_RIGHT",
         "type": "LegendPosition"
        },
        "log_y": false,
        "numberOfPoints": 0,
        "omit_checkboxes": false,
        "orientation": "VERTICAL",
        "outputPointsLimit": 1000000,
        "outputPointsPreviewNumber": 10000,
        "rangeAxes": [
         {
          "auto_range": true,
          "auto_range_includes_zero": false,
          "label": "",
          "log_base": 10,
          "lower_bound": 0,
          "lower_margin": 0,
          "type": "YAxis",
          "upper_bound": 0,
          "upper_margin": 0,
          "use_log": false
         }
        ],
        "show_legend": null,
        "timezone": null,
        "tips": {},
        "type": "CategoryPlot",
        "use_tool_tip": true,
        "x_lower_margin": 0.05,
        "x_upper_margin": 0.05,
        "y_auto_range": true,
        "y_auto_range_includes_zero": false,
        "y_label": "",
        "y_lower_bound": 0,
        "y_lower_margin": 0,
        "y_upper_bound": 0,
        "y_upper_margin": 0
       }
      }
     },
     "2207b369-b833-4651-9646-39f1a30a4f2e": {
      "model_module": "beakerx",
      "model_module_version": "*",
      "model_name": "PlotModel",
      "state": {
       "model": {
        "categoryNames": [],
        "categoryNamesLabelAngle": 0,
        "category_margin": 0.2,
        "chart_title": null,
        "crosshair": null,
        "custom_styles": [],
        "domain_axis_label": null,
        "element_styles": {},
        "graphics_list": [
         {
          "base": 0,
          "center_series": false,
          "colors": [
           "#FFFFAFAF",
           [
            "#FFFF0000",
            "#FF808080",
            "#FF0000FF"
           ]
          ],
          "fill": null,
          "hasClickAction": false,
          "labelPosition": "CENTER",
          "outline": false,
          "outline_color": null,
          "showItemLabel": false,
          "type": "CategoryBars",
          "uid": "351f4495-5990-4fa9-be4a-390c1e04e0b2",
          "use_tool_tip": true,
          "value": [
           [
            1,
            2,
            3
           ],
           [
            4,
            5,
            6
           ]
          ],
          "visible": true,
          "width": null,
          "yAxis": null
         }
        ],
        "init_height": 480,
        "init_width": 640,
        "legend_layout": "VERTICAL",
        "legend_position": {
         "position": "TOP_RIGHT",
         "type": "LegendPosition"
        },
        "log_y": false,
        "omit_checkboxes": false,
        "orientation": "VERTICAL",
        "rangeAxes": [
         {
          "auto_range": true,
          "auto_range_includes_zero": false,
          "label": "",
          "log_base": 10,
          "lower_bound": 0,
          "lower_margin": 0,
          "type": "YAxis",
          "upper_bound": 0,
          "upper_margin": 0,
          "use_log": false
         }
        ],
        "show_legend": null,
        "timezone": null,
        "tips": {},
        "type": "CategoryPlot",
        "use_tool_tip": true,
        "x_lower_margin": 0.05,
        "x_upper_margin": 0.05,
        "y_auto_range": true,
        "y_auto_range_includes_zero": false,
        "y_label": "",
        "y_lower_bound": 0,
        "y_lower_margin": 0,
        "y_upper_bound": 0,
        "y_upper_margin": 0
       }
      }
     },
     "220b3862-c5aa-499f-8a5d-abd9f7f117da": {
      "model_module": "beakerx",
      "model_module_version": "*",
      "model_name": "PlotModel",
      "state": {
       "model": {
        "categoryNames": [],
        "categoryNamesLabelAngle": 0,
        "category_margin": 0.2,
        "chart_title": null,
        "crosshair": null,
        "custom_styles": [],
        "domain_axis_label": null,
        "element_styles": {},
        "graphics_list": [
         {
          "bases": [
           0,
           [
            1,
            2,
            3
           ],
           [
            4,
            5,
            8
           ]
          ],
          "center_series": true,
          "color": null,
          "fill": null,
          "hasClickAction": false,
          "itemLabels": [
           [
            "1",
            "3",
            "6"
           ],
           [
            "2",
            "3",
            "4"
           ],
           [
            "3",
            "5",
            "2"
           ]
          ],
          "labelPosition": "CENTER",
          "outline": false,
          "outline_color": null,
          "showItemLabel": false,
          "type": "CategoryBars",
          "uid": "c2e106e7-7f8b-4fb4-8aaa-209cc17d51fa",
          "use_tool_tip": true,
          "value": [
           [
            1,
            2,
            3
           ],
           [
            4,
            5,
            8
           ],
           [
            10,
            9,
            10
           ]
          ],
          "visible": true,
          "width": null,
          "yAxis": null
         }
        ],
        "init_height": 480,
        "init_width": 640,
        "legend_layout": "VERTICAL",
        "legend_position": {
         "position": "TOP_RIGHT",
         "type": "LegendPosition"
        },
        "log_y": false,
        "omit_checkboxes": false,
        "orientation": "VERTICAL",
        "rangeAxes": [
         {
          "auto_range": true,
          "auto_range_includes_zero": false,
          "label": "",
          "log_base": 10,
          "lower_bound": 0,
          "lower_margin": 0,
          "type": "YAxis",
          "upper_bound": 0,
          "upper_margin": 0,
          "use_log": false
         }
        ],
        "show_legend": null,
        "timezone": null,
        "tips": {},
        "type": "CategoryPlot",
        "use_tool_tip": true,
        "x_lower_margin": 0.05,
        "x_upper_margin": 0.05,
        "y_auto_range": true,
        "y_auto_range_includes_zero": false,
        "y_label": "",
        "y_lower_bound": 0,
        "y_lower_margin": 0,
        "y_upper_bound": 0,
        "y_upper_margin": 0
       }
      }
     },
     "2c3ac8cb-01ca-4d94-8c88-9e7360aea689": {
      "model_module": "beakerx",
      "model_module_version": "*",
      "model_name": "PlotModel",
      "state": {
       "model": {
        "categoryNames": [
         "Lithium",
         "Sodium",
         "Potassium",
         "Rubidium"
        ],
        "categoryNamesLabelAngle": 0,
        "category_margin": 0.2,
        "chart_title": "Bar Chart Demo",
        "crosshair": null,
        "custom_styles": [],
        "domain_axis_label": "Alkali",
        "element_styles": {},
        "graphics_list": [
         {
          "base": 0,
          "center_series": false,
          "colors": [
           "#FFF79646",
           "#FFFFC800",
           "#FF9BBB59"
          ],
          "fill": null,
          "hasClickAction": false,
          "labelPosition": "CENTER",
          "outline": false,
          "outline_color": null,
          "seriesNames": [
           "Solid",
           "Liquid"
          ],
          "showItemLabel": false,
          "type": "CategoryBars",
          "uid": "82bf27f9-5356-441f-84d2-b5b5b95f660f",
          "use_tool_tip": true,
          "value": [
           [
            10,
            15,
            13,
            7
           ],
           [
            22,
            18,
            28,
            17
           ]
          ],
          "visible": true,
          "width": null,
          "yAxis": null
         },
         {
          "bases": [
           [
            7.6,
            10.5,
            10.9,
            5.8
           ],
           [
            19.7,
            12.7,
            25.9,
            15.8
           ]
          ],
          "center_series": false,
          "color": "#FF9BBB59",
          "hasClickAction": false,
          "showItemLabel": false,
          "style": "SOLID",
          "type": "CategoryStems",
          "uid": "e878b328-ef32-4888-8aeb-eec1da4d385e",
          "use_tool_tip": true,
          "value": [
           [
            12.4,
            19.5,
            15.1,
            8.2
           ],
           [
            24.3,
            23.3,
            30.1,
            18.2
           ]
          ],
          "visible": true,
          "width": 1.5,
          "yAxis": null
         },
         {
          "center_series": false,
          "color": null,
          "fill": null,
          "hasClickAction": false,
          "outline_color": "#FF9BBB59",
          "shape": "DEFAULT",
          "showItemLabel": false,
          "size": 12,
          "type": "CategoryPoints",
          "uid": "89a0103a-feaa-4446-a702-bc1a890f82d3",
          "use_tool_tip": true,
          "value": [
           [
            12.4,
            19.5,
            15.1,
            8.2
           ],
           [
            24.3,
            23.3,
            30.1,
            18.2
           ]
          ],
          "visible": true,
          "yAxis": null
         },
         {
          "center_series": false,
          "color": null,
          "fill": null,
          "hasClickAction": false,
          "outline_color": "#FF9BBB59",
          "shape": "DEFAULT",
          "showItemLabel": false,
          "size": 12,
          "type": "CategoryPoints",
          "uid": "0d128876-7610-4d53-8fe3-91747f67640c",
          "use_tool_tip": true,
          "value": [
           [
            7.6,
            10.5,
            10.9,
            5.8
           ],
           [
            19.7,
            12.7,
            25.9,
            15.8
           ]
          ],
          "visible": true,
          "yAxis": null
         }
        ],
        "init_height": 400,
        "init_width": 500,
        "legend_layout": "VERTICAL",
        "legend_position": {
         "position": "TOP_RIGHT",
         "type": "LegendPosition"
        },
        "log_y": false,
        "numberOfPoints": 0,
        "omit_checkboxes": false,
        "orientation": "VERTICAL",
        "outputPointsLimit": 1000000,
        "outputPointsPreviewNumber": 10000,
        "rangeAxes": [
         {
          "auto_range": true,
          "auto_range_includes_zero": false,
          "label": "Temperature ° Celcius",
          "log_base": 10,
          "lower_bound": 0,
          "lower_margin": 0,
          "type": "YAxis",
          "upper_bound": 0,
          "upper_margin": 0,
          "use_log": false
         }
        ],
        "show_legend": null,
        "timezone": null,
        "tips": {},
        "type": "CategoryPlot",
        "use_tool_tip": true,
        "x_lower_margin": 0.05,
        "x_upper_margin": 0.05,
        "y_auto_range": true,
        "y_auto_range_includes_zero": false,
        "y_label": "Temperature ° Celcius",
        "y_lower_bound": 0,
        "y_lower_margin": 0,
        "y_upper_bound": 0,
        "y_upper_margin": 0
       }
      }
     },
     "2d21f0a5-19ae-432f-8362-3d551a3953eb": {
      "model_module": "beakerx",
      "model_module_version": "*",
      "model_name": "PlotModel",
      "state": {
       "model": {
        "categoryNames": [],
        "categoryNamesLabelAngle": 0,
        "category_margin": 0.2,
        "chart_title": null,
        "crosshair": null,
        "custom_styles": [],
        "domain_axis_label": null,
        "element_styles": {},
        "graphics_list": [
         {
          "base": 0,
          "center_series": false,
          "colors": [
           "#FFFF0000",
           "#FF808080",
           "#FF0000FF"
          ],
          "fill": null,
          "hasClickAction": false,
          "labelPosition": "CENTER",
          "outline": false,
          "outline_color": null,
          "showItemLabel": false,
          "type": "CategoryBars",
          "uid": "332c69d9-4b4d-4e10-9216-aea0ffd1b0c9",
          "use_tool_tip": true,
          "value": [
           [
            1,
            2
           ],
           [
            3,
            4
           ],
           [
            5,
            6
           ]
          ],
          "visible": true,
          "width": null,
          "yAxis": null
         }
        ],
        "init_height": 480,
        "init_width": 640,
        "legend_layout": "VERTICAL",
        "legend_position": {
         "position": "TOP_RIGHT",
         "type": "LegendPosition"
        },
        "log_y": false,
        "numberOfPoints": 0,
        "omit_checkboxes": false,
        "orientation": "VERTICAL",
        "outputPointsLimit": 1000000,
        "outputPointsPreviewNumber": 10000,
        "rangeAxes": [
         {
          "auto_range": true,
          "auto_range_includes_zero": false,
          "label": "",
          "log_base": 10,
          "lower_bound": 0,
          "lower_margin": 0,
          "type": "YAxis",
          "upper_bound": 0,
          "upper_margin": 0,
          "use_log": false
         }
        ],
        "show_legend": null,
        "timezone": null,
        "tips": {},
        "type": "CategoryPlot",
        "use_tool_tip": true,
        "x_lower_margin": 0.05,
        "x_upper_margin": 0.05,
        "y_auto_range": true,
        "y_auto_range_includes_zero": false,
        "y_label": "",
        "y_lower_bound": 0,
        "y_lower_margin": 0,
        "y_upper_bound": 0,
        "y_upper_margin": 0
       }
      }
     },
     "2d316162-446d-4c19-8077-b4f70e1dfe16": {
      "model_module": "beakerx",
      "model_module_version": "*",
      "model_name": "PlotModel",
      "state": {
       "model": {
        "categoryNames": [],
        "categoryNamesLabelAngle": 0,
        "category_margin": 0.2,
        "chart_title": null,
        "crosshair": null,
        "custom_styles": [],
        "domain_axis_label": null,
        "element_styles": {},
        "graphics_list": [
         {
          "base": 0,
          "center_series": false,
          "color": null,
          "fill": null,
          "hasClickAction": false,
          "labelPosition": "CENTER",
          "outline": false,
          "outline_color": null,
          "showItemLabel": false,
          "type": "CategoryBars",
          "uid": "f8977fc1-54ed-4af4-9b24-86940757e7c6",
          "use_tool_tip": true,
          "value": [
           [
            1,
            2,
            3
           ],
           [
            4,
            5,
            6
           ]
          ],
          "visible": true,
          "widths": [
           [
            0.3,
            0.6,
            1.7
           ],
           1
          ],
          "yAxis": null
         }
        ],
        "init_height": 480,
        "init_width": 640,
        "legend_layout": "VERTICAL",
        "legend_position": {
         "position": "TOP_RIGHT",
         "type": "LegendPosition"
        },
        "log_y": false,
        "numberOfPoints": 0,
        "omit_checkboxes": false,
        "orientation": "VERTICAL",
        "outputPointsLimit": 1000000,
        "outputPointsPreviewNumber": 10000,
        "rangeAxes": [
         {
          "auto_range": true,
          "auto_range_includes_zero": false,
          "label": "",
          "log_base": 10,
          "lower_bound": 0,
          "lower_margin": 0,
          "type": "YAxis",
          "upper_bound": 0,
          "upper_margin": 0,
          "use_log": false
         }
        ],
        "show_legend": null,
        "timezone": null,
        "tips": {},
        "type": "CategoryPlot",
        "use_tool_tip": true,
        "x_lower_margin": 0.05,
        "x_upper_margin": 0.05,
        "y_auto_range": true,
        "y_auto_range_includes_zero": false,
        "y_label": "",
        "y_lower_bound": 0,
        "y_lower_margin": 0,
        "y_upper_bound": 0,
        "y_upper_margin": 0
       }
      }
     },
     "35344873-2628-4079-ab7b-700bc3439d54": {
      "model_module": "beakerx",
      "model_module_version": "*",
      "model_name": "PlotModel",
      "state": {
       "model": {
        "categoryNames": [
         "Helium",
         "Neon",
         "Argon"
        ],
        "categoryNamesLabelAngle": 0,
        "category_margin": 0.2,
        "chart_title": null,
        "crosshair": null,
        "custom_styles": [],
        "domain_axis_label": null,
        "element_styles": {},
        "graphics_list": [
         {
          "base": 0,
          "center_series": false,
          "color": null,
          "fill": null,
          "hasClickAction": false,
          "labelPosition": "CENTER",
          "outline": false,
          "outline_color": null,
          "showItemLabel": false,
          "type": "CategoryBars",
          "uid": "3a9140e7-b354-43c3-a249-fe149536ad25",
          "use_tool_tip": true,
          "value": [
           [
            1,
            2,
            3
           ],
           [
            1,
            3,
            5
           ]
          ],
          "visible": true,
          "width": null,
          "yAxis": null
         }
        ],
        "init_height": 480,
        "init_width": 640,
        "legend_layout": "VERTICAL",
        "legend_position": {
         "position": "TOP_RIGHT",
         "type": "LegendPosition"
        },
        "log_y": false,
        "omit_checkboxes": false,
        "orientation": "VERTICAL",
        "rangeAxes": [
         {
          "auto_range": true,
          "auto_range_includes_zero": false,
          "label": "",
          "log_base": 10,
          "lower_bound": 0,
          "lower_margin": 0,
          "type": "YAxis",
          "upper_bound": 0,
          "upper_margin": 0,
          "use_log": false
         }
        ],
        "show_legend": null,
        "timezone": null,
        "tips": {},
        "type": "CategoryPlot",
        "use_tool_tip": true,
        "x_lower_margin": 0.05,
        "x_upper_margin": 0.05,
        "y_auto_range": true,
        "y_auto_range_includes_zero": false,
        "y_label": "",
        "y_lower_bound": 0,
        "y_lower_margin": 0,
        "y_upper_bound": 0,
        "y_upper_margin": 0
       }
      }
     },
     "48fb59d3-7207-4484-8215-67280141fcd9": {
      "model_module": "beakerx",
      "model_module_version": "*",
      "model_name": "PlotModel",
      "state": {
       "model": {
        "categoryNames": [],
        "categoryNamesLabelAngle": 0,
        "category_margin": 0.2,
        "chart_title": null,
        "crosshair": null,
        "custom_styles": [],
        "domain_axis_label": null,
        "element_styles": {},
        "graphics_list": [
         {
          "base": 0,
          "center_series": false,
          "color": null,
          "fill": null,
          "hasClickAction": false,
          "labelPosition": "CENTER",
          "outline": false,
          "outline_color": null,
          "showItemLabel": false,
          "type": "CategoryBars",
          "uid": "75c76437-2e4c-4b1c-aa41-ca4a2b4d6fd6",
          "use_tool_tip": true,
          "value": [
           [
            1,
            2,
            3
           ],
           [
            1,
            3,
            5
           ]
          ],
          "visible": true,
          "width": null,
          "yAxis": null
         }
        ],
        "init_height": 480,
        "init_width": 640,
        "legend_layout": "VERTICAL",
        "legend_position": {
         "position": "TOP_RIGHT",
         "type": "LegendPosition"
        },
        "log_y": false,
        "numberOfPoints": 0,
        "omit_checkboxes": false,
        "orientation": "HORIZONTAL",
        "outputPointsLimit": 1000000,
        "outputPointsPreviewNumber": 10000,
        "rangeAxes": [
         {
          "auto_range": true,
          "auto_range_includes_zero": false,
          "label": "",
          "log_base": 10,
          "lower_bound": 0,
          "lower_margin": 0,
          "type": "YAxis",
          "upper_bound": 0,
          "upper_margin": 0,
          "use_log": false
         }
        ],
        "show_legend": null,
        "timezone": null,
        "tips": {},
        "type": "CategoryPlot",
        "use_tool_tip": true,
        "x_lower_margin": 0.05,
        "x_upper_margin": 0.05,
        "y_auto_range": true,
        "y_auto_range_includes_zero": false,
        "y_label": "",
        "y_lower_bound": 0,
        "y_lower_margin": 0,
        "y_upper_bound": 0,
        "y_upper_margin": 0
       }
      }
     },
     "4c9d663b-5d65-4976-a1cf-d02955787ec3": {
      "model_module": "beakerx",
      "model_module_version": "*",
      "model_name": "PlotModel",
      "state": {
       "model": {
        "categoryNames": [],
        "categoryNamesLabelAngle": 0,
        "category_margin": 0.2,
        "chart_title": null,
        "crosshair": null,
        "custom_styles": [],
        "domain_axis_label": null,
        "element_styles": {},
        "graphics_list": [
         {
          "base": 0,
          "center_series": false,
          "color": null,
          "fill": null,
          "hasClickAction": false,
          "labelPosition": "CENTER",
          "outline": false,
          "outline_color": null,
          "showItemLabel": false,
          "type": "CategoryBars",
          "uid": "2af13aae-0cb9-4354-905d-fb6bea8e72f8",
          "use_tool_tip": true,
          "value": [
           [
            1,
            2,
            3
           ],
           [
            1,
            3,
            5
           ]
          ],
          "visible": true,
          "width": null,
          "yAxis": null
         }
        ],
        "init_height": 480,
        "init_width": 640,
        "legend_layout": "VERTICAL",
        "legend_position": {
         "position": "TOP_RIGHT",
         "type": "LegendPosition"
        },
        "log_y": false,
        "omit_checkboxes": false,
        "orientation": "VERTICAL",
        "rangeAxes": [
         {
          "auto_range": true,
          "auto_range_includes_zero": false,
          "label": "",
          "log_base": 10,
          "lower_bound": 0,
          "lower_margin": 0,
          "type": "YAxis",
          "upper_bound": 0,
          "upper_margin": 0,
          "use_log": false
         }
        ],
        "show_legend": true,
        "timezone": null,
        "tips": {},
        "type": "CategoryPlot",
        "use_tool_tip": true,
        "x_lower_margin": 0.05,
        "x_upper_margin": 0.05,
        "y_auto_range": true,
        "y_auto_range_includes_zero": false,
        "y_label": "",
        "y_lower_bound": 0,
        "y_lower_margin": 0,
        "y_upper_bound": 0,
        "y_upper_margin": 0
       }
      }
     },
     "4f0a0a4c-cc44-4cab-8d45-e53c7c765237": {
      "model_module": "beakerx",
      "model_module_version": "*",
      "model_name": "PlotModel",
      "state": {
       "model": {
        "categoryNames": [],
        "categoryNamesLabelAngle": 0,
        "category_margin": 2,
        "chart_title": null,
        "crosshair": null,
        "custom_styles": [],
        "domain_axis_label": null,
        "element_styles": {},
        "graphics_list": [
         {
          "base": 0,
          "center_series": false,
          "color": null,
          "fill": null,
          "hasClickAction": false,
          "labelPosition": "CENTER",
          "outline": false,
          "outline_color": null,
          "showItemLabel": false,
          "type": "CategoryBars",
          "uid": "b1d063bb-f545-44ac-bd24-03e2d2f8aeb4",
          "use_tool_tip": true,
          "value": [
           [
            1,
            2,
            3
           ],
           [
            4,
            5,
            6
           ]
          ],
          "visible": true,
          "width": null,
          "yAxis": null
         }
        ],
        "init_height": 480,
        "init_width": 640,
        "legend_layout": "VERTICAL",
        "legend_position": {
         "position": "TOP_RIGHT",
         "type": "LegendPosition"
        },
        "log_y": false,
        "numberOfPoints": 0,
        "omit_checkboxes": false,
        "orientation": "VERTICAL",
        "outputPointsLimit": 1000000,
        "outputPointsPreviewNumber": 10000,
        "rangeAxes": [
         {
          "auto_range": true,
          "auto_range_includes_zero": false,
          "label": "",
          "log_base": 10,
          "lower_bound": 0,
          "lower_margin": 0,
          "type": "YAxis",
          "upper_bound": 0,
          "upper_margin": 0,
          "use_log": false
         }
        ],
        "show_legend": null,
        "timezone": null,
        "tips": {},
        "type": "CategoryPlot",
        "use_tool_tip": true,
        "x_lower_margin": 0.05,
        "x_upper_margin": 0.05,
        "y_auto_range": true,
        "y_auto_range_includes_zero": false,
        "y_label": "",
        "y_lower_bound": 0,
        "y_lower_margin": 0,
        "y_upper_bound": 0,
        "y_upper_margin": 0
       }
      }
     },
     "5260b3b3-0e49-45a0-924b-41582aaa5371": {
      "model_module": "beakerx",
      "model_module_version": "*",
      "model_name": "PlotModel",
      "state": {
       "model": {
        "categoryNames": [],
        "categoryNamesLabelAngle": 0,
        "category_margin": 0.2,
        "chart_title": null,
        "crosshair": null,
        "custom_styles": [],
        "domain_axis_label": null,
        "element_styles": {},
        "graphics_list": [
         {
          "base": 0,
          "center_series": false,
          "color": null,
          "fills": [
           [
            true,
            true,
            false
           ],
           [
            true,
            false,
            true
           ]
          ],
          "hasClickAction": false,
          "labelPosition": "CENTER",
          "outline_colors": [
           "#FF000000",
           "#FFFF0000"
          ],
          "outlines": [
           [
            true,
            false,
            true
           ],
           [
            true,
            true,
            false
           ]
          ],
          "showItemLabel": false,
          "type": "CategoryBars",
          "uid": "8484143d-792b-48ee-adce-fa3210f8fd5f",
          "use_tool_tip": true,
          "value": [
           [
            1,
            2,
            3
           ],
           [
            4,
            5,
            6
           ]
          ],
          "visible": true,
          "width": null,
          "yAxis": null
         }
        ],
        "init_height": 480,
        "init_width": 640,
        "legend_layout": "VERTICAL",
        "legend_position": {
         "position": "TOP_RIGHT",
         "type": "LegendPosition"
        },
        "log_y": false,
        "omit_checkboxes": false,
        "orientation": "VERTICAL",
        "rangeAxes": [
         {
          "auto_range": true,
          "auto_range_includes_zero": false,
          "label": "",
          "log_base": 10,
          "lower_bound": 0,
          "lower_margin": 0,
          "type": "YAxis",
          "upper_bound": 0,
          "upper_margin": 0,
          "use_log": false
         }
        ],
        "show_legend": null,
        "timezone": null,
        "tips": {},
        "type": "CategoryPlot",
        "use_tool_tip": true,
        "x_lower_margin": 0.05,
        "x_upper_margin": 0.05,
        "y_auto_range": true,
        "y_auto_range_includes_zero": false,
        "y_label": "",
        "y_lower_bound": 0,
        "y_lower_margin": 0,
        "y_upper_bound": 0,
        "y_upper_margin": 0
       }
      }
     },
     "5a16b190-f8e6-40b2-bdf6-b1a67a872263": {
      "model_module": "beakerx",
      "model_module_version": "*",
      "model_name": "PlotModel",
      "state": {
       "model": {
        "categoryNames": [],
        "categoryNamesLabelAngle": 0,
        "category_margin": 0.2,
        "chart_title": null,
        "crosshair": null,
        "custom_styles": [],
        "domain_axis_label": null,
        "element_styles": {},
        "graphics_list": [
         {
          "bases": [
           [
            0.5,
            1,
            0
           ]
          ],
          "center_series": false,
          "color": null,
          "fill": null,
          "hasClickAction": false,
          "labelPosition": "CENTER",
          "outline": false,
          "outline_color": null,
          "showItemLabel": false,
          "type": "CategoryArea",
          "uid": "b480ac28-c0de-4063-aae8-9fb61a10dc0b",
          "use_tool_tip": true,
          "value": [
           [
            1,
            3,
            2
           ]
          ],
          "visible": true,
          "width": null,
          "yAxis": null
         },
         {
          "base": 0,
          "center_series": false,
          "colors": [
           "#FFFFC800"
          ],
          "fill": null,
          "hasClickAction": false,
          "labelPosition": "CENTER",
          "outline": false,
          "outline_color": null,
          "showItemLabel": false,
          "type": "CategoryArea",
          "uid": "bd3f5ba4-5a74-493f-8248-f453f7263c04",
          "use_tool_tip": true,
          "value": [
           [
            2,
            1,
            0.5
           ]
          ],
          "visible": true,
          "width": null,
          "yAxis": null
         }
        ],
        "init_height": 480,
        "init_width": 640,
        "legend_layout": "VERTICAL",
        "legend_position": {
         "position": "TOP_RIGHT",
         "type": "LegendPosition"
        },
        "log_y": false,
        "numberOfPoints": 0,
        "omit_checkboxes": false,
        "orientation": "VERTICAL",
        "outputPointsLimit": 1000000,
        "outputPointsPreviewNumber": 10000,
        "rangeAxes": [
         {
          "auto_range": true,
          "auto_range_includes_zero": false,
          "label": "",
          "log_base": 10,
          "lower_bound": 0,
          "lower_margin": 0,
          "type": "YAxis",
          "upper_bound": 0,
          "upper_margin": 0,
          "use_log": false
         }
        ],
        "show_legend": null,
        "timezone": null,
        "tips": {},
        "type": "CategoryPlot",
        "use_tool_tip": true,
        "x_lower_margin": 0.05,
        "x_upper_margin": 0.05,
        "y_auto_range": true,
        "y_auto_range_includes_zero": false,
        "y_label": "",
        "y_lower_bound": 0,
        "y_lower_margin": 0,
        "y_upper_bound": 0,
        "y_upper_margin": 0
       }
      }
     },
     "5a1858be-0301-4818-a44c-e263381e73dd": {
      "model_module": "beakerx",
      "model_module_version": "*",
      "model_name": "PlotModel",
      "state": {
       "model": {
        "categoryNames": [],
        "categoryNamesLabelAngle": 0,
        "category_margin": 0.2,
        "chart_title": null,
        "crosshair": null,
        "custom_styles": [],
        "domain_axis_label": null,
        "element_styles": {},
        "graphics_list": [
         {
          "bases": [
           -1,
           -3
          ],
          "center_series": false,
          "color": null,
          "fill": null,
          "hasClickAction": false,
          "labelPosition": "CENTER",
          "outline": false,
          "outline_color": null,
          "showItemLabel": false,
          "type": "CategoryBars",
          "uid": "41b0c412-960b-430f-a8f0-ea1aadc85f01",
          "use_tool_tip": true,
          "value": [
           [
            1,
            2,
            3
           ],
           [
            4,
            5,
            4
           ]
          ],
          "visible": true,
          "width": null,
          "yAxis": null
         }
        ],
        "init_height": 480,
        "init_width": 640,
        "legend_layout": "VERTICAL",
        "legend_position": {
         "position": "TOP_RIGHT",
         "type": "LegendPosition"
        },
        "log_y": false,
        "omit_checkboxes": false,
        "orientation": "VERTICAL",
        "rangeAxes": [
         {
          "auto_range": true,
          "auto_range_includes_zero": false,
          "label": "",
          "log_base": 10,
          "lower_bound": 0,
          "lower_margin": 0,
          "type": "YAxis",
          "upper_bound": 0,
          "upper_margin": 0,
          "use_log": false
         }
        ],
        "show_legend": null,
        "timezone": null,
        "tips": {},
        "type": "CategoryPlot",
        "use_tool_tip": true,
        "x_lower_margin": 0.05,
        "x_upper_margin": 0.05,
        "y_auto_range": true,
        "y_auto_range_includes_zero": false,
        "y_label": "",
        "y_lower_bound": 0,
        "y_lower_margin": 0,
        "y_upper_bound": 0,
        "y_upper_margin": 0
       }
      }
     },
     "5d1a8db8-b889-4490-a307-4bac4672d846": {
      "model_module": "beakerx",
      "model_module_version": "*",
      "model_name": "PlotModel",
      "state": {
       "model": {
        "categoryNames": [],
        "categoryNamesLabelAngle": 0,
        "category_margin": 0.2,
        "chart_title": null,
        "crosshair": null,
        "custom_styles": [],
        "domain_axis_label": null,
        "element_styles": {},
        "graphics_list": [
         {
          "base": 0,
          "center_series": false,
          "color": null,
          "fill": null,
          "hasClickAction": false,
          "labelPosition": "CENTER",
          "outline": false,
          "outline_color": null,
          "showItemLabel": false,
          "type": "CategoryBars",
          "uid": "e45fcd19-b98e-4175-b444-378fc7be291c",
          "use_tool_tip": true,
          "value": [
           [
            1,
            2,
            3
           ],
           [
            1,
            3,
            5
           ]
          ],
          "visible": true,
          "width": null,
          "yAxis": null
         }
        ],
        "init_height": 200,
        "init_width": 400,
        "legend_layout": "VERTICAL",
        "legend_position": {
         "position": "TOP_RIGHT",
         "type": "LegendPosition"
        },
        "log_y": false,
        "numberOfPoints": 0,
        "omit_checkboxes": false,
        "orientation": "VERTICAL",
        "outputPointsLimit": 1000000,
        "outputPointsPreviewNumber": 10000,
        "rangeAxes": [
         {
          "auto_range": true,
          "auto_range_includes_zero": false,
          "label": "",
          "log_base": 10,
          "lower_bound": 0,
          "lower_margin": 0,
          "type": "YAxis",
          "upper_bound": 0,
          "upper_margin": 0,
          "use_log": false
         }
        ],
        "show_legend": null,
        "timezone": null,
        "tips": {},
        "type": "CategoryPlot",
        "use_tool_tip": true,
        "x_lower_margin": 0.05,
        "x_upper_margin": 0.05,
        "y_auto_range": true,
        "y_auto_range_includes_zero": false,
        "y_label": "",
        "y_lower_bound": 0,
        "y_lower_margin": 0,
        "y_upper_bound": 0,
        "y_upper_margin": 0
       }
      }
     },
     "5f549640-0c41-4c54-8edd-c528cea805e6": {
      "model_module": "beakerx",
      "model_module_version": "*",
      "model_name": "PlotModel",
      "state": {
       "model": {
        "categoryNames": [],
        "categoryNamesLabelAngle": 0,
        "category_margin": 0.2,
        "chart_title": null,
        "crosshair": null,
        "custom_styles": [],
        "domain_axis_label": null,
        "element_styles": {},
        "graphics_list": [
         {
          "center_series": false,
          "color": null,
          "fill": null,
          "hasClickAction": false,
          "outline_color": null,
          "shape": "DEFAULT",
          "showItemLabel": false,
          "size": 6,
          "type": "CategoryPoints",
          "uid": "3e2f9862-1478-47da-824c-288b1423b10c",
          "use_tool_tip": true,
          "value": [
           [
            1,
            2,
            4
           ],
           [
            4,
            5,
            8
           ]
          ],
          "visible": true,
          "yAxis": null
         }
        ],
        "init_height": 480,
        "init_width": 640,
        "legend_layout": "VERTICAL",
        "legend_position": {
         "position": "TOP_RIGHT",
         "type": "LegendPosition"
        },
        "log_y": false,
        "omit_checkboxes": false,
        "orientation": "VERTICAL",
        "rangeAxes": [
         {
          "auto_range": true,
          "auto_range_includes_zero": false,
          "label": "",
          "log_base": 10,
          "lower_bound": 0,
          "lower_margin": 0,
          "type": "YAxis",
          "upper_bound": 0,
          "upper_margin": 0,
          "use_log": false
         }
        ],
        "show_legend": null,
        "timezone": null,
        "tips": {},
        "type": "CategoryPlot",
        "use_tool_tip": true,
        "x_lower_margin": 0.05,
        "x_upper_margin": 0.05,
        "y_auto_range": true,
        "y_auto_range_includes_zero": false,
        "y_label": "",
        "y_lower_bound": 0,
        "y_lower_margin": 0,
        "y_upper_bound": 0,
        "y_upper_margin": 0
       }
      }
     },
     "64c996c8-def3-4fe4-936a-fbcec3d1c5d9": {
      "model_module": "beakerx",
      "model_module_version": "*",
      "model_name": "PlotModel",
      "state": {
       "model": {
        "categoryNames": [],
        "categoryNamesLabelAngle": 0,
        "category_margin": 0.2,
        "chart_title": null,
        "crosshair": null,
        "custom_styles": [],
        "domain_axis_label": null,
        "element_styles": {},
        "graphics_list": [
         {
          "base": 0,
          "center_series": false,
          "colors": [
           "#FFFFAFAF",
           [
            "#FFFF0000",
            "#FF808080",
            "#FF0000FF"
           ]
          ],
          "fill": null,
          "hasClickAction": false,
          "labelPosition": "CENTER",
          "outline": false,
          "outline_color": null,
          "showItemLabel": false,
          "type": "CategoryBars",
          "uid": "17345c55-f469-492b-bbd5-2eabcb47207c",
          "use_tool_tip": true,
          "value": [
           [
            1,
            2,
            3
           ],
           [
            4,
            5,
            6
           ]
          ],
          "visible": true,
          "width": null,
          "yAxis": null
         }
        ],
        "init_height": 480,
        "init_width": 640,
        "legend_layout": "VERTICAL",
        "legend_position": {
         "position": "TOP_RIGHT",
         "type": "LegendPosition"
        },
        "log_y": false,
        "numberOfPoints": 0,
        "omit_checkboxes": false,
        "orientation": "VERTICAL",
        "outputPointsLimit": 1000000,
        "outputPointsPreviewNumber": 10000,
        "rangeAxes": [
         {
          "auto_range": true,
          "auto_range_includes_zero": false,
          "label": "",
          "log_base": 10,
          "lower_bound": 0,
          "lower_margin": 0,
          "type": "YAxis",
          "upper_bound": 0,
          "upper_margin": 0,
          "use_log": false
         }
        ],
        "show_legend": null,
        "timezone": null,
        "tips": {},
        "type": "CategoryPlot",
        "use_tool_tip": true,
        "x_lower_margin": 0.05,
        "x_upper_margin": 0.05,
        "y_auto_range": true,
        "y_auto_range_includes_zero": false,
        "y_label": "",
        "y_lower_bound": 0,
        "y_lower_margin": 0,
        "y_upper_bound": 0,
        "y_upper_margin": 0
       }
      }
     },
     "66f05e41-08bf-4796-aeda-26bdd30c348f": {
      "model_module": "beakerx",
      "model_module_version": "*",
      "model_name": "PlotModel",
      "state": {
       "model": {
        "categoryNames": [],
        "categoryNamesLabelAngle": 0,
        "category_margin": 0.2,
        "chart_title": null,
        "crosshair": null,
        "custom_styles": [],
        "domain_axis_label": null,
        "element_styles": {},
        "graphics_list": [
         {
          "base": -2,
          "center_series": false,
          "color": null,
          "fill": null,
          "hasClickAction": false,
          "labelPosition": "CENTER",
          "outline": false,
          "outline_color": null,
          "showItemLabel": false,
          "type": "CategoryBars",
          "uid": "6f52f208-34a4-41d6-a710-c5f2990a1fb5",
          "use_tool_tip": true,
          "value": [
           [
            1,
            2,
            3
           ],
           [
            4,
            5,
            6
           ]
          ],
          "visible": true,
          "width": null,
          "yAxis": null
         }
        ],
        "init_height": 480,
        "init_width": 640,
        "legend_layout": "VERTICAL",
        "legend_position": {
         "position": "TOP_RIGHT",
         "type": "LegendPosition"
        },
        "log_y": false,
        "numberOfPoints": 0,
        "omit_checkboxes": false,
        "orientation": "VERTICAL",
        "outputPointsLimit": 1000000,
        "outputPointsPreviewNumber": 10000,
        "rangeAxes": [
         {
          "auto_range": true,
          "auto_range_includes_zero": false,
          "label": "",
          "log_base": 10,
          "lower_bound": 0,
          "lower_margin": 0,
          "type": "YAxis",
          "upper_bound": 0,
          "upper_margin": 0,
          "use_log": false
         }
        ],
        "show_legend": null,
        "timezone": null,
        "tips": {},
        "type": "CategoryPlot",
        "use_tool_tip": true,
        "x_lower_margin": 0.05,
        "x_upper_margin": 0.05,
        "y_auto_range": true,
        "y_auto_range_includes_zero": false,
        "y_label": "",
        "y_lower_bound": 0,
        "y_lower_margin": 0,
        "y_upper_bound": 0,
        "y_upper_margin": 0
       }
      }
     },
     "6faafab7-217d-4568-bc6d-4df25183940d": {
      "model_module": "beakerx",
      "model_module_version": "*",
      "model_name": "PlotModel",
      "state": {
       "model": {
        "categoryNames": [],
        "categoryNamesLabelAngle": 0,
        "category_margin": 0.2,
        "chart_title": null,
        "crosshair": null,
        "custom_styles": [],
        "domain_axis_label": null,
        "element_styles": {},
        "graphics_list": [
         {
          "base": 0,
          "center_series": false,
          "colors": [
           "#FFFF0000",
           "#FF808080",
           "#FF0000FF"
          ],
          "fill": null,
          "hasClickAction": false,
          "labelPosition": "CENTER",
          "outline": false,
          "outline_color": null,
          "showItemLabel": false,
          "type": "CategoryBars",
          "uid": "9439eb98-5517-4aa9-af06-3d31446c2e9c",
          "use_tool_tip": true,
          "value": [
           [
            1,
            2
           ],
           [
            3,
            4
           ],
           [
            5,
            6
           ]
          ],
          "visible": true,
          "width": null,
          "yAxis": null
         }
        ],
        "init_height": 480,
        "init_width": 640,
        "legend_layout": "VERTICAL",
        "legend_position": {
         "position": "TOP_RIGHT",
         "type": "LegendPosition"
        },
        "log_y": false,
        "omit_checkboxes": false,
        "orientation": "VERTICAL",
        "rangeAxes": [
         {
          "auto_range": true,
          "auto_range_includes_zero": false,
          "label": "",
          "log_base": 10,
          "lower_bound": 0,
          "lower_margin": 0,
          "type": "YAxis",
          "upper_bound": 0,
          "upper_margin": 0,
          "use_log": false
         }
        ],
        "show_legend": null,
        "timezone": null,
        "tips": {},
        "type": "CategoryPlot",
        "use_tool_tip": true,
        "x_lower_margin": 0.05,
        "x_upper_margin": 0.05,
        "y_auto_range": true,
        "y_auto_range_includes_zero": false,
        "y_label": "",
        "y_lower_bound": 0,
        "y_lower_margin": 0,
        "y_upper_bound": 0,
        "y_upper_margin": 0
       }
      }
     },
     "75f43bb3-3d7e-420f-8360-d80552eea5af": {
      "model_module": "beakerx",
      "model_module_version": "*",
      "model_name": "PlotModel",
      "state": {
       "model": {
        "categoryNames": [],
        "categoryNamesLabelAngle": 0,
        "category_margin": 0.2,
        "chart_title": null,
        "crosshair": null,
        "custom_styles": [],
        "domain_axis_label": null,
        "element_styles": {},
        "graphics_list": [
         {
          "base": 0,
          "center_series": false,
          "color": null,
          "fill": null,
          "hasClickAction": false,
          "labelPosition": "CENTER",
          "outline": false,
          "outline_color": null,
          "showItemLabel": false,
          "type": "CategoryBars",
          "uid": "74d71986-aebb-41a8-a429-9abb10351955",
          "use_tool_tip": true,
          "value": [
           [
            1,
            2,
            3,
            4,
            2
           ]
          ],
          "visible": true,
          "width": null,
          "yAxis": null
         }
        ],
        "init_height": 480,
        "init_width": 640,
        "legend_layout": "VERTICAL",
        "legend_position": {
         "position": "TOP_RIGHT",
         "type": "LegendPosition"
        },
        "log_y": false,
        "omit_checkboxes": false,
        "orientation": "VERTICAL",
        "rangeAxes": [
         {
          "auto_range": true,
          "auto_range_includes_zero": false,
          "label": "",
          "log_base": 10,
          "lower_bound": 0,
          "lower_margin": 0,
          "type": "YAxis",
          "upper_bound": 0,
          "upper_margin": 0,
          "use_log": false
         }
        ],
        "show_legend": null,
        "timezone": null,
        "tips": {},
        "type": "CategoryPlot",
        "use_tool_tip": true,
        "x_lower_margin": 0.05,
        "x_upper_margin": 0.05,
        "y_auto_range": true,
        "y_auto_range_includes_zero": false,
        "y_label": "",
        "y_lower_bound": 0,
        "y_lower_margin": 0,
        "y_upper_bound": 0,
        "y_upper_margin": 0
       }
      }
     },
     "7699b046-0c05-442f-9b17-f2ba4c505d3d": {
      "model_module": "beakerx",
      "model_module_version": "*",
      "model_name": "PlotModel",
      "state": {
       "model": {
        "categoryNames": [],
        "categoryNamesLabelAngle": 0,
        "category_margin": 0.2,
        "chart_title": null,
        "crosshair": null,
        "custom_styles": [],
        "domain_axis_label": null,
        "element_styles": {},
        "graphics_list": [
         {
          "base": 0,
          "center_series": false,
          "color": null,
          "fill": null,
          "hasClickAction": false,
          "labelPosition": "CENTER",
          "outline": false,
          "outline_color": null,
          "showItemLabel": true,
          "type": "CategoryBars",
          "uid": "a28bffa2-818b-4810-a769-df0a48c195b1",
          "use_tool_tip": true,
          "value": [
           [
            -5,
            2,
            3
           ],
           [
            1,
            3,
            5
           ]
          ],
          "visible": true,
          "width": null,
          "yAxis": null
         }
        ],
        "init_height": 480,
        "init_width": 640,
        "legend_layout": "VERTICAL",
        "legend_position": {
         "position": "TOP_RIGHT",
         "type": "LegendPosition"
        },
        "log_y": false,
        "numberOfPoints": 0,
        "omit_checkboxes": false,
        "orientation": "VERTICAL",
        "outputPointsLimit": 1000000,
        "outputPointsPreviewNumber": 10000,
        "rangeAxes": [
         {
          "auto_range": true,
          "auto_range_includes_zero": false,
          "label": "",
          "log_base": 10,
          "lower_bound": 0,
          "lower_margin": 0,
          "type": "YAxis",
          "upper_bound": 0,
          "upper_margin": 0,
          "use_log": false
         }
        ],
        "show_legend": null,
        "timezone": null,
        "tips": {},
        "type": "CategoryPlot",
        "use_tool_tip": true,
        "x_lower_margin": 0.05,
        "x_upper_margin": 0.05,
        "y_auto_range": true,
        "y_auto_range_includes_zero": false,
        "y_label": "",
        "y_lower_bound": 0,
        "y_lower_margin": 0,
        "y_upper_bound": 0,
        "y_upper_margin": 0
       }
      }
     },
     "78161292-fabb-471e-bff3-ef35fe4bda0a": {
      "model_module": "beakerx",
      "model_module_version": "*",
      "model_name": "PlotModel",
      "state": {
       "model": {
        "categoryNames": [],
        "categoryNamesLabelAngle": 0,
        "category_margin": 0.2,
        "chart_title": null,
        "crosshair": null,
        "custom_styles": [],
        "domain_axis_label": null,
        "element_styles": {},
        "graphics_list": [
         {
          "bases": [
           0,
           [
            1,
            2,
            3
           ],
           [
            4,
            5,
            8
           ]
          ],
          "center_series": true,
          "color": null,
          "fill": null,
          "hasClickAction": false,
          "itemLabels": [
           [
            "1",
            "3",
            "6"
           ],
           [
            "2",
            "3",
            "4"
           ],
           [
            "3",
            "5",
            "2"
           ]
          ],
          "labelPosition": "CENTER",
          "outline": false,
          "outline_color": null,
          "showItemLabel": false,
          "type": "CategoryBars",
          "uid": "e1fbfbbf-e2ca-4726-b743-4a9a7ae71067",
          "use_tool_tip": true,
          "value": [
           [
            1,
            2,
            3
           ],
           [
            4,
            5,
            8
           ],
           [
            10,
            9,
            10
           ]
          ],
          "visible": true,
          "width": null,
          "yAxis": null
         }
        ],
        "init_height": 480,
        "init_width": 640,
        "legend_layout": "VERTICAL",
        "legend_position": {
         "position": "TOP_RIGHT",
         "type": "LegendPosition"
        },
        "log_y": false,
        "numberOfPoints": 0,
        "omit_checkboxes": false,
        "orientation": "VERTICAL",
        "outputPointsLimit": 1000000,
        "outputPointsPreviewNumber": 10000,
        "rangeAxes": [
         {
          "auto_range": true,
          "auto_range_includes_zero": false,
          "label": "",
          "log_base": 10,
          "lower_bound": 0,
          "lower_margin": 0,
          "type": "YAxis",
          "upper_bound": 0,
          "upper_margin": 0,
          "use_log": false
         }
        ],
        "show_legend": null,
        "timezone": null,
        "tips": {},
        "type": "CategoryPlot",
        "use_tool_tip": true,
        "x_lower_margin": 0.05,
        "x_upper_margin": 0.05,
        "y_auto_range": true,
        "y_auto_range_includes_zero": false,
        "y_label": "",
        "y_lower_bound": 0,
        "y_lower_margin": 0,
        "y_upper_bound": 0,
        "y_upper_margin": 0
       }
      }
     },
     "7a10c506-cc2a-4293-a1e7-1e1a6de90930": {
      "model_module": "beakerx",
      "model_module_version": "*",
      "model_name": "PlotModel",
      "state": {
       "model": {
        "categoryNames": [
         "Helium",
         "Neon",
         "Argon"
        ],
        "categoryNamesLabelAngle": 0,
        "category_margin": 0.2,
        "chart_title": null,
        "crosshair": null,
        "custom_styles": [],
        "domain_axis_label": null,
        "element_styles": {},
        "graphics_list": [
         {
          "base": 0,
          "center_series": false,
          "color": null,
          "fill": null,
          "hasClickAction": false,
          "labelPosition": "CENTER",
          "outline": false,
          "outline_color": null,
          "showItemLabel": false,
          "type": "CategoryBars",
          "uid": "ba1115d7-33ee-4b73-a1b0-f691828acc99",
          "use_tool_tip": true,
          "value": [
           [
            1,
            2,
            3
           ],
           [
            1,
            3,
            5
           ]
          ],
          "visible": true,
          "width": null,
          "yAxis": null
         }
        ],
        "init_height": 480,
        "init_width": 640,
        "legend_layout": "VERTICAL",
        "legend_position": {
         "position": "TOP_RIGHT",
         "type": "LegendPosition"
        },
        "log_y": false,
        "numberOfPoints": 0,
        "omit_checkboxes": false,
        "orientation": "VERTICAL",
        "outputPointsLimit": 1000000,
        "outputPointsPreviewNumber": 10000,
        "rangeAxes": [
         {
          "auto_range": true,
          "auto_range_includes_zero": false,
          "label": "",
          "log_base": 10,
          "lower_bound": 0,
          "lower_margin": 0,
          "type": "YAxis",
          "upper_bound": 0,
          "upper_margin": 0,
          "use_log": false
         }
        ],
        "show_legend": null,
        "timezone": null,
        "tips": {},
        "type": "CategoryPlot",
        "use_tool_tip": true,
        "x_lower_margin": 0.05,
        "x_upper_margin": 0.05,
        "y_auto_range": true,
        "y_auto_range_includes_zero": false,
        "y_label": "",
        "y_lower_bound": 0,
        "y_lower_margin": 0,
        "y_upper_bound": 0,
        "y_upper_margin": 0
       }
      }
     },
     "7f43653f-0a13-4217-90b6-8740830aacad": {
      "model_module": "beakerx",
      "model_module_version": "*",
      "model_name": "PlotModel",
      "state": {
       "model": {
        "categoryNames": [],
        "categoryNamesLabelAngle": 0,
        "category_margin": 0.2,
        "chart_title": null,
        "crosshair": null,
        "custom_styles": [],
        "domain_axis_label": null,
        "element_styles": {},
        "graphics_list": [
         {
          "center_series": true,
          "color": null,
          "hasClickAction": false,
          "showItemLabel": false,
          "style": "SOLID",
          "type": "CategoryLines",
          "uid": "bad8e33c-51da-45bf-a124-b7a4ab7a2735",
          "use_tool_tip": true,
          "value": [
           [
            1,
            2,
            4
           ],
           [
            4,
            5,
            8
           ]
          ],
          "visible": true,
          "width": 1.5,
          "yAxis": null
         },
         {
          "center_series": true,
          "color": null,
          "fill": null,
          "hasClickAction": false,
          "outline_color": null,
          "shape": "DEFAULT",
          "showItemLabel": false,
          "size": 6,
          "type": "CategoryPoints",
          "uid": "50fde3e3-8fc2-4ef3-8d79-30637552a604",
          "use_tool_tip": true,
          "value": [
           [
            1,
            2,
            4
           ],
           [
            4,
            5,
            8
           ]
          ],
          "visible": true,
          "yAxis": null
         },
         {
          "bases": [
           [
            4,
            5,
            8
           ]
          ],
          "center_series": false,
          "color": "#FF808080",
          "hasClickAction": false,
          "showItemLabel": false,
          "style": "DOT",
          "type": "CategoryStems",
          "uid": "f5152b16-7a9c-4339-9b50-f3a54ded3165",
          "use_tool_tip": true,
          "value": [
           [
            1,
            2,
            4
           ]
          ],
          "visible": true,
          "width": 1.5,
          "yAxis": null
         }
        ],
        "init_height": 480,
        "init_width": 640,
        "legend_layout": "VERTICAL",
        "legend_position": {
         "position": "TOP_RIGHT",
         "type": "LegendPosition"
        },
        "log_y": false,
        "omit_checkboxes": false,
        "orientation": "VERTICAL",
        "rangeAxes": [
         {
          "auto_range": true,
          "auto_range_includes_zero": false,
          "label": "",
          "log_base": 10,
          "lower_bound": 0,
          "lower_margin": 0,
          "type": "YAxis",
          "upper_bound": 0,
          "upper_margin": 0,
          "use_log": false
         }
        ],
        "show_legend": null,
        "timezone": null,
        "tips": {},
        "type": "CategoryPlot",
        "use_tool_tip": true,
        "x_lower_margin": 0.05,
        "x_upper_margin": 0.05,
        "y_auto_range": true,
        "y_auto_range_includes_zero": false,
        "y_label": "",
        "y_lower_bound": 0,
        "y_lower_margin": 0,
        "y_upper_bound": 0,
        "y_upper_margin": 0
       }
      }
     },
     "8195ffab-d565-4776-b0a0-8a9087551d8b": {
      "model_module": "beakerx",
      "model_module_version": "*",
      "model_name": "PlotModel",
      "state": {
       "model": {
        "categoryNames": [],
        "categoryNamesLabelAngle": 0,
        "category_margin": 0.2,
        "chart_title": null,
        "crosshair": null,
        "custom_styles": [],
        "domain_axis_label": null,
        "element_styles": {},
        "graphics_list": [
         {
          "base": 0,
          "center_series": false,
          "color": null,
          "fill": null,
          "hasClickAction": false,
          "labelPosition": "CENTER",
          "outline": false,
          "outline_color": null,
          "seriesNames": [
           "Gas",
           null,
           "",
           "Liquid"
          ],
          "showItemLabel": false,
          "type": "CategoryBars",
          "uid": "4a6c4bc3-aac8-42f3-9847-674747ab24cb",
          "use_tool_tip": true,
          "value": [
           [
            1,
            2
           ],
           [
            3,
            4
           ],
           [
            5,
            6
           ],
           [
            7,
            8
           ]
          ],
          "visible": true,
          "width": null,
          "yAxis": null
         }
        ],
        "init_height": 480,
        "init_width": 640,
        "legend_layout": "VERTICAL",
        "legend_position": {
         "position": "TOP_RIGHT",
         "type": "LegendPosition"
        },
        "log_y": false,
        "omit_checkboxes": false,
        "orientation": "VERTICAL",
        "rangeAxes": [
         {
          "auto_range": true,
          "auto_range_includes_zero": false,
          "label": "",
          "log_base": 10,
          "lower_bound": 0,
          "lower_margin": 0,
          "type": "YAxis",
          "upper_bound": 0,
          "upper_margin": 0,
          "use_log": false
         }
        ],
        "show_legend": null,
        "timezone": null,
        "tips": {},
        "type": "CategoryPlot",
        "use_tool_tip": true,
        "x_lower_margin": 0.05,
        "x_upper_margin": 0.05,
        "y_auto_range": true,
        "y_auto_range_includes_zero": false,
        "y_label": "",
        "y_lower_bound": 0,
        "y_lower_margin": 0,
        "y_upper_bound": 0,
        "y_upper_margin": 0
       }
      }
     },
     "829a6c23-8e10-4c77-9b42-048a30090b8d": {
      "model_module": "beakerx",
      "model_module_version": "*",
      "model_name": "PlotModel",
      "state": {
       "model": {
        "categoryNames": [
         "Q1",
         "Q2",
         "Q3",
         "Q4"
        ],
        "categoryNamesLabelAngle": 0,
        "category_margin": 0.2,
        "chart_title": "Multiple Y Axes Demo",
        "crosshair": null,
        "custom_styles": [],
        "domain_axis_label": null,
        "element_styles": {},
        "graphics_list": [
         {
          "base": 0,
          "center_series": false,
          "color": "#FFFFAFAF",
          "fill": null,
          "hasClickAction": false,
          "labelPosition": "VALUE_INSIDE",
          "outline": false,
          "outline_color": null,
          "showItemLabel": true,
          "type": "CategoryBars",
          "uid": "8fe53c22-4484-4c34-92c9-cf7c320627bc",
          "use_tool_tip": true,
          "value": [
           [
            1500,
            2200,
            2500,
            4000
           ]
          ],
          "visible": true,
          "width": 0.6000000238418579,
          "yAxis": "Volume"
         },
         {
          "center_series": false,
          "color": "#FF808080",
          "hasClickAction": false,
          "showItemLabel": true,
          "style": "SOLID",
          "type": "CategoryLines",
          "uid": "9a216ce5-49dd-4762-96f3-0c7a44051769",
          "use_tool_tip": true,
          "value": [
           [
            5,
            2,
            3.5,
            4
           ]
          ],
          "visible": true,
          "width": 1.5,
          "yAxis": null
         },
         {
          "center_series": false,
          "color": "#FF808080",
          "fill": null,
          "hasClickAction": false,
          "outline_color": null,
          "shape": "DEFAULT",
          "showItemLabel": false,
          "size": 6,
          "type": "CategoryPoints",
          "uid": "bda6920d-e87e-4719-896f-952f149a3467",
          "use_tool_tip": true,
          "value": [
           [
            5,
            2,
            3.5,
            4
           ]
          ],
          "visible": true,
          "yAxis": null
         }
        ],
        "init_height": 480,
        "init_width": 640,
        "legend_layout": "VERTICAL",
        "legend_position": {
         "position": "TOP_RIGHT",
         "type": "LegendPosition"
        },
        "log_y": false,
        "omit_checkboxes": false,
        "orientation": "VERTICAL",
        "rangeAxes": [
         {
          "auto_range": true,
          "auto_range_includes_zero": false,
          "label": "Price",
          "log_base": 10,
          "lower_bound": 0,
          "lower_margin": 0,
          "type": "YAxis",
          "upper_bound": 0,
          "upper_margin": 0,
          "use_log": false
         },
         {
          "auto_range": true,
          "auto_range_includes_zero": false,
          "label": "Volume",
          "log_base": 10,
          "lower_bound": 0,
          "lower_margin": 0,
          "type": "YAxis",
          "upper_bound": 0,
          "upper_margin": 1,
          "use_log": false
         }
        ],
        "show_legend": null,
        "timezone": null,
        "tips": {},
        "type": "CategoryPlot",
        "use_tool_tip": true,
        "x_lower_margin": 0.05,
        "x_upper_margin": 0.05,
        "y_auto_range": true,
        "y_auto_range_includes_zero": false,
        "y_label": "Price",
        "y_lower_bound": 0,
        "y_lower_margin": 0,
        "y_upper_bound": 0,
        "y_upper_margin": 0
       }
      }
     },
     "845b7afd-5333-4f0d-8575-2ce66fb0cc34": {
      "model_module": "beakerx",
      "model_module_version": "*",
      "model_name": "PlotModel",
      "state": {
       "model": {
        "categoryNames": [],
        "categoryNamesLabelAngle": 0,
        "category_margin": 0.2,
        "chart_title": null,
        "crosshair": null,
        "custom_styles": [],
        "domain_axis_label": null,
        "element_styles": {},
        "graphics_list": [
         {
          "base": 0,
          "center_series": false,
          "color": null,
          "fill": null,
          "hasClickAction": false,
          "labelPosition": "CENTER",
          "outline": false,
          "outline_color": null,
          "showItemLabel": false,
          "type": "CategoryBars",
          "uid": "faa6e776-891e-49df-b6d9-c59b97dbf0e6",
          "use_tool_tip": true,
          "value": [
           [
            1,
            1
           ],
           [
            2,
            3
           ],
           [
            3,
            5
           ]
          ],
          "visible": true,
          "width": null,
          "yAxis": null
         }
        ],
        "init_height": 480,
        "init_width": 640,
        "legend_layout": "VERTICAL",
        "legend_position": {
         "position": "TOP_RIGHT",
         "type": "LegendPosition"
        },
        "log_y": false,
        "numberOfPoints": 0,
        "omit_checkboxes": false,
        "orientation": "VERTICAL",
        "outputPointsLimit": 1000000,
        "outputPointsPreviewNumber": 10000,
        "rangeAxes": [
         {
          "auto_range": true,
          "auto_range_includes_zero": false,
          "label": "",
          "log_base": 10,
          "lower_bound": 0,
          "lower_margin": 0,
          "type": "YAxis",
          "upper_bound": 0,
          "upper_margin": 0,
          "use_log": false
         }
        ],
        "show_legend": null,
        "timezone": null,
        "tips": {},
        "type": "CategoryPlot",
        "use_tool_tip": true,
        "x_lower_margin": 0.05,
        "x_upper_margin": 0.05,
        "y_auto_range": true,
        "y_auto_range_includes_zero": false,
        "y_label": "",
        "y_lower_bound": 0,
        "y_lower_margin": 0,
        "y_upper_bound": 0,
        "y_upper_margin": 0
       }
      }
     },
     "8c5cef2a-9a5c-47b1-95f0-88efa7b4df9e": {
      "model_module": "beakerx",
      "model_module_version": "*",
      "model_name": "PlotModel",
      "state": {
       "model": {
        "categoryNames": [],
        "categoryNamesLabelAngle": 0,
        "category_margin": 0.2,
        "chart_title": null,
        "crosshair": null,
        "custom_styles": [],
        "domain_axis_label": null,
        "element_styles": {},
        "graphics_list": [
         {
          "base": null,
          "center_series": false,
          "colors": [
           "#FF000000",
           "#FFFF0000"
          ],
          "hasClickAction": false,
          "showItemLabel": false,
          "styles": [
           "DASH",
           "LONGDASH"
          ],
          "type": "CategoryStems",
          "uid": "d22c7ee0-8240-42f1-8693-cf0ad6480278",
          "use_tool_tip": true,
          "value": [
           [
            1,
            2,
            4
           ],
           [
            4,
            5,
            8
           ]
          ],
          "visible": true,
          "width": 1.5,
          "yAxis": null
         }
        ],
        "init_height": 480,
        "init_width": 640,
        "legend_layout": "VERTICAL",
        "legend_position": {
         "position": "TOP_RIGHT",
         "type": "LegendPosition"
        },
        "log_y": false,
        "omit_checkboxes": false,
        "orientation": "VERTICAL",
        "rangeAxes": [
         {
          "auto_range": true,
          "auto_range_includes_zero": false,
          "label": "",
          "log_base": 10,
          "lower_bound": 0,
          "lower_margin": 0,
          "type": "YAxis",
          "upper_bound": 0,
          "upper_margin": 0,
          "use_log": false
         }
        ],
        "show_legend": null,
        "timezone": null,
        "tips": {},
        "type": "CategoryPlot",
        "use_tool_tip": true,
        "x_lower_margin": 0.05,
        "x_upper_margin": 0.05,
        "y_auto_range": true,
        "y_auto_range_includes_zero": false,
        "y_label": "",
        "y_lower_bound": 0,
        "y_lower_margin": 0,
        "y_upper_bound": 0,
        "y_upper_margin": 0
       }
      }
     },
     "8e7771bf-e64b-4181-a722-58980c2f89d0": {
      "model_module": "beakerx",
      "model_module_version": "*",
      "model_name": "PlotModel",
      "state": {
       "model": {
        "categoryNames": [],
        "categoryNamesLabelAngle": 0,
        "category_margin": 0.2,
        "chart_title": null,
        "crosshair": null,
        "custom_styles": [],
        "domain_axis_label": null,
        "element_styles": {},
        "graphics_list": [
         {
          "base": 0,
          "center_series": false,
          "color": null,
          "fill": null,
          "hasClickAction": false,
          "labelPosition": "CENTER",
          "outline": false,
          "outline_color": null,
          "showItemLabel": true,
          "type": "CategoryBars",
          "uid": "4ef48a14-e6be-401b-be7c-7225a180885d",
          "use_tool_tip": true,
          "value": [
           [
            -5,
            2,
            3
           ],
           [
            1,
            3,
            5
           ]
          ],
          "visible": true,
          "width": null,
          "yAxis": null
         }
        ],
        "init_height": 480,
        "init_width": 640,
        "legend_layout": "VERTICAL",
        "legend_position": {
         "position": "TOP_RIGHT",
         "type": "LegendPosition"
        },
        "log_y": false,
        "omit_checkboxes": false,
        "orientation": "VERTICAL",
        "rangeAxes": [
         {
          "auto_range": true,
          "auto_range_includes_zero": false,
          "label": "",
          "log_base": 10,
          "lower_bound": 0,
          "lower_margin": 0,
          "type": "YAxis",
          "upper_bound": 0,
          "upper_margin": 0,
          "use_log": false
         }
        ],
        "show_legend": null,
        "timezone": null,
        "tips": {},
        "type": "CategoryPlot",
        "use_tool_tip": true,
        "x_lower_margin": 0.05,
        "x_upper_margin": 0.05,
        "y_auto_range": true,
        "y_auto_range_includes_zero": false,
        "y_label": "",
        "y_lower_bound": 0,
        "y_lower_margin": 0,
        "y_upper_bound": 0,
        "y_upper_margin": 0
       }
      }
     },
     "8fabf458-35d3-468a-a449-d715fc761d2d": {
      "model_module": "beakerx",
      "model_module_version": "*",
      "model_name": "PlotModel",
      "state": {
       "model": {
        "categoryNames": [],
        "categoryNamesLabelAngle": 0,
        "category_margin": 0.2,
        "chart_title": null,
        "crosshair": null,
        "custom_styles": [],
        "domain_axis_label": null,
        "element_styles": {},
        "graphics_list": [
         {
          "base": 0,
          "center_series": false,
          "color": "#FFFFAFAF",
          "fill": null,
          "hasClickAction": false,
          "labelPosition": "CENTER",
          "outline": false,
          "outline_color": null,
          "showItemLabel": false,
          "type": "CategoryBars",
          "uid": "b14785b6-4785-4c46-9a4f-f5138cb58f17",
          "use_tool_tip": true,
          "value": [
           [
            1,
            2
           ],
           [
            3,
            4
           ],
           [
            5,
            6
           ]
          ],
          "visible": true,
          "width": null,
          "yAxis": null
         }
        ],
        "init_height": 480,
        "init_width": 640,
        "legend_layout": "VERTICAL",
        "legend_position": {
         "position": "TOP_RIGHT",
         "type": "LegendPosition"
        },
        "log_y": false,
        "omit_checkboxes": false,
        "orientation": "VERTICAL",
        "rangeAxes": [
         {
          "auto_range": true,
          "auto_range_includes_zero": false,
          "label": "",
          "log_base": 10,
          "lower_bound": 0,
          "lower_margin": 0,
          "type": "YAxis",
          "upper_bound": 0,
          "upper_margin": 0,
          "use_log": false
         }
        ],
        "show_legend": null,
        "timezone": null,
        "tips": {},
        "type": "CategoryPlot",
        "use_tool_tip": true,
        "x_lower_margin": 0.05,
        "x_upper_margin": 0.05,
        "y_auto_range": true,
        "y_auto_range_includes_zero": false,
        "y_label": "",
        "y_lower_bound": 0,
        "y_lower_margin": 0,
        "y_upper_bound": 0,
        "y_upper_margin": 0
       }
      }
     },
     "910fcff8-0823-4576-ac75-63640c817769": {
      "model_module": "beakerx",
      "model_module_version": "*",
      "model_name": "PlotModel",
      "state": {
       "model": {
        "categoryNames": [],
        "categoryNamesLabelAngle": 0,
        "category_margin": 0.2,
        "chart_title": "Move mouse cursor over bars",
        "crosshair": null,
        "custom_styles": [],
        "domain_axis_label": null,
        "element_styles": {},
        "graphics_list": [
         {
          "base": 0,
          "center_series": false,
          "color": null,
          "fill": null,
          "hasClickAction": false,
          "labelPosition": "CENTER",
          "outline": false,
          "outline_color": null,
          "showItemLabel": false,
          "type": "CategoryBars",
          "uid": "ccfe9206-b81f-452e-854a-2c27a2871a87",
          "use_tool_tip": false,
          "value": [
           [
            -5,
            2,
            3
           ],
           [
            1,
            3,
            5
           ]
          ],
          "visible": true,
          "width": null,
          "yAxis": null
         }
        ],
        "init_height": 480,
        "init_width": 640,
        "legend_layout": "VERTICAL",
        "legend_position": {
         "position": "TOP_RIGHT",
         "type": "LegendPosition"
        },
        "log_y": false,
        "omit_checkboxes": false,
        "orientation": "VERTICAL",
        "rangeAxes": [
         {
          "auto_range": true,
          "auto_range_includes_zero": false,
          "label": "",
          "log_base": 10,
          "lower_bound": 0,
          "lower_margin": 0,
          "type": "YAxis",
          "upper_bound": 0,
          "upper_margin": 0,
          "use_log": false
         }
        ],
        "show_legend": null,
        "timezone": null,
        "tips": {},
        "type": "CategoryPlot",
        "use_tool_tip": true,
        "x_lower_margin": 0.05,
        "x_upper_margin": 0.05,
        "y_auto_range": true,
        "y_auto_range_includes_zero": false,
        "y_label": "",
        "y_lower_bound": 0,
        "y_lower_margin": 0,
        "y_upper_bound": 0,
        "y_upper_margin": 0
       }
      }
     },
     "9225dbbe-8e7a-42d8-bc34-a8e73763cafd": {
      "model_module": "beakerx",
      "model_module_version": "*",
      "model_name": "PlotModel",
      "state": {
       "model": {
        "categoryNames": [],
        "categoryNamesLabelAngle": 0,
        "category_margin": 0.2,
        "chart_title": null,
        "crosshair": null,
        "custom_styles": [],
        "domain_axis_label": null,
        "element_styles": {},
        "graphics_list": [
         {
          "center_series": false,
          "color": null,
          "hasClickAction": false,
          "seriesNames": [
           "Lanthanide",
           "Actinide"
          ],
          "showItemLabel": false,
          "styles": [
           "DASH",
           "DOT"
          ],
          "type": "CategoryLines",
          "uid": "5e7754b9-f208-4b39-abb6-52de0647b9a7",
          "use_tool_tip": true,
          "value": [
           [
            1,
            2,
            4
           ],
           [
            4,
            5,
            8
           ]
          ],
          "visible": true,
          "width": 1.5,
          "yAxis": null
         }
        ],
        "init_height": 480,
        "init_width": 640,
        "legend_layout": "VERTICAL",
        "legend_position": {
         "position": "TOP_RIGHT",
         "type": "LegendPosition"
        },
        "log_y": false,
        "omit_checkboxes": false,
        "orientation": "VERTICAL",
        "rangeAxes": [
         {
          "auto_range": true,
          "auto_range_includes_zero": false,
          "label": "",
          "log_base": 10,
          "lower_bound": 0,
          "lower_margin": 0,
          "type": "YAxis",
          "upper_bound": 0,
          "upper_margin": 0,
          "use_log": false
         }
        ],
        "show_legend": null,
        "timezone": null,
        "tips": {},
        "type": "CategoryPlot",
        "use_tool_tip": true,
        "x_lower_margin": 0.05,
        "x_upper_margin": 0.05,
        "y_auto_range": true,
        "y_auto_range_includes_zero": false,
        "y_label": "",
        "y_lower_bound": 0,
        "y_lower_margin": 0,
        "y_upper_bound": 0,
        "y_upper_margin": 0
       }
      }
     },
     "953a455f-947d-49d5-a8ba-9dfed198b4bb": {
      "model_module": "beakerx",
      "model_module_version": "*",
      "model_name": "PlotModel",
      "state": {
       "model": {
        "categoryNames": [],
        "categoryNamesLabelAngle": 0,
        "category_margin": 0.2,
        "chart_title": null,
        "crosshair": null,
        "custom_styles": [],
        "domain_axis_label": null,
        "element_styles": {},
        "graphics_list": [
         {
          "base": 0,
          "center_series": false,
          "color": "#FFFFAFAF",
          "fill": null,
          "hasClickAction": false,
          "labelPosition": "CENTER",
          "outline": false,
          "outline_color": null,
          "showItemLabel": false,
          "type": "CategoryBars",
          "uid": "180448d9-cba3-48bf-aae0-ec8f27bbda15",
          "use_tool_tip": true,
          "value": [
           [
            1,
            2
           ],
           [
            3,
            4
           ],
           [
            5,
            6
           ]
          ],
          "visible": true,
          "width": null,
          "yAxis": null
         }
        ],
        "init_height": 480,
        "init_width": 640,
        "legend_layout": "VERTICAL",
        "legend_position": {
         "position": "TOP_RIGHT",
         "type": "LegendPosition"
        },
        "log_y": false,
        "numberOfPoints": 0,
        "omit_checkboxes": false,
        "orientation": "VERTICAL",
        "outputPointsLimit": 1000000,
        "outputPointsPreviewNumber": 10000,
        "rangeAxes": [
         {
          "auto_range": true,
          "auto_range_includes_zero": false,
          "label": "",
          "log_base": 10,
          "lower_bound": 0,
          "lower_margin": 0,
          "type": "YAxis",
          "upper_bound": 0,
          "upper_margin": 0,
          "use_log": false
         }
        ],
        "show_legend": null,
        "timezone": null,
        "tips": {},
        "type": "CategoryPlot",
        "use_tool_tip": true,
        "x_lower_margin": 0.05,
        "x_upper_margin": 0.05,
        "y_auto_range": true,
        "y_auto_range_includes_zero": false,
        "y_label": "",
        "y_lower_bound": 0,
        "y_lower_margin": 0,
        "y_upper_bound": 0,
        "y_upper_margin": 0
       }
      }
     },
     "95b0e76f-608b-45ca-a578-8fa3c714f524": {
      "model_module": "beakerx",
      "model_module_version": "*",
      "model_name": "PlotModel",
      "state": {
       "model": {
        "categoryNames": [],
        "categoryNamesLabelAngle": 0,
        "category_margin": 0.2,
        "chart_title": "Hello CategoryPlot!",
        "crosshair": null,
        "custom_styles": [],
        "domain_axis_label": "Categories",
        "element_styles": {},
        "graphics_list": [
         {
          "base": 0,
          "center_series": false,
          "color": null,
          "fill": null,
          "hasClickAction": false,
          "labelPosition": "CENTER",
          "outline": false,
          "outline_color": null,
          "showItemLabel": false,
          "type": "CategoryBars",
          "uid": "9d1c48af-9afb-41c2-ae9e-c6eb1bac01d0",
          "use_tool_tip": true,
          "value": [
           [
            1,
            2,
            3
           ],
           [
            1,
            3,
            5
           ]
          ],
          "visible": true,
          "width": null,
          "yAxis": null
         }
        ],
        "init_height": 480,
        "init_width": 640,
        "legend_layout": "VERTICAL",
        "legend_position": {
         "position": "TOP_RIGHT",
         "type": "LegendPosition"
        },
        "log_y": false,
        "numberOfPoints": 0,
        "omit_checkboxes": false,
        "orientation": "VERTICAL",
        "outputPointsLimit": 1000000,
        "outputPointsPreviewNumber": 10000,
        "rangeAxes": [
         {
          "auto_range": true,
          "auto_range_includes_zero": false,
          "label": "Values",
          "log_base": 10,
          "lower_bound": 0,
          "lower_margin": 0,
          "type": "YAxis",
          "upper_bound": 0,
          "upper_margin": 0,
          "use_log": false
         }
        ],
        "show_legend": null,
        "timezone": null,
        "tips": {},
        "type": "CategoryPlot",
        "use_tool_tip": true,
        "x_lower_margin": 0.05,
        "x_upper_margin": 0.05,
        "y_auto_range": true,
        "y_auto_range_includes_zero": false,
        "y_label": "Values",
        "y_lower_bound": 0,
        "y_lower_margin": 0,
        "y_upper_bound": 0,
        "y_upper_margin": 0
       }
      }
     },
     "9677d179-bd08-427e-973e-8cf1b0c18da4": {
      "model_module": "beakerx",
      "model_module_version": "*",
      "model_name": "PlotModel",
      "state": {
       "model": {
        "categoryNames": [
         "Acid",
         "Neutral",
         "Base"
        ],
        "categoryNamesLabelAngle": -0.7853981633974483,
        "category_margin": 0.2,
        "chart_title": null,
        "crosshair": null,
        "custom_styles": [],
        "domain_axis_label": null,
        "element_styles": {},
        "graphics_list": [
         {
          "base": 0,
          "center_series": false,
          "color": null,
          "fill": null,
          "hasClickAction": false,
          "labelPosition": "CENTER",
          "outline": false,
          "outline_color": null,
          "showItemLabel": false,
          "type": "CategoryBars",
          "uid": "34f8b158-2a94-4e47-a21d-cf475353928f",
          "use_tool_tip": true,
          "value": [
           [
            1,
            2,
            3
           ],
           [
            4,
            5,
            6
           ]
          ],
          "visible": true,
          "width": null,
          "yAxis": null
         }
        ],
        "init_height": 480,
        "init_width": 640,
        "legend_layout": "VERTICAL",
        "legend_position": {
         "position": "TOP_RIGHT",
         "type": "LegendPosition"
        },
        "log_y": false,
        "omit_checkboxes": false,
        "orientation": "VERTICAL",
        "rangeAxes": [
         {
          "auto_range": true,
          "auto_range_includes_zero": false,
          "label": "",
          "log_base": 10,
          "lower_bound": 0,
          "lower_margin": 0,
          "type": "YAxis",
          "upper_bound": 0,
          "upper_margin": 0,
          "use_log": false
         }
        ],
        "show_legend": null,
        "timezone": null,
        "tips": {},
        "type": "CategoryPlot",
        "use_tool_tip": true,
        "x_lower_margin": 0.05,
        "x_upper_margin": 0.05,
        "y_auto_range": true,
        "y_auto_range_includes_zero": false,
        "y_label": "",
        "y_lower_bound": 0,
        "y_lower_margin": 0,
        "y_upper_bound": 0,
        "y_upper_margin": 0
       }
      }
     },
     "9a5c8bc4-5b91-47d2-81e0-117ca133e504": {
      "model_module": "beakerx",
      "model_module_version": "*",
      "model_name": "PlotModel",
      "state": {
       "model": {
        "categoryNames": [],
        "categoryNamesLabelAngle": 0,
        "category_margin": 0.2,
        "chart_title": null,
        "crosshair": null,
        "custom_styles": [],
        "domain_axis_label": null,
        "element_styles": {},
        "graphics_list": [
         {
          "base": null,
          "center_series": false,
          "color": null,
          "hasClickAction": false,
          "showItemLabel": true,
          "style": "SOLID",
          "type": "CategoryStems",
          "uid": "7277097e-d29a-44e6-8d47-ecedbb433eaa",
          "use_tool_tip": true,
          "value": [
           [
            -3,
            2,
            4
           ],
           [
            4,
            5,
            8
           ]
          ],
          "visible": true,
          "width": 10,
          "yAxis": null
         }
        ],
        "init_height": 480,
        "init_width": 640,
        "legend_layout": "VERTICAL",
        "legend_position": {
         "position": "TOP_RIGHT",
         "type": "LegendPosition"
        },
        "log_y": false,
        "omit_checkboxes": false,
        "orientation": "VERTICAL",
        "rangeAxes": [
         {
          "auto_range": true,
          "auto_range_includes_zero": false,
          "label": "",
          "log_base": 10,
          "lower_bound": 0,
          "lower_margin": 0,
          "type": "YAxis",
          "upper_bound": 0,
          "upper_margin": 0,
          "use_log": false
         }
        ],
        "show_legend": null,
        "timezone": null,
        "tips": {},
        "type": "CategoryPlot",
        "use_tool_tip": true,
        "x_lower_margin": 0.05,
        "x_upper_margin": 0.05,
        "y_auto_range": true,
        "y_auto_range_includes_zero": false,
        "y_label": "",
        "y_lower_bound": 0,
        "y_lower_margin": 0,
        "y_upper_bound": 0,
        "y_upper_margin": 0
       }
      }
     },
     "9d76fd62-8280-45c5-8ce9-652c16ffcb2f": {
      "model_module": "beakerx",
      "model_module_version": "*",
      "model_name": "PlotModel",
      "state": {
       "model": {
        "categoryNames": [],
        "categoryNamesLabelAngle": 0,
        "category_margin": 2,
        "chart_title": null,
        "crosshair": null,
        "custom_styles": [],
        "domain_axis_label": null,
        "element_styles": {},
        "graphics_list": [
         {
          "base": 0,
          "center_series": false,
          "color": null,
          "fill": null,
          "hasClickAction": false,
          "labelPosition": "CENTER",
          "outline": false,
          "outline_color": null,
          "showItemLabel": false,
          "type": "CategoryBars",
          "uid": "8c443e70-49eb-4d5b-a5c9-30e5d7ab1aec",
          "use_tool_tip": true,
          "value": [
           [
            1,
            2,
            3
           ],
           [
            4,
            5,
            6
           ]
          ],
          "visible": true,
          "width": null,
          "yAxis": null
         }
        ],
        "init_height": 480,
        "init_width": 640,
        "legend_layout": "VERTICAL",
        "legend_position": {
         "position": "TOP_RIGHT",
         "type": "LegendPosition"
        },
        "log_y": false,
        "omit_checkboxes": false,
        "orientation": "VERTICAL",
        "rangeAxes": [
         {
          "auto_range": true,
          "auto_range_includes_zero": false,
          "label": "",
          "log_base": 10,
          "lower_bound": 0,
          "lower_margin": 0,
          "type": "YAxis",
          "upper_bound": 0,
          "upper_margin": 0,
          "use_log": false
         }
        ],
        "show_legend": null,
        "timezone": null,
        "tips": {},
        "type": "CategoryPlot",
        "use_tool_tip": true,
        "x_lower_margin": 0.05,
        "x_upper_margin": 0.05,
        "y_auto_range": true,
        "y_auto_range_includes_zero": false,
        "y_label": "",
        "y_lower_bound": 0,
        "y_lower_margin": 0,
        "y_upper_bound": 0,
        "y_upper_margin": 0
       }
      }
     },
     "9fad2fca-7a6f-444c-a5d0-1c870ff298f7": {
      "model_module": "beakerx",
      "model_module_version": "*",
      "model_name": "PlotModel",
      "state": {
       "model": {
        "categoryNames": [],
        "categoryNamesLabelAngle": 0,
        "category_margin": 0.2,
        "chart_title": null,
        "crosshair": null,
        "custom_styles": [],
        "domain_axis_label": null,
        "element_styles": {},
        "graphics_list": [
         {
          "center_series": false,
          "color": null,
          "hasClickAction": false,
          "seriesNames": [
           "Lanthanide",
           "Actinide"
          ],
          "showItemLabel": false,
          "styles": [
           "DASH",
           "DOT"
          ],
          "type": "CategoryLines",
          "uid": "5bc2eceb-b935-4238-85c5-9aff036eac29",
          "use_tool_tip": true,
          "value": [
           [
            1,
            2,
            4
           ],
           [
            4,
            5,
            8
           ]
          ],
          "visible": true,
          "width": 1.5,
          "yAxis": null
         }
        ],
        "init_height": 480,
        "init_width": 640,
        "legend_layout": "VERTICAL",
        "legend_position": {
         "position": "TOP_RIGHT",
         "type": "LegendPosition"
        },
        "log_y": false,
        "numberOfPoints": 0,
        "omit_checkboxes": false,
        "orientation": "VERTICAL",
        "outputPointsLimit": 1000000,
        "outputPointsPreviewNumber": 10000,
        "rangeAxes": [
         {
          "auto_range": true,
          "auto_range_includes_zero": false,
          "label": "",
          "log_base": 10,
          "lower_bound": 0,
          "lower_margin": 0,
          "type": "YAxis",
          "upper_bound": 0,
          "upper_margin": 0,
          "use_log": false
         }
        ],
        "show_legend": null,
        "timezone": null,
        "tips": {},
        "type": "CategoryPlot",
        "use_tool_tip": true,
        "x_lower_margin": 0.05,
        "x_upper_margin": 0.05,
        "y_auto_range": true,
        "y_auto_range_includes_zero": false,
        "y_label": "",
        "y_lower_bound": 0,
        "y_lower_margin": 0,
        "y_upper_bound": 0,
        "y_upper_margin": 0
       }
      }
     },
     "a19a3c5a-a071-40fb-b64e-27da74e9f737": {
      "model_module": "beakerx",
      "model_module_version": "*",
      "model_name": "PlotModel",
      "state": {
       "model": {
        "categoryNames": [
         "Acid",
         "Neutral",
         "Base"
        ],
        "categoryNamesLabelAngle": -0.7853981633974483,
        "category_margin": 0.2,
        "chart_title": null,
        "crosshair": null,
        "custom_styles": [],
        "domain_axis_label": null,
        "element_styles": {},
        "graphics_list": [
         {
          "base": 0,
          "center_series": false,
          "color": null,
          "fill": null,
          "hasClickAction": false,
          "labelPosition": "CENTER",
          "outline": false,
          "outline_color": null,
          "showItemLabel": false,
          "type": "CategoryBars",
          "uid": "d19172af-d6c4-4f3b-909f-ce3555039ffc",
          "use_tool_tip": true,
          "value": [
           [
            1,
            2,
            3
           ],
           [
            4,
            5,
            6
           ]
          ],
          "visible": true,
          "width": null,
          "yAxis": null
         }
        ],
        "init_height": 480,
        "init_width": 640,
        "legend_layout": "VERTICAL",
        "legend_position": {
         "position": "TOP_RIGHT",
         "type": "LegendPosition"
        },
        "log_y": false,
        "numberOfPoints": 0,
        "omit_checkboxes": false,
        "orientation": "VERTICAL",
        "outputPointsLimit": 1000000,
        "outputPointsPreviewNumber": 10000,
        "rangeAxes": [
         {
          "auto_range": true,
          "auto_range_includes_zero": false,
          "label": "",
          "log_base": 10,
          "lower_bound": 0,
          "lower_margin": 0,
          "type": "YAxis",
          "upper_bound": 0,
          "upper_margin": 0,
          "use_log": false
         }
        ],
        "show_legend": null,
        "timezone": null,
        "tips": {},
        "type": "CategoryPlot",
        "use_tool_tip": true,
        "x_lower_margin": 0.05,
        "x_upper_margin": 0.05,
        "y_auto_range": true,
        "y_auto_range_includes_zero": false,
        "y_label": "",
        "y_lower_bound": 0,
        "y_lower_margin": 0,
        "y_upper_bound": 0,
        "y_upper_margin": 0
       }
      }
     },
     "a715803f-adaf-4d02-b909-a3437940acd5": {
      "model_module": "beakerx",
      "model_module_version": "*",
      "model_name": "PlotModel",
      "state": {
       "model": {
        "categoryNames": [
         "close",
         "high",
         "low",
         "open"
        ],
        "categoryNamesLabelAngle": 0,
        "category_margin": 0.2,
        "chart_title": null,
        "crosshair": null,
        "custom_styles": [],
        "domain_axis_label": null,
        "element_styles": {},
        "graphics_list": [
         {
          "base": 0,
          "center_series": false,
          "color": null,
          "fill": null,
          "hasClickAction": false,
          "labelPosition": "CENTER",
          "outline": false,
          "outline_color": null,
          "seriesNames": [
           "A",
           "B",
           "C"
          ],
          "showItemLabel": false,
          "type": "CategoryBars",
          "uid": "e8fe9208-fb82-4e04-a02c-020976a4f7fd",
          "use_tool_tip": true,
          "value": [
           [
            11.59,
            13.15,
            11.92,
            11.92
           ],
           [
            12.76,
            15.44,
            11.88,
            12.42
           ],
           [
            18.19,
            20.96,
            17.93,
            18.56
           ]
          ],
          "visible": true,
          "width": null,
          "yAxis": null
         }
        ],
        "init_height": 480,
        "init_width": 640,
        "legend_layout": "VERTICAL",
        "legend_position": {
         "position": "TOP_RIGHT",
         "type": "LegendPosition"
        },
        "log_y": false,
        "numberOfPoints": 0,
        "omit_checkboxes": false,
        "orientation": "VERTICAL",
        "outputPointsLimit": 1000000,
        "outputPointsPreviewNumber": 10000,
        "rangeAxes": [
         {
          "auto_range": true,
          "auto_range_includes_zero": false,
          "label": "",
          "log_base": 10,
          "lower_bound": 0,
          "lower_margin": 0,
          "type": "YAxis",
          "upper_bound": 0,
          "upper_margin": 0,
          "use_log": false
         }
        ],
        "show_legend": null,
        "timezone": null,
        "tips": {},
        "type": "CategoryPlot",
        "use_tool_tip": true,
        "x_lower_margin": 0.05,
        "x_upper_margin": 0.05,
        "y_auto_range": true,
        "y_auto_range_includes_zero": false,
        "y_label": "",
        "y_lower_bound": 0,
        "y_lower_margin": 0,
        "y_upper_bound": 0,
        "y_upper_margin": 0
       }
      }
     },
     "ab7c00a8-fdd0-4ca7-826f-50672b0935da": {
      "model_module": "beakerx",
      "model_module_version": "*",
      "model_name": "PlotModel",
      "state": {
       "model": {
        "categoryNames": [],
        "categoryNamesLabelAngle": 0,
        "category_margin": 0.2,
        "chart_title": "Hello CategoryPlot!",
        "crosshair": null,
        "custom_styles": [],
        "domain_axis_label": "Categories",
        "element_styles": {},
        "graphics_list": [
         {
          "base": 0,
          "center_series": false,
          "color": null,
          "fill": null,
          "hasClickAction": false,
          "labelPosition": "CENTER",
          "outline": false,
          "outline_color": null,
          "showItemLabel": false,
          "type": "CategoryBars",
          "uid": "6077e5c4-cebb-42b7-8f81-f3a5179fbb95",
          "use_tool_tip": true,
          "value": [
           [
            1,
            2,
            3
           ],
           [
            1,
            3,
            5
           ]
          ],
          "visible": true,
          "width": null,
          "yAxis": null
         }
        ],
        "init_height": 480,
        "init_width": 640,
        "legend_layout": "VERTICAL",
        "legend_position": {
         "position": "TOP_RIGHT",
         "type": "LegendPosition"
        },
        "log_y": false,
        "omit_checkboxes": false,
        "orientation": "VERTICAL",
        "rangeAxes": [
         {
          "auto_range": true,
          "auto_range_includes_zero": false,
          "label": "Values",
          "log_base": 10,
          "lower_bound": 0,
          "lower_margin": 0,
          "type": "YAxis",
          "upper_bound": 0,
          "upper_margin": 0,
          "use_log": false
         }
        ],
        "show_legend": null,
        "timezone": null,
        "tips": {},
        "type": "CategoryPlot",
        "use_tool_tip": true,
        "x_lower_margin": 0.05,
        "x_upper_margin": 0.05,
        "y_auto_range": true,
        "y_auto_range_includes_zero": false,
        "y_label": "Values",
        "y_lower_bound": 0,
        "y_lower_margin": 0,
        "y_upper_bound": 0,
        "y_upper_margin": 0
       }
      }
     },
     "ae5479cd-c53e-48f0-809c-e02f167049de": {
      "model_module": "beakerx",
      "model_module_version": "*",
      "model_name": "PlotModel",
      "state": {
       "model": {
        "categoryNames": [],
        "categoryNamesLabelAngle": 0,
        "category_margin": 0.2,
        "chart_title": null,
        "crosshair": null,
        "custom_styles": [],
        "domain_axis_label": null,
        "element_styles": {},
        "graphics_list": [
         {
          "base": 0,
          "center_series": false,
          "color": null,
          "fill": null,
          "hasClickAction": false,
          "labelPosition": "BASE_OUTSIDE",
          "outline": false,
          "outline_color": null,
          "showItemLabel": true,
          "type": "CategoryBars",
          "uid": "3f91323c-e501-4431-88b8-f67b6d56c895",
          "use_tool_tip": true,
          "value": [
           [
            -5,
            2,
            3
           ],
           [
            1,
            3,
            5
           ]
          ],
          "visible": true,
          "width": null,
          "yAxis": null
         }
        ],
        "init_height": 480,
        "init_width": 640,
        "legend_layout": "VERTICAL",
        "legend_position": {
         "position": "TOP_RIGHT",
         "type": "LegendPosition"
        },
        "log_y": false,
        "numberOfPoints": 0,
        "omit_checkboxes": false,
        "orientation": "VERTICAL",
        "outputPointsLimit": 1000000,
        "outputPointsPreviewNumber": 10000,
        "rangeAxes": [
         {
          "auto_range": true,
          "auto_range_includes_zero": false,
          "label": "",
          "log_base": 10,
          "lower_bound": 0,
          "lower_margin": 0,
          "type": "YAxis",
          "upper_bound": 0,
          "upper_margin": 0,
          "use_log": false
         }
        ],
        "show_legend": null,
        "timezone": null,
        "tips": {},
        "type": "CategoryPlot",
        "use_tool_tip": true,
        "x_lower_margin": 0.05,
        "x_upper_margin": 0.05,
        "y_auto_range": true,
        "y_auto_range_includes_zero": false,
        "y_label": "",
        "y_lower_bound": 0,
        "y_lower_margin": 0,
        "y_upper_bound": 0,
        "y_upper_margin": 0
       }
      }
     },
     "af62f33e-83cd-415d-a0a1-9574d38d04d5": {
      "model_module": "beakerx",
      "model_module_version": "*",
      "model_name": "PlotModel",
      "state": {
       "model": {
        "categoryNames": [],
        "categoryNamesLabelAngle": 0,
        "category_margin": 0.2,
        "chart_title": null,
        "crosshair": null,
        "custom_styles": [],
        "domain_axis_label": null,
        "element_styles": {},
        "graphics_list": [
         {
          "base": 0,
          "center_series": false,
          "color": null,
          "fill": null,
          "hasClickAction": false,
          "labelPosition": "CENTER",
          "outline": false,
          "outline_color": null,
          "seriesNames": [
           "Gas",
           "Liquid"
          ],
          "showItemLabel": false,
          "type": "CategoryBars",
          "uid": "d709f0a1-2f69-4c2a-a47a-9bb5572fc329",
          "use_tool_tip": true,
          "value": [
           [
            1,
            2,
            3
           ],
           [
            1,
            3,
            5
           ]
          ],
          "visible": true,
          "width": null,
          "yAxis": null
         }
        ],
        "init_height": 480,
        "init_width": 640,
        "legend_layout": "VERTICAL",
        "legend_position": {
         "position": "TOP_RIGHT",
         "type": "LegendPosition"
        },
        "log_y": false,
        "numberOfPoints": 0,
        "omit_checkboxes": false,
        "orientation": "VERTICAL",
        "outputPointsLimit": 1000000,
        "outputPointsPreviewNumber": 10000,
        "rangeAxes": [
         {
          "auto_range": true,
          "auto_range_includes_zero": false,
          "label": "",
          "log_base": 10,
          "lower_bound": 0,
          "lower_margin": 0,
          "type": "YAxis",
          "upper_bound": 0,
          "upper_margin": 0,
          "use_log": false
         }
        ],
        "show_legend": null,
        "timezone": null,
        "tips": {},
        "type": "CategoryPlot",
        "use_tool_tip": true,
        "x_lower_margin": 0.05,
        "x_upper_margin": 0.05,
        "y_auto_range": true,
        "y_auto_range_includes_zero": false,
        "y_label": "",
        "y_lower_bound": 0,
        "y_lower_margin": 0,
        "y_upper_bound": 0,
        "y_upper_margin": 0
       }
      }
     },
     "b135f564-5ccd-4300-8e29-780825690c85": {
      "model_module": "beakerx",
      "model_module_version": "*",
      "model_name": "PlotModel",
      "state": {
       "model": {
        "categoryNames": [],
        "categoryNamesLabelAngle": 0,
        "category_margin": 0.2,
        "chart_title": null,
        "crosshair": null,
        "custom_styles": [],
        "domain_axis_label": null,
        "element_styles": {},
        "graphics_list": [
         {
          "base": 0,
          "center_series": false,
          "color": null,
          "fill": null,
          "hasClickAction": false,
          "labelPosition": "CENTER",
          "outline": false,
          "outline_color": null,
          "showItemLabel": false,
          "type": "CategoryBars",
          "uid": "7d577f38-afbe-40aa-a65b-c50a0c26a89e",
          "use_tool_tip": true,
          "value": [
           [
            1,
            1
           ],
           [
            2,
            3
           ],
           [
            3,
            5
           ]
          ],
          "visible": true,
          "width": null,
          "yAxis": null
         }
        ],
        "init_height": 480,
        "init_width": 640,
        "legend_layout": "VERTICAL",
        "legend_position": {
         "position": "TOP_RIGHT",
         "type": "LegendPosition"
        },
        "log_y": false,
        "omit_checkboxes": false,
        "orientation": "VERTICAL",
        "rangeAxes": [
         {
          "auto_range": true,
          "auto_range_includes_zero": false,
          "label": "",
          "log_base": 10,
          "lower_bound": 0,
          "lower_margin": 0,
          "type": "YAxis",
          "upper_bound": 0,
          "upper_margin": 0,
          "use_log": false
         }
        ],
        "show_legend": null,
        "timezone": null,
        "tips": {},
        "type": "CategoryPlot",
        "use_tool_tip": true,
        "x_lower_margin": 0.05,
        "x_upper_margin": 0.05,
        "y_auto_range": true,
        "y_auto_range_includes_zero": false,
        "y_label": "",
        "y_lower_bound": 0,
        "y_lower_margin": 0,
        "y_upper_bound": 0,
        "y_upper_margin": 0
       }
      }
     },
     "b2628328-7306-498b-8855-9ba8aeed897e": {
      "model_module": "beakerx",
      "model_module_version": "*",
      "model_name": "PlotModel",
      "state": {
       "model": {
        "categoryNames": [],
        "categoryNamesLabelAngle": 0,
        "category_margin": 0.2,
        "chart_title": "Move mouse cursor over bars",
        "crosshair": null,
        "custom_styles": [],
        "domain_axis_label": null,
        "element_styles": {},
        "graphics_list": [
         {
          "base": 0,
          "center_series": false,
          "color": null,
          "fill": null,
          "hasClickAction": false,
          "labelPosition": "CENTER",
          "outline": false,
          "outline_color": null,
          "showItemLabel": false,
          "type": "CategoryBars",
          "uid": "c163cb61-17db-490a-bb0d-d4fba4061b9e",
          "use_tool_tip": false,
          "value": [
           [
            -5,
            2,
            3
           ],
           [
            1,
            3,
            5
           ]
          ],
          "visible": true,
          "width": null,
          "yAxis": null
         }
        ],
        "init_height": 480,
        "init_width": 640,
        "legend_layout": "VERTICAL",
        "legend_position": {
         "position": "TOP_RIGHT",
         "type": "LegendPosition"
        },
        "log_y": false,
        "numberOfPoints": 0,
        "omit_checkboxes": false,
        "orientation": "VERTICAL",
        "outputPointsLimit": 1000000,
        "outputPointsPreviewNumber": 10000,
        "rangeAxes": [
         {
          "auto_range": true,
          "auto_range_includes_zero": false,
          "label": "",
          "log_base": 10,
          "lower_bound": 0,
          "lower_margin": 0,
          "type": "YAxis",
          "upper_bound": 0,
          "upper_margin": 0,
          "use_log": false
         }
        ],
        "show_legend": null,
        "timezone": null,
        "tips": {},
        "type": "CategoryPlot",
        "use_tool_tip": true,
        "x_lower_margin": 0.05,
        "x_upper_margin": 0.05,
        "y_auto_range": true,
        "y_auto_range_includes_zero": false,
        "y_label": "",
        "y_lower_bound": 0,
        "y_lower_margin": 0,
        "y_upper_bound": 0,
        "y_upper_margin": 0
       }
      }
     },
     "b5bd1fca-73ef-45d3-a48d-456b43866f32": {
      "model_module": "beakerx",
      "model_module_version": "*",
      "model_name": "PlotModel",
      "state": {
       "model": {
        "categoryNames": [],
        "categoryNamesLabelAngle": 0,
        "category_margin": 0.2,
        "chart_title": null,
        "crosshair": null,
        "custom_styles": [],
        "domain_axis_label": null,
        "element_styles": {},
        "graphics_list": [
         {
          "bases": [
           [
            0,
            1,
            1
           ],
           [
            -4,
            -5,
            -6
           ]
          ],
          "center_series": false,
          "color": null,
          "fill": null,
          "hasClickAction": false,
          "labelPosition": "CENTER",
          "outline": false,
          "outline_color": null,
          "showItemLabel": false,
          "type": "CategoryBars",
          "uid": "152cdac3-350b-4449-bddd-5d2142b4f9f4",
          "use_tool_tip": true,
          "value": [
           [
            1,
            2,
            3
           ],
           [
            4,
            5,
            6
           ]
          ],
          "visible": true,
          "width": null,
          "yAxis": null
         }
        ],
        "init_height": 480,
        "init_width": 640,
        "legend_layout": "VERTICAL",
        "legend_position": {
         "position": "TOP_RIGHT",
         "type": "LegendPosition"
        },
        "log_y": false,
        "omit_checkboxes": false,
        "orientation": "VERTICAL",
        "rangeAxes": [
         {
          "auto_range": true,
          "auto_range_includes_zero": false,
          "label": "",
          "log_base": 10,
          "lower_bound": 0,
          "lower_margin": 0,
          "type": "YAxis",
          "upper_bound": 0,
          "upper_margin": 0,
          "use_log": false
         }
        ],
        "show_legend": null,
        "timezone": null,
        "tips": {},
        "type": "CategoryPlot",
        "use_tool_tip": true,
        "x_lower_margin": 0.05,
        "x_upper_margin": 0.05,
        "y_auto_range": true,
        "y_auto_range_includes_zero": false,
        "y_label": "",
        "y_lower_bound": 0,
        "y_lower_margin": 0,
        "y_upper_bound": 0,
        "y_upper_margin": 0
       }
      }
     },
     "ba0cb8f3-c05c-4955-8883-954d7a667409": {
      "model_module": "beakerx",
      "model_module_version": "*",
      "model_name": "PlotModel",
      "state": {
       "model": {
        "categoryNames": [],
        "categoryNamesLabelAngle": 0,
        "category_margin": 0.2,
        "chart_title": null,
        "crosshair": null,
        "custom_styles": [],
        "domain_axis_label": null,
        "element_styles": {},
        "graphics_list": [
         {
          "base": 0,
          "center_series": false,
          "color": null,
          "fill": null,
          "hasClickAction": false,
          "labelPosition": "CENTER",
          "outline": false,
          "outline_color": null,
          "seriesNames": [
           "Gas",
           null,
           "",
           "Liquid"
          ],
          "showItemLabel": false,
          "type": "CategoryBars",
          "uid": "4d0a70da-d082-4a81-8962-e4af39fd70ec",
          "use_tool_tip": true,
          "value": [
           [
            1,
            2
           ],
           [
            3,
            4
           ],
           [
            5,
            6
           ],
           [
            7,
            8
           ]
          ],
          "visible": true,
          "width": null,
          "yAxis": null
         }
        ],
        "init_height": 480,
        "init_width": 640,
        "legend_layout": "VERTICAL",
        "legend_position": {
         "position": "TOP_RIGHT",
         "type": "LegendPosition"
        },
        "log_y": false,
        "numberOfPoints": 0,
        "omit_checkboxes": false,
        "orientation": "VERTICAL",
        "outputPointsLimit": 1000000,
        "outputPointsPreviewNumber": 10000,
        "rangeAxes": [
         {
          "auto_range": true,
          "auto_range_includes_zero": false,
          "label": "",
          "log_base": 10,
          "lower_bound": 0,
          "lower_margin": 0,
          "type": "YAxis",
          "upper_bound": 0,
          "upper_margin": 0,
          "use_log": false
         }
        ],
        "show_legend": null,
        "timezone": null,
        "tips": {},
        "type": "CategoryPlot",
        "use_tool_tip": true,
        "x_lower_margin": 0.05,
        "x_upper_margin": 0.05,
        "y_auto_range": true,
        "y_auto_range_includes_zero": false,
        "y_label": "",
        "y_lower_bound": 0,
        "y_lower_margin": 0,
        "y_upper_bound": 0,
        "y_upper_margin": 0
       }
      }
     },
     "bf96163a-a24a-473a-b404-1629219a900b": {
      "model_module": "beakerx",
      "model_module_version": "*",
      "model_name": "PlotModel",
      "state": {
       "model": {
        "categoryNames": [],
        "categoryNamesLabelAngle": 0,
        "category_margin": 0.2,
        "chart_title": null,
        "crosshair": null,
        "custom_styles": [],
        "domain_axis_label": null,
        "element_styles": {},
        "graphics_list": [
         {
          "center_series": true,
          "color": null,
          "hasClickAction": false,
          "showItemLabel": false,
          "style": "SOLID",
          "type": "CategoryLines",
          "uid": "0ccfbb53-15c9-4927-8b2a-de604de0046c",
          "use_tool_tip": true,
          "value": [
           [
            1,
            2,
            4
           ],
           [
            4,
            5,
            8
           ]
          ],
          "visible": true,
          "width": 1.5,
          "yAxis": null
         },
         {
          "center_series": true,
          "color": null,
          "fill": null,
          "hasClickAction": false,
          "outline_color": null,
          "shape": "DEFAULT",
          "showItemLabel": false,
          "size": 6,
          "type": "CategoryPoints",
          "uid": "fb16d1a9-b2f2-4574-9885-ef2b64e0b20b",
          "use_tool_tip": true,
          "value": [
           [
            1,
            2,
            4
           ],
           [
            4,
            5,
            8
           ]
          ],
          "visible": true,
          "yAxis": null
         },
         {
          "bases": [
           [
            4,
            5,
            8
           ]
          ],
          "center_series": false,
          "color": "#FF808080",
          "hasClickAction": false,
          "showItemLabel": false,
          "style": "DOT",
          "type": "CategoryStems",
          "uid": "c0c26ec9-eb90-476e-aac8-2ae26bfeb9bc",
          "use_tool_tip": true,
          "value": [
           [
            1,
            2,
            4
           ]
          ],
          "visible": true,
          "width": 1.5,
          "yAxis": null
         }
        ],
        "init_height": 480,
        "init_width": 640,
        "legend_layout": "VERTICAL",
        "legend_position": {
         "position": "TOP_RIGHT",
         "type": "LegendPosition"
        },
        "log_y": false,
        "numberOfPoints": 0,
        "omit_checkboxes": false,
        "orientation": "VERTICAL",
        "outputPointsLimit": 1000000,
        "outputPointsPreviewNumber": 10000,
        "rangeAxes": [
         {
          "auto_range": true,
          "auto_range_includes_zero": false,
          "label": "",
          "log_base": 10,
          "lower_bound": 0,
          "lower_margin": 0,
          "type": "YAxis",
          "upper_bound": 0,
          "upper_margin": 0,
          "use_log": false
         }
        ],
        "show_legend": null,
        "timezone": null,
        "tips": {},
        "type": "CategoryPlot",
        "use_tool_tip": true,
        "x_lower_margin": 0.05,
        "x_upper_margin": 0.05,
        "y_auto_range": true,
        "y_auto_range_includes_zero": false,
        "y_label": "",
        "y_lower_bound": 0,
        "y_lower_margin": 0,
        "y_upper_bound": 0,
        "y_upper_margin": 0
       }
      }
     },
     "c20e3095-9591-475f-82fd-a87007a8d917": {
      "model_module": "beakerx",
      "model_module_version": "*",
      "model_name": "PlotModel",
      "state": {
       "model": {
        "categoryNames": [
         "Lithium",
         "Sodium",
         "Potassium",
         "Rubidium"
        ],
        "categoryNamesLabelAngle": 0,
        "category_margin": 0.2,
        "chart_title": "Bar Chart Demo",
        "crosshair": null,
        "custom_styles": [],
        "domain_axis_label": "Alkali",
        "element_styles": {},
        "graphics_list": [
         {
          "base": 0,
          "center_series": false,
          "colors": [
           "#FFF79646",
           "#FFFFC800",
           "#FF9BBB59"
          ],
          "fill": null,
          "hasClickAction": false,
          "labelPosition": "CENTER",
          "outline": false,
          "outline_color": null,
          "seriesNames": [
           "Solid",
           "Liquid"
          ],
          "showItemLabel": false,
          "type": "CategoryBars",
          "uid": "d95a78cd-60f1-4b3a-9a50-636ba1ad8bd5",
          "use_tool_tip": true,
          "value": [
           [
            10,
            15,
            13,
            7
           ],
           [
            22,
            18,
            28,
            17
           ]
          ],
          "visible": true,
          "width": null,
          "yAxis": null
         },
         {
          "bases": [
           [
            7.6,
            10.5,
            10.9,
            5.8
           ],
           [
            19.7,
            12.7,
            25.9,
            15.8
           ]
          ],
          "center_series": false,
          "color": "#FF9BBB59",
          "hasClickAction": false,
          "showItemLabel": false,
          "style": "SOLID",
          "type": "CategoryStems",
          "uid": "f1a2a3b0-e30a-4da6-b355-fbbd276fc4e7",
          "use_tool_tip": true,
          "value": [
           [
            12.4,
            19.5,
            15.1,
            8.2
           ],
           [
            24.3,
            23.3,
            30.1,
            18.2
           ]
          ],
          "visible": true,
          "width": 1.5,
          "yAxis": null
         },
         {
          "center_series": false,
          "color": null,
          "fill": null,
          "hasClickAction": false,
          "outline_color": "#FF9BBB59",
          "shape": "DEFAULT",
          "showItemLabel": false,
          "size": 12,
          "type": "CategoryPoints",
          "uid": "c94691ab-b84f-44aa-b3db-9f06bf997c7f",
          "use_tool_tip": true,
          "value": [
           [
            12.4,
            19.5,
            15.1,
            8.2
           ],
           [
            24.3,
            23.3,
            30.1,
            18.2
           ]
          ],
          "visible": true,
          "yAxis": null
         },
         {
          "center_series": false,
          "color": null,
          "fill": null,
          "hasClickAction": false,
          "outline_color": "#FF9BBB59",
          "shape": "DEFAULT",
          "showItemLabel": false,
          "size": 12,
          "type": "CategoryPoints",
          "uid": "9a326a41-b5db-4026-8309-0ace39dc373d",
          "use_tool_tip": true,
          "value": [
           [
            7.6,
            10.5,
            10.9,
            5.8
           ],
           [
            19.7,
            12.7,
            25.9,
            15.8
           ]
          ],
          "visible": true,
          "yAxis": null
         }
        ],
        "init_height": 400,
        "init_width": 500,
        "legend_layout": "VERTICAL",
        "legend_position": {
         "position": "TOP_RIGHT",
         "type": "LegendPosition"
        },
        "log_y": false,
        "omit_checkboxes": false,
        "orientation": "VERTICAL",
        "rangeAxes": [
         {
          "auto_range": true,
          "auto_range_includes_zero": false,
          "label": "Temperature ° Celcius",
          "log_base": 10,
          "lower_bound": 0,
          "lower_margin": 0,
          "type": "YAxis",
          "upper_bound": 0,
          "upper_margin": 0,
          "use_log": false
         }
        ],
        "show_legend": null,
        "timezone": null,
        "tips": {},
        "type": "CategoryPlot",
        "use_tool_tip": true,
        "x_lower_margin": 0.05,
        "x_upper_margin": 0.05,
        "y_auto_range": true,
        "y_auto_range_includes_zero": false,
        "y_label": "Temperature ° Celcius",
        "y_lower_bound": 0,
        "y_lower_margin": 0,
        "y_upper_bound": 0,
        "y_upper_margin": 0
       }
      }
     },
     "c2f21ca0-815e-475a-910d-ee49de261ddd": {
      "model_module": "beakerx",
      "model_module_version": "*",
      "model_name": "PlotModel",
      "state": {
       "model": {
        "categoryNames": [],
        "categoryNamesLabelAngle": 0,
        "category_margin": 0.2,
        "chart_title": null,
        "crosshair": null,
        "custom_styles": [],
        "domain_axis_label": null,
        "element_styles": {},
        "graphics_list": [
         {
          "center_series": false,
          "color": null,
          "fill": null,
          "hasClickAction": false,
          "outline_color": null,
          "shape": "DEFAULT",
          "showItemLabel": false,
          "size": 6,
          "type": "CategoryPoints",
          "uid": "e114df47-2b01-43d4-8c7f-19cf2263a32e",
          "use_tool_tip": true,
          "value": [
           [
            1,
            2,
            4
           ],
           [
            4,
            5,
            8
           ]
          ],
          "visible": true,
          "yAxis": null
         }
        ],
        "init_height": 480,
        "init_width": 640,
        "legend_layout": "VERTICAL",
        "legend_position": {
         "position": "TOP_RIGHT",
         "type": "LegendPosition"
        },
        "log_y": false,
        "numberOfPoints": 0,
        "omit_checkboxes": false,
        "orientation": "VERTICAL",
        "outputPointsLimit": 1000000,
        "outputPointsPreviewNumber": 10000,
        "rangeAxes": [
         {
          "auto_range": true,
          "auto_range_includes_zero": false,
          "label": "",
          "log_base": 10,
          "lower_bound": 0,
          "lower_margin": 0,
          "type": "YAxis",
          "upper_bound": 0,
          "upper_margin": 0,
          "use_log": false
         }
        ],
        "show_legend": null,
        "timezone": null,
        "tips": {},
        "type": "CategoryPlot",
        "use_tool_tip": true,
        "x_lower_margin": 0.05,
        "x_upper_margin": 0.05,
        "y_auto_range": true,
        "y_auto_range_includes_zero": false,
        "y_label": "",
        "y_lower_bound": 0,
        "y_lower_margin": 0,
        "y_upper_bound": 0,
        "y_upper_margin": 0
       }
      }
     },
     "c489aab0-5cca-4803-a808-305371470802": {
      "model_module": "beakerx",
      "model_module_version": "*",
      "model_name": "PlotModel",
      "state": {
       "model": {
        "categoryNames": [],
        "categoryNamesLabelAngle": 0,
        "category_margin": 0.2,
        "chart_title": null,
        "crosshair": null,
        "custom_styles": [],
        "domain_axis_label": null,
        "element_styles": {},
        "graphics_list": [
         {
          "base": -2,
          "center_series": false,
          "color": null,
          "fill": null,
          "hasClickAction": false,
          "labelPosition": "CENTER",
          "outline": false,
          "outline_color": null,
          "showItemLabel": false,
          "type": "CategoryBars",
          "uid": "039eac81-8802-474e-b9c5-e8e89a7ceae0",
          "use_tool_tip": true,
          "value": [
           [
            1,
            2,
            3
           ],
           [
            4,
            5,
            6
           ]
          ],
          "visible": true,
          "width": null,
          "yAxis": null
         }
        ],
        "init_height": 480,
        "init_width": 640,
        "legend_layout": "VERTICAL",
        "legend_position": {
         "position": "TOP_RIGHT",
         "type": "LegendPosition"
        },
        "log_y": false,
        "omit_checkboxes": false,
        "orientation": "VERTICAL",
        "rangeAxes": [
         {
          "auto_range": true,
          "auto_range_includes_zero": false,
          "label": "",
          "log_base": 10,
          "lower_bound": 0,
          "lower_margin": 0,
          "type": "YAxis",
          "upper_bound": 0,
          "upper_margin": 0,
          "use_log": false
         }
        ],
        "show_legend": null,
        "timezone": null,
        "tips": {},
        "type": "CategoryPlot",
        "use_tool_tip": true,
        "x_lower_margin": 0.05,
        "x_upper_margin": 0.05,
        "y_auto_range": true,
        "y_auto_range_includes_zero": false,
        "y_label": "",
        "y_lower_bound": 0,
        "y_lower_margin": 0,
        "y_upper_bound": 0,
        "y_upper_margin": 0
       }
      }
     },
     "c4db7762-2263-45df-9903-a325cad733ec": {
      "model_module": "beakerx",
      "model_module_version": "*",
      "model_name": "PlotModel",
      "state": {
       "model": {
        "categoryNames": [],
        "categoryNamesLabelAngle": 0,
        "category_margin": 0.2,
        "chart_title": null,
        "crosshair": null,
        "custom_styles": [],
        "domain_axis_label": null,
        "element_styles": {},
        "graphics_list": [
         {
          "base": 0,
          "center_series": false,
          "color": null,
          "fill": null,
          "hasClickAction": false,
          "labelPosition": "CENTER",
          "outline": false,
          "outline_color": null,
          "showItemLabel": false,
          "type": "CategoryBars",
          "uid": "aedd1a17-4db9-4814-933c-e250087d744b",
          "use_tool_tip": true,
          "value": [
           [
            1,
            2,
            3
           ],
           [
            1,
            3,
            5
           ]
          ],
          "visible": true,
          "width": null,
          "yAxis": null
         }
        ],
        "init_height": 480,
        "init_width": 640,
        "legend_layout": "VERTICAL",
        "legend_position": {
         "position": "TOP_RIGHT",
         "type": "LegendPosition"
        },
        "log_y": false,
        "numberOfPoints": 0,
        "omit_checkboxes": false,
        "orientation": "VERTICAL",
        "outputPointsLimit": 1000000,
        "outputPointsPreviewNumber": 10000,
        "rangeAxes": [
         {
          "auto_range": true,
          "auto_range_includes_zero": false,
          "label": "",
          "log_base": 10,
          "lower_bound": 0,
          "lower_margin": 0,
          "type": "YAxis",
          "upper_bound": 0,
          "upper_margin": 0,
          "use_log": false
         }
        ],
        "show_legend": true,
        "timezone": null,
        "tips": {},
        "type": "CategoryPlot",
        "use_tool_tip": true,
        "x_lower_margin": 0.05,
        "x_upper_margin": 0.05,
        "y_auto_range": true,
        "y_auto_range_includes_zero": false,
        "y_label": "",
        "y_lower_bound": 0,
        "y_lower_margin": 0,
        "y_upper_bound": 0,
        "y_upper_margin": 0
       }
      }
     },
     "c8254161-c608-4ccf-adf8-f8c380647b32": {
      "model_module": "beakerx",
      "model_module_version": "*",
      "model_name": "PlotModel",
      "state": {
       "model": {
        "categoryNames": [],
        "categoryNamesLabelAngle": 0,
        "category_margin": 0.2,
        "chart_title": null,
        "crosshair": null,
        "custom_styles": [],
        "domain_axis_label": null,
        "element_styles": {},
        "graphics_list": [
         {
          "base": 0,
          "center_series": false,
          "colors": [
           [
            "#FFFF0000",
            "#FF808080"
           ],
           [
            "#FF808080",
            "#FF808080"
           ],
           [
            "#FF0000FF",
            "#FFFFAFAF"
           ]
          ],
          "fill": null,
          "hasClickAction": false,
          "labelPosition": "CENTER",
          "outline": false,
          "outline_color": null,
          "showItemLabel": false,
          "type": "CategoryBars",
          "uid": "cc5e3c57-c166-427b-be10-4a9b1b9e20e9",
          "use_tool_tip": true,
          "value": [
           [
            1,
            2
           ],
           [
            3,
            4
           ],
           [
            5,
            6
           ]
          ],
          "visible": true,
          "width": null,
          "yAxis": null
         }
        ],
        "init_height": 480,
        "init_width": 640,
        "legend_layout": "VERTICAL",
        "legend_position": {
         "position": "TOP_RIGHT",
         "type": "LegendPosition"
        },
        "log_y": false,
        "numberOfPoints": 0,
        "omit_checkboxes": false,
        "orientation": "VERTICAL",
        "outputPointsLimit": 1000000,
        "outputPointsPreviewNumber": 10000,
        "rangeAxes": [
         {
          "auto_range": true,
          "auto_range_includes_zero": false,
          "label": "",
          "log_base": 10,
          "lower_bound": 0,
          "lower_margin": 0,
          "type": "YAxis",
          "upper_bound": 0,
          "upper_margin": 0,
          "use_log": false
         }
        ],
        "show_legend": null,
        "timezone": null,
        "tips": {},
        "type": "CategoryPlot",
        "use_tool_tip": true,
        "x_lower_margin": 0.05,
        "x_upper_margin": 0.05,
        "y_auto_range": true,
        "y_auto_range_includes_zero": false,
        "y_label": "",
        "y_lower_bound": 0,
        "y_lower_margin": 0,
        "y_upper_bound": 0,
        "y_upper_margin": 0
       }
      }
     },
     "cf571cae-00bf-4b2e-b9e2-8c04bf82c1a0": {
      "model_module": "beakerx",
      "model_module_version": "*",
      "model_name": "PlotModel",
      "state": {
       "model": {
        "categoryNames": [],
        "categoryNamesLabelAngle": 0,
        "category_margin": 0.2,
        "chart_title": null,
        "crosshair": null,
        "custom_styles": [],
        "domain_axis_label": null,
        "element_styles": {},
        "graphics_list": [
         {
          "base": 0,
          "center_series": false,
          "color": null,
          "hasClickAction": false,
          "showItemLabel": true,
          "style": "SOLID",
          "type": "CategoryStems",
          "uid": "6182e172-9e97-4bca-a4dc-9821ec1eb579",
          "use_tool_tip": true,
          "value": [
           [
            -3,
            2,
            4
           ],
           [
            4,
            5,
            8
           ]
          ],
          "visible": true,
          "width": 10,
          "yAxis": null
         }
        ],
        "init_height": 480,
        "init_width": 640,
        "legend_layout": "VERTICAL",
        "legend_position": {
         "position": "TOP_RIGHT",
         "type": "LegendPosition"
        },
        "log_y": false,
        "numberOfPoints": 0,
        "omit_checkboxes": false,
        "orientation": "VERTICAL",
        "outputPointsLimit": 1000000,
        "outputPointsPreviewNumber": 10000,
        "rangeAxes": [
         {
          "auto_range": true,
          "auto_range_includes_zero": false,
          "label": "",
          "log_base": 10,
          "lower_bound": 0,
          "lower_margin": 0,
          "type": "YAxis",
          "upper_bound": 0,
          "upper_margin": 0,
          "use_log": false
         }
        ],
        "show_legend": null,
        "timezone": null,
        "tips": {},
        "type": "CategoryPlot",
        "use_tool_tip": true,
        "x_lower_margin": 0.05,
        "x_upper_margin": 0.05,
        "y_auto_range": true,
        "y_auto_range_includes_zero": false,
        "y_label": "",
        "y_lower_bound": 0,
        "y_lower_margin": 0,
        "y_upper_bound": 0,
        "y_upper_margin": 0
       }
      }
     },
     "d3eb4a93-8ce5-4dc3-b7cf-f0662673d7df": {
      "model_module": "beakerx",
      "model_module_version": "*",
      "model_name": "PlotModel",
      "state": {
       "model": {
        "categoryNames": [],
        "categoryNamesLabelAngle": 0,
        "category_margin": 0.2,
        "chart_title": null,
        "crosshair": null,
        "custom_styles": [],
        "domain_axis_label": null,
        "element_styles": {},
        "graphics_list": [
         {
          "base": 0,
          "center_series": false,
          "color": null,
          "fill": null,
          "hasClickAction": false,
          "labelPosition": "BASE_OUTSIDE",
          "outline": false,
          "outline_color": null,
          "showItemLabel": true,
          "type": "CategoryBars",
          "uid": "a6f960ce-2b9f-4695-a405-bc59fa514339",
          "use_tool_tip": true,
          "value": [
           [
            -5,
            2,
            3
           ],
           [
            1,
            3,
            5
           ]
          ],
          "visible": true,
          "width": null,
          "yAxis": null
         }
        ],
        "init_height": 480,
        "init_width": 640,
        "legend_layout": "VERTICAL",
        "legend_position": {
         "position": "TOP_RIGHT",
         "type": "LegendPosition"
        },
        "log_y": false,
        "omit_checkboxes": false,
        "orientation": "VERTICAL",
        "rangeAxes": [
         {
          "auto_range": true,
          "auto_range_includes_zero": false,
          "label": "",
          "log_base": 10,
          "lower_bound": 0,
          "lower_margin": 0,
          "type": "YAxis",
          "upper_bound": 0,
          "upper_margin": 0,
          "use_log": false
         }
        ],
        "show_legend": null,
        "timezone": null,
        "tips": {},
        "type": "CategoryPlot",
        "use_tool_tip": true,
        "x_lower_margin": 0.05,
        "x_upper_margin": 0.05,
        "y_auto_range": true,
        "y_auto_range_includes_zero": false,
        "y_label": "",
        "y_lower_bound": 0,
        "y_lower_margin": 0,
        "y_upper_bound": 0,
        "y_upper_margin": 0
       }
      }
     },
     "dbbbebe9-04f0-404d-989d-21f4220b00b7": {
      "model_module": "beakerx",
      "model_module_version": "*",
      "model_name": "PlotModel",
      "state": {
       "model": {
        "categoryNames": [],
        "categoryNamesLabelAngle": 0,
        "category_margin": 0.2,
        "chart_title": null,
        "crosshair": null,
        "custom_styles": [],
        "domain_axis_label": null,
        "element_styles": {},
        "graphics_list": [
         {
          "base": 0,
          "center_series": false,
          "color": null,
          "fill": null,
          "hasClickAction": false,
          "labelPosition": "CENTER",
          "outline": false,
          "outline_color": null,
          "showItemLabel": false,
          "type": "CategoryBars",
          "uid": "15a0a4ec-3469-4036-aa65-e14c9ec0fb2e",
          "use_tool_tip": true,
          "value": [
           [
            1,
            2,
            3
           ],
           [
            4,
            5,
            6
           ]
          ],
          "visible": true,
          "widths": [
           [
            0.3,
            0.6,
            1.7
           ],
           1
          ],
          "yAxis": null
         }
        ],
        "init_height": 480,
        "init_width": 640,
        "legend_layout": "VERTICAL",
        "legend_position": {
         "position": "TOP_RIGHT",
         "type": "LegendPosition"
        },
        "log_y": false,
        "omit_checkboxes": false,
        "orientation": "VERTICAL",
        "rangeAxes": [
         {
          "auto_range": true,
          "auto_range_includes_zero": false,
          "label": "",
          "log_base": 10,
          "lower_bound": 0,
          "lower_margin": 0,
          "type": "YAxis",
          "upper_bound": 0,
          "upper_margin": 0,
          "use_log": false
         }
        ],
        "show_legend": null,
        "timezone": null,
        "tips": {},
        "type": "CategoryPlot",
        "use_tool_tip": true,
        "x_lower_margin": 0.05,
        "x_upper_margin": 0.05,
        "y_auto_range": true,
        "y_auto_range_includes_zero": false,
        "y_label": "",
        "y_lower_bound": 0,
        "y_lower_margin": 0,
        "y_upper_bound": 0,
        "y_upper_margin": 0
       }
      }
     },
     "dcf9eef0-8ec9-4ec0-91c5-2ad9ab1f687a": {
      "model_module": "beakerx",
      "model_module_version": "*",
      "model_name": "PlotModel",
      "state": {
       "model": {
        "categoryNames": [],
        "categoryNamesLabelAngle": 0,
        "category_margin": 0.2,
        "chart_title": null,
        "crosshair": null,
        "custom_styles": [],
        "domain_axis_label": null,
        "element_styles": {},
        "graphics_list": [
         {
          "base": 0,
          "center_series": false,
          "color": null,
          "fill": null,
          "hasClickAction": false,
          "labelPosition": "CENTER",
          "outline": false,
          "outline_color": null,
          "showItemLabel": false,
          "type": "CategoryBars",
          "uid": "aa9945bd-49c4-405e-9b2c-28e36ec1e1b1",
          "use_tool_tip": true,
          "value": [
           [
            1,
            2,
            3
           ],
           [
            1,
            3,
            5
           ]
          ],
          "visible": true,
          "width": null,
          "yAxis": null
         }
        ],
        "init_height": 480,
        "init_width": 640,
        "legend_layout": "VERTICAL",
        "legend_position": {
         "position": "TOP_RIGHT",
         "type": "LegendPosition"
        },
        "log_y": false,
        "numberOfPoints": 0,
        "omit_checkboxes": false,
        "orientation": "VERTICAL",
        "outputPointsLimit": 1000000,
        "outputPointsPreviewNumber": 10000,
        "rangeAxes": [
         {
          "auto_range": true,
          "auto_range_includes_zero": false,
          "label": "",
          "log_base": 10,
          "lower_bound": 0,
          "lower_margin": 0,
          "type": "YAxis",
          "upper_bound": 0,
          "upper_margin": 0,
          "use_log": false
         }
        ],
        "show_legend": null,
        "timezone": null,
        "tips": {},
        "type": "CategoryPlot",
        "use_tool_tip": true,
        "x_lower_margin": 0.05,
        "x_upper_margin": 0.05,
        "y_auto_range": true,
        "y_auto_range_includes_zero": false,
        "y_label": "",
        "y_lower_bound": 0,
        "y_lower_margin": 0,
        "y_upper_bound": 0,
        "y_upper_margin": 0
       }
      }
     },
     "e525a0b5-7876-4ba1-bbd8-1c8dba9b5511": {
      "model_module": "beakerx",
      "model_module_version": "*",
      "model_name": "PlotModel",
      "state": {
       "model": {
        "categoryNames": [],
        "categoryNamesLabelAngle": 0,
        "category_margin": 0.2,
        "chart_title": null,
        "crosshair": null,
        "custom_styles": [],
        "domain_axis_label": null,
        "element_styles": {},
        "graphics_list": [
         {
          "base": 0,
          "center_series": false,
          "colors": [
           "#FF000000",
           "#FFFF0000"
          ],
          "hasClickAction": false,
          "showItemLabel": false,
          "styles": [
           "DASH",
           "LONGDASH"
          ],
          "type": "CategoryStems",
          "uid": "577dc06b-42bc-4118-a75f-56fb680ed9a6",
          "use_tool_tip": true,
          "value": [
           [
            1,
            2,
            4
           ],
           [
            4,
            5,
            8
           ]
          ],
          "visible": true,
          "width": 1.5,
          "yAxis": null
         }
        ],
        "init_height": 480,
        "init_width": 640,
        "legend_layout": "VERTICAL",
        "legend_position": {
         "position": "TOP_RIGHT",
         "type": "LegendPosition"
        },
        "log_y": false,
        "numberOfPoints": 0,
        "omit_checkboxes": false,
        "orientation": "VERTICAL",
        "outputPointsLimit": 1000000,
        "outputPointsPreviewNumber": 10000,
        "rangeAxes": [
         {
          "auto_range": true,
          "auto_range_includes_zero": false,
          "label": "",
          "log_base": 10,
          "lower_bound": 0,
          "lower_margin": 0,
          "type": "YAxis",
          "upper_bound": 0,
          "upper_margin": 0,
          "use_log": false
         }
        ],
        "show_legend": null,
        "timezone": null,
        "tips": {},
        "type": "CategoryPlot",
        "use_tool_tip": true,
        "x_lower_margin": 0.05,
        "x_upper_margin": 0.05,
        "y_auto_range": true,
        "y_auto_range_includes_zero": false,
        "y_label": "",
        "y_lower_bound": 0,
        "y_lower_margin": 0,
        "y_upper_bound": 0,
        "y_upper_margin": 0
       }
      }
     },
     "e9755fe4-3981-49f3-bd26-a4003fdc9584": {
      "model_module": "beakerx",
      "model_module_version": "*",
      "model_name": "PlotModel",
      "state": {
       "model": {
        "categoryNames": [
         "Q1",
         "Q2",
         "Q3",
         "Q4"
        ],
        "categoryNamesLabelAngle": 0,
        "category_margin": 0.2,
        "chart_title": "Multiple Y Axes Demo",
        "crosshair": null,
        "custom_styles": [],
        "domain_axis_label": null,
        "element_styles": {},
        "graphics_list": [
         {
          "base": 0,
          "center_series": false,
          "color": "#FFFFAFAF",
          "fill": null,
          "hasClickAction": false,
          "labelPosition": "VALUE_INSIDE",
          "outline": false,
          "outline_color": null,
          "showItemLabel": true,
          "type": "CategoryBars",
          "uid": "5e1cefc7-00e9-48cc-8b99-8afbd45809c0",
          "use_tool_tip": true,
          "value": [
           [
            1500,
            2200,
            2500,
            4000
           ]
          ],
          "visible": true,
          "width": 0.6000000238418579,
          "yAxis": "Volume"
         },
         {
          "center_series": false,
          "color": "#FF808080",
          "hasClickAction": false,
          "showItemLabel": true,
          "style": "SOLID",
          "type": "CategoryLines",
          "uid": "56fd9db7-5560-4734-8f67-20d94bf4065a",
          "use_tool_tip": true,
          "value": [
           [
            5,
            2,
            3.5,
            4
           ]
          ],
          "visible": true,
          "width": 1.5,
          "yAxis": null
         },
         {
          "center_series": false,
          "color": "#FF808080",
          "fill": null,
          "hasClickAction": false,
          "outline_color": null,
          "shape": "DEFAULT",
          "showItemLabel": false,
          "size": 6,
          "type": "CategoryPoints",
          "uid": "f6cffdae-837b-4609-94f9-dcf0724a6432",
          "use_tool_tip": true,
          "value": [
           [
            5,
            2,
            3.5,
            4
           ]
          ],
          "visible": true,
          "yAxis": null
         }
        ],
        "init_height": 480,
        "init_width": 640,
        "legend_layout": "VERTICAL",
        "legend_position": {
         "position": "TOP_RIGHT",
         "type": "LegendPosition"
        },
        "log_y": false,
        "numberOfPoints": 0,
        "omit_checkboxes": false,
        "orientation": "VERTICAL",
        "outputPointsLimit": 1000000,
        "outputPointsPreviewNumber": 10000,
        "rangeAxes": [
         {
          "auto_range": true,
          "auto_range_includes_zero": false,
          "label": "Price",
          "log_base": 10,
          "lower_bound": 0,
          "lower_margin": 0,
          "type": "YAxis",
          "upper_bound": 0,
          "upper_margin": 0,
          "use_log": false
         },
         {
          "auto_range": true,
          "auto_range_includes_zero": false,
          "label": "Volume",
          "log_base": 10,
          "lower_bound": 0,
          "lower_margin": 0,
          "type": "YAxis",
          "upper_bound": 0,
          "upper_margin": 1,
          "use_log": false
         }
        ],
        "show_legend": null,
        "timezone": null,
        "tips": {},
        "type": "CategoryPlot",
        "use_tool_tip": true,
        "x_lower_margin": 0.05,
        "x_upper_margin": 0.05,
        "y_auto_range": true,
        "y_auto_range_includes_zero": false,
        "y_label": "Price",
        "y_lower_bound": 0,
        "y_lower_margin": 0,
        "y_upper_bound": 0,
        "y_upper_margin": 0
       }
      }
     },
     "f2fea5d0-1835-4e9f-84dd-0286ec4185b6": {
      "model_module": "beakerx",
      "model_module_version": "*",
      "model_name": "PlotModel",
      "state": {
       "model": {
        "categoryNames": [],
        "categoryNamesLabelAngle": 0,
        "category_margin": 0.2,
        "chart_title": null,
        "crosshair": null,
        "custom_styles": [],
        "domain_axis_label": null,
        "element_styles": {},
        "graphics_list": [
         {
          "base": 0,
          "center_series": false,
          "color": null,
          "fill": null,
          "hasClickAction": false,
          "labelPosition": "CENTER",
          "outline": false,
          "outline_color": null,
          "seriesNames": [
           "Gas",
           "Liquid"
          ],
          "showItemLabel": false,
          "type": "CategoryBars",
          "uid": "d808da27-48ea-4806-a64a-379b220b7499",
          "use_tool_tip": true,
          "value": [
           [
            1,
            2,
            3
           ],
           [
            1,
            3,
            5
           ]
          ],
          "visible": true,
          "width": null,
          "yAxis": null
         }
        ],
        "init_height": 480,
        "init_width": 640,
        "legend_layout": "VERTICAL",
        "legend_position": {
         "position": "TOP_RIGHT",
         "type": "LegendPosition"
        },
        "log_y": false,
        "omit_checkboxes": false,
        "orientation": "VERTICAL",
        "rangeAxes": [
         {
          "auto_range": true,
          "auto_range_includes_zero": false,
          "label": "",
          "log_base": 10,
          "lower_bound": 0,
          "lower_margin": 0,
          "type": "YAxis",
          "upper_bound": 0,
          "upper_margin": 0,
          "use_log": false
         }
        ],
        "show_legend": null,
        "timezone": null,
        "tips": {},
        "type": "CategoryPlot",
        "use_tool_tip": true,
        "x_lower_margin": 0.05,
        "x_upper_margin": 0.05,
        "y_auto_range": true,
        "y_auto_range_includes_zero": false,
        "y_label": "",
        "y_lower_bound": 0,
        "y_lower_margin": 0,
        "y_upper_bound": 0,
        "y_upper_margin": 0
       }
      }
     },
     "f6f8f664-3525-4ad8-957f-fa877eec66e1": {
      "model_module": "beakerx",
      "model_module_version": "*",
      "model_name": "PlotModel",
      "state": {
       "model": {
        "categoryNames": [],
        "categoryNamesLabelAngle": 0,
        "category_margin": 0.2,
        "chart_title": null,
        "crosshair": null,
        "custom_styles": [],
        "domain_axis_label": null,
        "element_styles": {},
        "graphics_list": [
         {
          "base": 0,
          "center_series": false,
          "color": null,
          "fill": null,
          "hasClickAction": false,
          "labelPosition": "CENTER",
          "outline": false,
          "outline_color": null,
          "showItemLabel": false,
          "type": "CategoryBars",
          "uid": "a348f82e-73bb-40ad-b6bc-7b3f63fdb9d7",
          "use_tool_tip": true,
          "value": [
           [
            1,
            2,
            3
           ],
           [
            1,
            3,
            5
           ]
          ],
          "visible": true,
          "width": null,
          "yAxis": null
         }
        ],
        "init_height": 200,
        "init_width": 400,
        "legend_layout": "VERTICAL",
        "legend_position": {
         "position": "TOP_RIGHT",
         "type": "LegendPosition"
        },
        "log_y": false,
        "omit_checkboxes": false,
        "orientation": "VERTICAL",
        "rangeAxes": [
         {
          "auto_range": true,
          "auto_range_includes_zero": false,
          "label": "",
          "log_base": 10,
          "lower_bound": 0,
          "lower_margin": 0,
          "type": "YAxis",
          "upper_bound": 0,
          "upper_margin": 0,
          "use_log": false
         }
        ],
        "show_legend": null,
        "timezone": null,
        "tips": {},
        "type": "CategoryPlot",
        "use_tool_tip": true,
        "x_lower_margin": 0.05,
        "x_upper_margin": 0.05,
        "y_auto_range": true,
        "y_auto_range_includes_zero": false,
        "y_label": "",
        "y_lower_bound": 0,
        "y_lower_margin": 0,
        "y_upper_bound": 0,
        "y_upper_margin": 0
       }
      }
     }
    },
    "version_major": 2,
    "version_minor": 0
   }
  }
 },
 "nbformat": 4,
 "nbformat_minor": 1
}
