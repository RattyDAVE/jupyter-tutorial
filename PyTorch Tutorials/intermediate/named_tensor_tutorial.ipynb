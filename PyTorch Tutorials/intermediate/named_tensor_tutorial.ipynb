{
  "cells": [
    {
      "cell_type": "code",
      "execution_count": null,
      "metadata": {
        "collapsed": false
      },
      "outputs": [],
      "source": [
        "%matplotlib inline"
      ]
    },
    {
      "cell_type": "markdown",
      "metadata": {},
      "source": [
        "\n(experimental) Introduction to Named Tensors in PyTorch\n*******************************************************\n**Author**: `Richard Zou <https://github.com/zou3519>`_\n\nNamed Tensors aim to make tensors easier to use by allowing users to associate\nexplicit names with tensor dimensions. In most cases, operations that take\ndimension parameters will accept dimension names, avoiding the need to track\ndimensions by position. In addition, named tensors use names to automatically\ncheck that APIs are being used correctly at runtime, providing extra safety.\nNames can also be used to rearrange dimensions, for example, to support\n\"broadcasting by name\" rather than \"broadcasting by position\".\n\nThis tutorial is intended as a guide to the functionality that will\nbe included with the 1.3 launch. By the end of it, you will be able to:\n\n- Create Tensors with named dimensions, as well as remove or rename those\n  dimensions\n- Understand the basics of how operations propagate dimension names\n- See how naming dimensions enables clearer code in two key areas:\n    - Broadcasting operations\n    - Flattening and unflattening dimensions\n\nFinally, we'll put this into practice by writing a multi-head attention module\nusing named tensors.\n\nNamed tensors in PyTorch are inspired by and done in collaboration with\n`Sasha Rush <https://tech.cornell.edu/people/alexander-rush/>`_.\nSasha proposed the original idea and proof of concept in his\n`January 2019 blog post <http://nlp.seas.harvard.edu/NamedTensor>`_.\n\nBasics: named dimensions\n========================\n\nPyTorch now allows Tensors to have named dimensions; factory functions\ntake a new `names` argument that associates a name with each dimension.\nThis works with most factory functions, such as\n\n- `tensor`\n- `empty`\n- `ones`\n- `zeros`\n- `randn`\n- `rand`\n\nHere we construct a tensor with names:\n"
      ]
    },
    {
      "cell_type": "code",
      "execution_count": null,
      "metadata": {
        "collapsed": false
      },
      "outputs": [],
      "source": [
        "import torch\nimgs = torch.randn(1, 2, 2, 3, names=('N', 'C', 'H', 'W'))\nprint(imgs.names)"
      ]
    },
    {
      "cell_type": "markdown",
      "metadata": {},
      "source": [
        "Unlike in\n`the original named tensors blogpost <http://nlp.seas.harvard.edu/NamedTensor>`_,\nnamed dimensions are ordered: ``tensor.names[i]`` is the name of the ``i`` th\ndimension of ``tensor``.\n\nThere are two ways to rename a ``Tensor``'s dimensions:\n\n"
      ]
    },
    {
      "cell_type": "code",
      "execution_count": null,
      "metadata": {
        "collapsed": false
      },
      "outputs": [],
      "source": [
        "# Method #1: set the .names attribute (this changes name in-place)\nimgs.names = ['batch', 'channel', 'width', 'height']\nprint(imgs.names)\n\n# Method #2: specify new names (this changes names out-of-place)\nimgs = imgs.rename(channel='C', width='W', height='H')\nprint(imgs.names)"
      ]
    },
    {
      "cell_type": "markdown",
      "metadata": {},
      "source": [
        "The preferred way to remove names is to call ``tensor.rename(None)``:\n\n"
      ]
    },
    {
      "cell_type": "code",
      "execution_count": null,
      "metadata": {
        "collapsed": false
      },
      "outputs": [],
      "source": [
        "imgs = imgs.rename(None)\nprint(imgs.names)"
      ]
    },
    {
      "cell_type": "markdown",
      "metadata": {},
      "source": [
        "Unnamed tensors (tensors with no named dimensions) still work as\nnormal and do not have names in their ``repr``.\n\n"
      ]
    },
    {
      "cell_type": "code",
      "execution_count": null,
      "metadata": {
        "collapsed": false
      },
      "outputs": [],
      "source": [
        "unnamed = torch.randn(2, 1, 3)\nprint(unnamed)\nprint(unnamed.names)"
      ]
    },
    {
      "cell_type": "markdown",
      "metadata": {},
      "source": [
        "Named tensors do not require that all dimensions be named.\n\n"
      ]
    },
    {
      "cell_type": "code",
      "execution_count": null,
      "metadata": {
        "collapsed": false
      },
      "outputs": [],
      "source": [
        "imgs = torch.randn(3, 1, 1, 2, names=('N', None, None, None))\nprint(imgs.names)"
      ]
    },
    {
      "cell_type": "markdown",
      "metadata": {},
      "source": [
        "Because named tensors can coexist with unnamed tensors, we need a nice way to\nwrite named tensor-aware code that works with both named and unnamed tensors.\nUse ``tensor.refine_names(*names)`` to refine dimensions and lift unnamed\ndims to named dims. Refining a dimension is defined as a \"rename\" with the\nfollowing constraints:\n\n- A ``None`` dim can be refined to have any name\n- A named dim can only be refined to have the same name.\n\n"
      ]
    },
    {
      "cell_type": "code",
      "execution_count": null,
      "metadata": {
        "collapsed": false
      },
      "outputs": [],
      "source": [
        "imgs = torch.randn(3, 1, 1, 2)\nnamed_imgs = imgs.refine_names('N', 'C', 'H', 'W')\nprint(named_imgs.names)\n\n# Refine the last two dims to 'H' and 'W'. In Python 2, use the string '...'\n# instead of ...\nnamed_imgs = imgs.refine_names(..., 'H', 'W')\nprint(named_imgs.names)\n\n\ndef catch_error(fn):\n    try:\n        fn()\n        assert False\n    except RuntimeError as err:\n        err = str(err)\n        if len(err) > 180:\n            err = err[:180] + \"...\"\n        print(err)\n\n\nnamed_imgs = imgs.refine_names('N', 'C', 'H', 'W')\n\n# Tried to refine an existing name to a different name\ncatch_error(lambda: named_imgs.refine_names('N', 'C', 'H', 'width'))"
      ]
    },
    {
      "cell_type": "markdown",
      "metadata": {},
      "source": [
        "Most simple operations propagate names. The ultimate goal for named tensors\nis for all operations to propagate names in a reasonable, intuitive manner.\nSupport for many common operations has been added at the time of the 1.3\nrelease; here, for example, is ``.abs()``:\n\n"
      ]
    },
    {
      "cell_type": "code",
      "execution_count": null,
      "metadata": {
        "collapsed": false
      },
      "outputs": [],
      "source": [
        "print(named_imgs.abs().names)"
      ]
    },
    {
      "cell_type": "markdown",
      "metadata": {},
      "source": [
        "Accessors and Reduction\n-----------------------\n\nOne can use dimension names to refer to dimensions instead of the positional\ndimension. These operations also propagate names. Indexing (basic and\nadvanced) has not been implemented yet but is on the roadmap. Using the\n``named_imgs`` tensor from above, we can do:\n\n"
      ]
    },
    {
      "cell_type": "code",
      "execution_count": null,
      "metadata": {
        "collapsed": false
      },
      "outputs": [],
      "source": [
        "output = named_imgs.sum('C')  # Perform a sum over the channel dimension\nprint(output.names)\n\nimg0 = named_imgs.select('N', 0)  # get one image\nprint(img0.names)"
      ]
    },
    {
      "cell_type": "markdown",
      "metadata": {},
      "source": [
        "Name inference\n--------------\n\nNames are propagated on operations in a two step process called\n**name inference**:\n\n1. **Check names**: an operator may perform automatic checks at runtime that\n   check that certain dimension names must match.\n2. **Propagate names**: name inference propagates output names to output\n   tensors.\n\nLet's go through the very small example of adding 2 one-dim tensors with no\nbroadcasting.\n\n"
      ]
    },
    {
      "cell_type": "code",
      "execution_count": null,
      "metadata": {
        "collapsed": false
      },
      "outputs": [],
      "source": [
        "x = torch.randn(3, names=('X',))\ny = torch.randn(3)\nz = torch.randn(3, names=('Z',))"
      ]
    },
    {
      "cell_type": "markdown",
      "metadata": {},
      "source": [
        "**Check names**: first, we will check whether the names of these two tensors\n*match*. Two names match if and only if they are equal (string equality) or\nat least one is ``None`` (``None`` is essentially a special wildcard name).\nThe only one of these three that will error, therefore, is ``x + z``:\n\n"
      ]
    },
    {
      "cell_type": "code",
      "execution_count": null,
      "metadata": {
        "collapsed": false
      },
      "outputs": [],
      "source": [
        "catch_error(lambda: x + z)"
      ]
    },
    {
      "cell_type": "markdown",
      "metadata": {},
      "source": [
        "**Propagate names**: *unify* the two names by returning the most refined name\nof the two. With ``x + y``,  ``X`` is more refined than ``None``.\n\n"
      ]
    },
    {
      "cell_type": "code",
      "execution_count": null,
      "metadata": {
        "collapsed": false
      },
      "outputs": [],
      "source": [
        "print((x + y).names)"
      ]
    },
    {
      "cell_type": "markdown",
      "metadata": {},
      "source": [
        "Most name inference rules are straightforward but some of them can have\nunexpected semantics. Let's go through a couple you're likely to encounter:\nbroadcasting and matrix multiply.\n\nBroadcasting\n^^^^^^^^^^^^\n\nNamed tensors do not change broadcasting behavior; they still broadcast by\nposition. However, when checking two dimensions for if they can be\nbroadcasted, PyTorch also checks that the names of those dimensions match.\n\nThis results in named tensors preventing unintended alignment during\noperations that broadcast. In the below example, we apply a\n``per_batch_scale`` to ``imgs``.\n\n"
      ]
    },
    {
      "cell_type": "code",
      "execution_count": null,
      "metadata": {
        "collapsed": false
      },
      "outputs": [],
      "source": [
        "imgs = torch.randn(2, 2, 2, 2, names=('N', 'C', 'H', 'W'))\nper_batch_scale = torch.rand(2, names=('N',))\ncatch_error(lambda: imgs * per_batch_scale)"
      ]
    },
    {
      "cell_type": "markdown",
      "metadata": {},
      "source": [
        "Without ``names``, the ``per_batch_scale`` tensor is aligned with the last\ndimension of ``imgs``, which is not what we intended. We really wanted to\nperform the operation by aligning ``per_batch_scale`` with the batch\ndimension of ``imgs``.\nSee the new \"explicit broadcasting by names\" functionality for how to\nalign tensors by name, covered below.\n\nMatrix multiply\n^^^^^^^^^^^^^^^\n\n``torch.mm(A, B)`` performs a dot product between the second dim of ``A``\nand the first dim of ``B``, returning a tensor with the first dim of ``A``\nand the second dim of ``B``. (other matmul functions, such as\n``torch.matmul``, ``torch.mv``, and ``torch.dot``, behave similarly).\n\n"
      ]
    },
    {
      "cell_type": "code",
      "execution_count": null,
      "metadata": {
        "collapsed": false
      },
      "outputs": [],
      "source": [
        "markov_states = torch.randn(128, 5, names=('batch', 'D'))\ntransition_matrix = torch.randn(5, 5, names=('in', 'out'))\n\n# Apply one transition\nnew_state = markov_states @ transition_matrix\nprint(new_state.names)"
      ]
    },
    {
      "cell_type": "markdown",
      "metadata": {},
      "source": [
        "As you can see, matrix multiply does not check if the contracted dimensions\nhave the same name.\n\nNext, we'll cover two new behaviors that named tensors enable: explicit\nbroadcasting by names and flattening and unflattening dimensions by names\n\nNew behavior: Explicit broadcasting by names\n--------------------------------------------\n\nOne of the main complaints about working with multiple dimensions is the need\nto ``unsqueeze`` \"dummy\" dimensions so that operations can occur.\nFor example, in our per-batch-scale example before, with unnamed tensors\nwe'd do the following:\n\n"
      ]
    },
    {
      "cell_type": "code",
      "execution_count": null,
      "metadata": {
        "collapsed": false
      },
      "outputs": [],
      "source": [
        "imgs = torch.randn(2, 2, 2, 2)  # N, C, H, W\nper_batch_scale = torch.rand(2)  # N\n\ncorrect_result = imgs * per_batch_scale.view(2, 1, 1, 1)  # N, C, H, W\nincorrect_result = imgs * per_batch_scale.expand_as(imgs)\nassert not torch.allclose(correct_result, incorrect_result)"
      ]
    },
    {
      "cell_type": "markdown",
      "metadata": {},
      "source": [
        "We can make these operations safer (and easily agnostic to the number of\ndimensions) by using names. We provide a new ``tensor.align_as(other)``\noperation that permutes the dimensions of tensor to match the order specified\nin ``other.names``, adding one-sized dimensions where appropriate\n(``tensor.align_to(*names)`` works as well):\n\n"
      ]
    },
    {
      "cell_type": "code",
      "execution_count": null,
      "metadata": {
        "collapsed": false
      },
      "outputs": [],
      "source": [
        "imgs = imgs.refine_names('N', 'C', 'H', 'W')\nper_batch_scale = per_batch_scale.refine_names('N')\n\nnamed_result = imgs * per_batch_scale.align_as(imgs)\n# note: named tensors do not yet work with allclose\nassert torch.allclose(named_result.rename(None), correct_result)"
      ]
    },
    {
      "cell_type": "markdown",
      "metadata": {},
      "source": [
        "New behavior: Flattening and unflattening dimensions by names\n-------------------------------------------------------------\n\nOne common operation is flattening and unflattening dimensions. Right now,\nusers perform this using either ``view``, ``reshape``, or ``flatten``; use\ncases include flattening batch dimensions to send tensors into operators that\nmust take inputs with a certain number of dimensions (i.e., conv2d takes 4D\ninput).\n\nTo make these operation more semantically meaningful than view or reshape, we\nintroduce a new ``tensor.unflatten(dim, namedshape)`` method and update\n``flatten`` to work with names: ``tensor.flatten(dims, new_dim)``.\n\n``flatten`` can only flatten adjacent dimensions but also works on\nnon-contiguous dims. One must pass into ``unflatten`` a **named shape**,\nwhich is a list of ``(dim, size)`` tuples, to specify how to unflatten the\ndim. It is possible to save the sizes during a ``flatten`` for ``unflatten``\nbut we do not yet do that.\n\n"
      ]
    },
    {
      "cell_type": "code",
      "execution_count": null,
      "metadata": {
        "collapsed": false
      },
      "outputs": [],
      "source": [
        "imgs = imgs.flatten(['C', 'H', 'W'], 'features')\nprint(imgs.names)\n\nimgs = imgs.unflatten('features', (('C', 2), ('H', 2), ('W', 2)))\nprint(imgs.names)"
      ]
    },
    {
      "cell_type": "markdown",
      "metadata": {},
      "source": [
        "Autograd support\n----------------\n\nAutograd currently ignores names on all tensors and just treats them like\nregular tensors. Gradient computation is correct but we lose the safety that\nnames give us. It is on the roadmap to introduce handling of names to\nautograd.\n\n"
      ]
    },
    {
      "cell_type": "code",
      "execution_count": null,
      "metadata": {
        "collapsed": false
      },
      "outputs": [],
      "source": [
        "x = torch.randn(3, names=('D',))\nweight = torch.randn(3, names=('D',), requires_grad=True)\nloss = (x - weight).abs()\ngrad_loss = torch.randn(3)\nloss.backward(grad_loss)\n\ncorrect_grad = weight.grad.clone()\nprint(correct_grad)  # Unnamed for now. Will be named in the future\n\nweight.grad.zero_()\ngrad_loss = grad_loss.refine_names('C')\nloss = (x - weight).abs()\n# Ideally we'd check that the names of loss and grad_loss match, but we don't\n# yet\nloss.backward(grad_loss)\n\nprint(weight.grad)  # still unnamed\nassert torch.allclose(weight.grad, correct_grad)"
      ]
    },
    {
      "cell_type": "markdown",
      "metadata": {},
      "source": [
        "Other supported (and unsupported) features\n------------------------------------------\n\n`See here <https://pytorch.org/docs/stable/named_tensor.html>`_ for a\ndetailed breakdown of what is supported with the 1.3 release.\n\nIn particular, we want to call out three important features that are not\ncurrently supported:\n\n- Saving or loading named tensors via ``torch.save`` or ``torch.load``\n- Multi-processing via ``torch.multiprocessing``\n- JIT support; for example, the following will error\n\n"
      ]
    },
    {
      "cell_type": "code",
      "execution_count": null,
      "metadata": {
        "collapsed": false
      },
      "outputs": [],
      "source": [
        "imgs_named = torch.randn(1, 2, 2, 3, names=('N', 'C', 'H', 'W'))\n\n\n@torch.jit.script\ndef fn(x):\n    return x\n\n\ncatch_error(lambda: fn(imgs_named))"
      ]
    },
    {
      "cell_type": "markdown",
      "metadata": {},
      "source": [
        "As a workaround, please drop names via ``tensor = tensor.rename(None)``\nbefore using anything that does not yet support named tensors.\n\nLonger example: Multi-head attention\n--------------------------------------\n\nNow we'll go through a complete example of implementing a common\nPyTorch ``nn.Module``: multi-head attention. We assume the reader is already\nfamiliar with multi-head attention; for a refresher, check out\n`this explanation <https://nlp.seas.harvard.edu/2018/04/03/attention.html>`_\nor\n`this explanation <http://jalammar.github.io/illustrated-transformer/>`_.\n\nWe adapt the implementation of multi-head attention from\n`ParlAI <https://github.com/facebookresearch/ParlAI>`_; specifically\n`here <https://github.com/facebookresearch/ParlAI/blob/f7db35cba3f3faf6097b3e6b208442cd564783d9/parlai/agents/transformer/modules.py#L907>`_.\nRead through the code at that example; then, compare with the code below,\nnoting that there are four places labeled (I), (II), (III), and (IV), where\nusing named tensors enables more readable code; we will dive into each of\nthese after the code block.\n\n"
      ]
    },
    {
      "cell_type": "code",
      "execution_count": null,
      "metadata": {
        "collapsed": false
      },
      "outputs": [],
      "source": [
        "import torch.nn as nn\nimport torch.nn.functional as F\nimport math\n\n\nclass MultiHeadAttention(nn.Module):\n    def __init__(self, n_heads, dim, dropout=0):\n        super(MultiHeadAttention, self).__init__()\n        self.n_heads = n_heads\n        self.dim = dim\n\n        self.attn_dropout = nn.Dropout(p=dropout)\n        self.q_lin = nn.Linear(dim, dim)\n        self.k_lin = nn.Linear(dim, dim)\n        self.v_lin = nn.Linear(dim, dim)\n        nn.init.xavier_normal_(self.q_lin.weight)\n        nn.init.xavier_normal_(self.k_lin.weight)\n        nn.init.xavier_normal_(self.v_lin.weight)\n        self.out_lin = nn.Linear(dim, dim)\n        nn.init.xavier_normal_(self.out_lin.weight)\n\n    def forward(self, query, key=None, value=None, mask=None):\n        # (I)\n        query = query.refine_names(..., 'T', 'D')\n        self_attn = key is None and value is None\n        if self_attn:\n            mask = mask.refine_names(..., 'T')\n        else:\n            mask = mask.refine_names(..., 'T', 'T_key')  # enc attn\n\n        dim = query.size('D')\n        assert dim == self.dim, \\\n            f'Dimensions do not match: {dim} query vs {self.dim} configured'\n        assert mask is not None, 'Mask is None, please specify a mask'\n        n_heads = self.n_heads\n        dim_per_head = dim // n_heads\n        scale = math.sqrt(dim_per_head)\n\n        # (II)\n        def prepare_head(tensor):\n            tensor = tensor.refine_names(..., 'T', 'D')\n            return (tensor.unflatten('D', [('H', n_heads), ('D_head', dim_per_head)])\n                          .align_to(..., 'H', 'T', 'D_head'))\n\n        assert value is None\n        if self_attn:\n            key = value = query\n        elif value is None:\n            # key and value are the same, but query differs\n            key = key.refine_names(..., 'T', 'D')\n            value = key\n        dim = key.size('D')\n\n        # Distinguish between query_len (T) and key_len (T_key) dims.\n        k = prepare_head(self.k_lin(key)).rename(T='T_key')\n        v = prepare_head(self.v_lin(value)).rename(T='T_key')\n        q = prepare_head(self.q_lin(query))\n\n        dot_prod = q.div_(scale).matmul(k.align_to(..., 'D_head', 'T_key'))\n        dot_prod.refine_names(..., 'H', 'T', 'T_key')  # just a check\n\n        # (III)\n        attn_mask = (mask == 0).align_as(dot_prod)\n        dot_prod.masked_fill_(attn_mask, -float(1e20))\n\n        attn_weights = self.attn_dropout(F.softmax(dot_prod / scale,\n                                                   dim='T_key'))\n\n        # (IV)\n        attentioned = (\n            attn_weights.matmul(v).refine_names(..., 'H', 'T', 'D_head')\n            .align_to(..., 'T', 'H', 'D_head')\n            .flatten(['H', 'D_head'], 'D')\n        )\n\n        return self.out_lin(attentioned).refine_names(..., 'T', 'D')"
      ]
    },
    {
      "cell_type": "markdown",
      "metadata": {},
      "source": [
        "**(I) Refining the input tensor dims**\n\n"
      ]
    },
    {
      "cell_type": "code",
      "execution_count": null,
      "metadata": {
        "collapsed": false
      },
      "outputs": [],
      "source": [
        "def forward(self, query, key=None, value=None, mask=None):\n    # (I)\n    query = query.refine_names(..., 'T', 'D')"
      ]
    },
    {
      "cell_type": "markdown",
      "metadata": {},
      "source": [
        "The ``query = query.refine_names(..., 'T', 'D')`` serves as enforcable documentation\nand lifts input dimensions to being named. It checks that the last two dimensions\ncan be refined to ``['T', 'D']``, preventing potentially silent or confusing size\nmismatch errors later down the line.\n\n**(II)  Manipulating dimensions in prepare_head**\n\n"
      ]
    },
    {
      "cell_type": "code",
      "execution_count": null,
      "metadata": {
        "collapsed": false
      },
      "outputs": [],
      "source": [
        "# (II)\ndef prepare_head(tensor):\n    tensor = tensor.refine_names(..., 'T', 'D')\n    return (tensor.unflatten('D', [('H', n_heads), ('D_head', dim_per_head)])\n                  .align_to(..., 'H', 'T', 'D_head'))"
      ]
    },
    {
      "cell_type": "markdown",
      "metadata": {},
      "source": [
        "The first thing to note is how the code clearly states the input and\noutput dimensions: the input tensor must end with the ``T`` and ``D`` dims\nand the output tensor ends in ``H``, ``T``, and ``D_head`` dims.\n\nThe second thing to note is how clearly the code describes what is going on.\nprepare_head takes the key, query, and value and splits the embedding dim into\nmultiple heads, finally rearranging the dim order to be ``[..., 'H', 'T', 'D_head']``.\nParlAI implements ``prepare_head`` as the following, using ``view`` and ``transpose``\noperations:\n\n"
      ]
    },
    {
      "cell_type": "code",
      "execution_count": null,
      "metadata": {
        "collapsed": false
      },
      "outputs": [],
      "source": [
        "def prepare_head(tensor):\n    # input is [batch_size, seq_len, n_heads * dim_per_head]\n    # output is [batch_size * n_heads, seq_len, dim_per_head]\n    batch_size, seq_len, _ = tensor.size()\n    tensor = tensor.view(batch_size, tensor.size(1), n_heads, dim_per_head)\n    tensor = (\n        tensor.transpose(1, 2)\n        .contiguous()\n        .view(batch_size * n_heads, seq_len, dim_per_head)\n    )\n    return tensor"
      ]
    },
    {
      "cell_type": "markdown",
      "metadata": {},
      "source": [
        "Our named tensor variant uses ops that, though more verbose, have more\nsemantic meaning than ``view`` and ``transpose`` and includes enforcable\ndocumentation in the form of names.\n\n**(III) Explicit broadcasting by names**\n\n"
      ]
    },
    {
      "cell_type": "code",
      "execution_count": null,
      "metadata": {
        "collapsed": false
      },
      "outputs": [],
      "source": [
        "def ignore():\n    # (III)\n    attn_mask = (mask == 0).align_as(dot_prod)\n    dot_prod.masked_fill_(attn_mask, -float(1e20))"
      ]
    },
    {
      "cell_type": "markdown",
      "metadata": {},
      "source": [
        "``mask`` usually has dims ``[N, T]`` (in the case of self attention) or\n``[N, T, T_key]`` (in the case of encoder attention) while ``dot_prod``\nhas dims ``[N, H, T, T_key]``. To make ``mask`` broadcast correctly with\n``dot_prod``, we would usually `unsqueeze` dims ``1`` and ``-1`` in the case\nof self attention or ``unsqueeze`` dim ``1`` in the case of encoder\nattention. Using named tensors, we simply align ``attn_mask`` to ``dot_prod``\nusing ``align_as`` and stop worrying about where to ``unsqueeze`` dims.\n\n**(IV) More dimension manipulation using align_to and flatten**\n\n"
      ]
    },
    {
      "cell_type": "code",
      "execution_count": null,
      "metadata": {
        "collapsed": false
      },
      "outputs": [],
      "source": [
        "def ignore():\n    # (IV)\n    attentioned = (\n        attn_weights.matmul(v).refine_names(..., 'H', 'T', 'D_head')\n        .align_to(..., 'T', 'H', 'D_head')\n        .flatten(['H', 'D_head'], 'D')\n    )"
      ]
    },
    {
      "cell_type": "markdown",
      "metadata": {},
      "source": [
        "Here, as in (II), ``align_to`` and ``flatten`` are more semantically\nmeaningful than ``view`` and ``transpose`` (despite being more verbose).\n\nRunning the example\n-------------------\n\n"
      ]
    },
    {
      "cell_type": "code",
      "execution_count": null,
      "metadata": {
        "collapsed": false
      },
      "outputs": [],
      "source": [
        "n, t, d, h = 7, 5, 2 * 3, 3\nquery = torch.randn(n, t, d, names=('N', 'T', 'D'))\nmask = torch.ones(n, t, names=('N', 'T'))\nattn = MultiHeadAttention(h, d)\noutput = attn(query, mask=mask)\n# works as expected!\nprint(output.names)"
      ]
    },
    {
      "cell_type": "markdown",
      "metadata": {},
      "source": [
        "The above works as expected. Furthermore, note that in the code we\ndid not mention the name of the batch dimension at all. In fact,\nour ``MultiHeadAttention`` module is agnostic to the existence of batch\ndimensions.\n\n"
      ]
    },
    {
      "cell_type": "code",
      "execution_count": null,
      "metadata": {
        "collapsed": false
      },
      "outputs": [],
      "source": [
        "query = torch.randn(t, d, names=('T', 'D'))\nmask = torch.ones(t, names=('T',))\noutput = attn(query, mask=mask)\nprint(output.names)"
      ]
    },
    {
      "cell_type": "markdown",
      "metadata": {},
      "source": [
        "Conclusion\n----------\n\nThank you for reading! Named tensors are still very much in development;\nif you have feedback and/or suggestions for improvement, please let us\nknow by creating `an issue <https://github.com/pytorch/pytorch/issues>`_.\n\n"
      ]
    }
  ],
  "metadata": {
    "kernelspec": {
      "display_name": "Python 3",
      "language": "python",
      "name": "python3"
    },
    "language_info": {
      "codemirror_mode": {
        "name": "ipython",
        "version": 3
      },
      "file_extension": ".py",
      "mimetype": "text/x-python",
      "name": "python",
      "nbconvert_exporter": "python",
      "pygments_lexer": "ipython3",
      "version": "3.7.4"
    }
  },
  "nbformat": 4,
  "nbformat_minor": 0
}