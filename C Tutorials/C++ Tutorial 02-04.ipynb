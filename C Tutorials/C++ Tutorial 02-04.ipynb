{
 "cells": [
  {
   "cell_type": "markdown",
   "metadata": {},
   "source": [
    "# C++ Tutorial 02-04"
   ]
  },
  {
   "cell_type": "markdown",
   "metadata": {},
   "source": [
    "**Vectors**."
   ]
  },
  {
   "cell_type": "code",
   "execution_count": 1,
   "metadata": {},
   "outputs": [],
   "source": [
    "#include <cstdlib>\n",
    "#include <iostream>\n",
    "#include <string>\n",
    "#include <vector>\n",
    "#include <sstream>\n",
    "#include <limits>"
   ]
  },
  {
   "cell_type": "code",
   "execution_count": 2,
   "metadata": {},
   "outputs": [
    {
     "name": "stdout",
     "output_type": "stream",
     "text": [
      "Last Index: 30\n"
     ]
    }
   ],
   "source": [
    "std::vector<int> vecnRandNums(2); // Create a vector of 2 integers named vecnRandNums\n",
    "// unlike arrays, vector sizes are changeable\n",
    "vecnRandNums[0] = 10;\n",
    "vecnRandNums[1] = 20;\n",
    "vecnRandNums.push_back(30); // Add to back of vector (by doing this we're essentially changing the size of the vector)\n",
    "std::cout << \"Last Index: \" << vecnRandNums[vecnRandNums.size()-1] << \"\\n\";"
   ]
  },
  {
   "cell_type": "code",
   "execution_count": 3,
   "metadata": {
    "scrolled": true
   },
   "outputs": [
    {
     "name": "stdout",
     "output_type": "stream",
     "text": [
      "0\n"
     ]
    },
    {
     "data": {
      "text/plain": [
       "@0x10ec63010"
      ]
     },
     "execution_count": 3,
     "metadata": {},
     "output_type": "execute_result"
    }
   ],
   "source": [
    "// Question: what is this line printing out?\n",
    "std::cout << vecnRandNums[-1] << \"\\n\";\n",
    "// Possible answer:\n",
    "// C++ doesn't have bounds checking so when you do negative index\n",
    "// you are accessing the memory sequentially located in front of the array in memory\n",
    "// That can be anything and is usually not something you want\n",
    "// Source: http://www.cplusplus.com/forum/beginner/220530/"
   ]
  },
  {
   "cell_type": "code",
   "execution_count": 4,
   "metadata": {},
   "outputs": [
    {
     "name": "stdout",
     "output_type": "stream",
     "text": [
      "30\n"
     ]
    }
   ],
   "source": [
    "// Last value of the vector\n",
    "std::cout << vecnRandNums.back() << \"\\n\";"
   ]
  },
  {
   "cell_type": "code",
   "execution_count": 5,
   "metadata": {},
   "outputs": [
    {
     "name": "stdout",
     "output_type": "stream",
     "text": [
      "This\n",
      "is\n",
      "a\n",
      "random\n",
      "string\n"
     ]
    }
   ],
   "source": [
    "std::string sSentence = \"This is a random string\"; // create a string (sentence)\n",
    "std::vector<std::string> vecsWords; // create a vector to store the words in our sentence\n",
    "                                    // note that we don't need to set the size of the vector\n",
    "std::stringstream ss(sSentence); // A stringstream object receives strings separated\n",
    "                                 // by a space and then spits them out one by one\n",
    "std::string sIndivStr; // will temporarily hold each word in the string\n",
    "\n",
    "// While there are more words to extract, keep executing\n",
    "// getline() takes strings from a stream of words stored\n",
    "// in the stream and each time it finds a blank space\n",
    "// it stores the word preceding the space in sIndivStr\n",
    "while(getline(ss, sIndivStr, ' ')){\n",
    "    // Put the string into a vector\n",
    "    vecsWords.push_back(sIndivStr);\n",
    "}\n",
    "\n",
    "// print out each word\n",
    "for(int i = 0; i < vecsWords.size(); ++i){\n",
    "    std::cout << vecsWords[i] << \"\\n\";\n",
    "}"
   ]
  }
 ],
 "metadata": {
  "kernelspec": {
   "display_name": "C++17",
   "language": "C++17",
   "name": "xeus-cling-cpp17"
  },
  "language_info": {
   "codemirror_mode": "text/x-c++src",
   "file_extension": ".cpp",
   "mimetype": "text/x-c++src",
   "name": "c++",
   "version": "-std=c++17"
  }
 },
 "nbformat": 4,
 "nbformat_minor": 2
}
