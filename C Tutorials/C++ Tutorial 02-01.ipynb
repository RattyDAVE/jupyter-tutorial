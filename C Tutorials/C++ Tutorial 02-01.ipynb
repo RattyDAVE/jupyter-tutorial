{
 "cells": [
  {
   "cell_type": "markdown",
   "metadata": {},
   "source": [
    "# C++ Tutorial 02-01"
   ]
  },
  {
   "cell_type": "markdown",
   "metadata": {},
   "source": [
    "In Tutorial 02, Derek Banas covers: If, Else, Conditional Operators, Logical Operators, Arrays, Vectors, StringStream, While, For, plus some problems for students to solve."
   ]
  },
  {
   "cell_type": "code",
   "execution_count": 1,
   "metadata": {},
   "outputs": [],
   "source": [
    "#include <cstdlib>\n",
    "#include <iostream>\n",
    "#include <string>\n",
    "#include <vector>\n",
    "#include <sstream>\n",
    "#include <limits>"
   ]
  },
  {
   "cell_type": "code",
   "execution_count": 2,
   "metadata": {},
   "outputs": [],
   "source": [
    "int main() {\n",
    "//  conditional operators (note: && || !)\n",
    "    std::string sAge = \"0\";\n",
    "//  note that since we are creating a string variable here,\n",
    "//  we can't initialize it with an integer\n",
    "    std::cout << \"Enter your age: \";\n",
    "    getline(std::cin, sAge);\n",
    "    int nAge = std::stoi(sAge);\n",
    "    \n",
    "    if ((nAge >= 1) && (nAge <= 18)) {\n",
    "        std::cout << \"Important Birthday\\n\";\n",
    "    } else if ((nAge == 21) || (nAge == 50)) {\n",
    "        std::cout << \"Important Birthday\\n\";\n",
    "    } else if (nAge >= 65) {\n",
    "        std::cout << \"Important Birthday\\n\";\n",
    "    } else {\n",
    "        std::cout << \"Not an important birthday\\n\";\n",
    "    }\n",
    "    \n",
    "    return 0;\n",
    "}"
   ]
  }
 ],
 "metadata": {
  "kernelspec": {
   "display_name": "C++17",
   "language": "C++17",
   "name": "xeus-cling-cpp17"
  },
  "language_info": {
   "codemirror_mode": "text/x-c++src",
   "file_extension": ".cpp",
   "mimetype": "text/x-c++src",
   "name": "c++",
   "version": "-std=c++17"
  }
 },
 "nbformat": 4,
 "nbformat_minor": 2
}
