{
 "cells": [
  {
   "cell_type": "markdown",
   "metadata": {},
   "source": [
    "# C++ Tutorial 03-02"
   ]
  },
  {
   "cell_type": "markdown",
   "metadata": {},
   "source": [
    "Functions."
   ]
  },
  {
   "cell_type": "code",
   "execution_count": 1,
   "metadata": {},
   "outputs": [],
   "source": [
    "#include <cstdlib>\n",
    "#include <iostream>\n",
    "#include <string>\n",
    "#include <vector>\n",
    "#include <numeric> // needed for std::iota"
   ]
  },
  {
   "cell_type": "code",
   "execution_count": 2,
   "metadata": {},
   "outputs": [],
   "source": [
    "// define the return type and data types for functions\n",
    "// using a function prototype so main knows what is to be expected\n",
    "// from this function\n",
    "// it's like a little precursor\n",
    "double AddNumbers(double num1, double num2);\n",
    "// if a function is not going to return any values,\n",
    "// we replace \"double\" with \"void\""
   ]
  },
  {
   "cell_type": "code",
   "execution_count": 3,
   "metadata": {},
   "outputs": [],
   "source": [
    "int main() {\n",
    "//  call the function here\n",
    "    return 0;\n",
    "}"
   ]
  },
  {
   "cell_type": "code",
   "execution_count": 4,
   "metadata": {},
   "outputs": [],
   "source": [
    "// the definition of our AddNumbers function\n",
    "double AddNumbers(double num1, double num2) {\n",
    "    return num1 + num2;\n",
    "}"
   ]
  },
  {
   "cell_type": "markdown",
   "metadata": {},
   "source": [
    "Note that if we actually try to call the function in `main()` the notebook will throw an error saying `AddNumbers` is an undefined identifier. This is because we put our code across different cells and the kernel runs from top to bottom one by one. In the project sample folder we can see how the code works. (Of course, we also could have put the code in one cell.)"
   ]
  }
 ],
 "metadata": {
  "kernelspec": {
   "display_name": "C++17",
   "language": "C++17",
   "name": "xeus-cling-cpp17"
  },
  "language_info": {
   "codemirror_mode": "text/x-c++src",
   "file_extension": ".cpp",
   "mimetype": "text/x-c++src",
   "name": "c++",
   "version": "-std=c++17"
  }
 },
 "nbformat": 4,
 "nbformat_minor": 2
}
