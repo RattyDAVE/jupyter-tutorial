{
 "cells": [
  {
   "cell_type": "markdown",
   "metadata": {},
   "source": [
    "# C++ Tutorial 01-04\n",
    "\n",
    "**Small exercise**: receive user input and convert miles to kilometers.  \n",
    "- km = miles * 1.60934\n",
    "- `std::stod` converts strings to doubles\n",
    "\n",
    "Of course this is another case when we can't run our code directly in the notebook. I will write the code down below and test it out in Xcode."
   ]
  },
  {
   "cell_type": "code",
   "execution_count": 1,
   "metadata": {},
   "outputs": [],
   "source": [
    "#include <cstdlib>\n",
    "#include <iostream>\n",
    "#include <string>\n",
    "#include <vector>\n",
    "#include <sstream>\n",
    "#include <limits>\n",
    "\n",
    "int main() {\n",
    "    std::string sMiles;\n",
    "    double dMiles, dKilometers;\n",
    "    \n",
    "    std::cout << \"Enter miles: \";\n",
    "    getline(std::cin, sMiles);\n",
    "    dMiles = std::stod(sMiles);\n",
    "    dKilometers = dMiles * 1.60934;\n",
    "    printf(\"%.1f miles equals %.4f kilometers\\n\", dMiles, dKilometers);\n",
    "    \n",
    "    return 0;\n",
    "}"
   ]
  },
  {
   "cell_type": "markdown",
   "metadata": {},
   "source": [
    "The code is tested in Xcode and works fine.\n",
    "\n",
    "Note: Forgetting to `#include` required packages will lead to errors like the following:\n",
    "```\n",
    "error: no member named 'cout' in namespace 'std'\n",
    "error: no member named 'cin' in namespace 'std'\n",
    "```"
   ]
  }
 ],
 "metadata": {
  "kernelspec": {
   "display_name": "C++17",
   "language": "C++17",
   "name": "xeus-cling-cpp17"
  },
  "language_info": {
   "codemirror_mode": "text/x-c++src",
   "file_extension": ".cpp",
   "mimetype": "text/x-c++src",
   "name": "c++",
   "version": "-std=c++17"
  }
 },
 "nbformat": 4,
 "nbformat_minor": 2
}
