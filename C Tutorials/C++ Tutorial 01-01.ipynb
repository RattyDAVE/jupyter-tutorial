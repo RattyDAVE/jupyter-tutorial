{
 "cells": [
  {
   "cell_type": "markdown",
   "metadata": {},
   "source": [
    "# C++ Tutorial 01-01\n",
    "\n",
    "In this series, we're going to follow Derek Banas's video [tutorials](https://www.youtube.com/playlist?list=PLGLfVvz_LVvQ9S8YSV0iDsuEU8v11yP9M)."
   ]
  },
  {
   "cell_type": "code",
   "execution_count": 1,
   "metadata": {},
   "outputs": [],
   "source": [
    "/* Here's how to\n",
    "create\n",
    "multi-line\n",
    "commnets\n",
    "which we're not gonna use in Jupyter Notebook\n",
    "*/"
   ]
  },
  {
   "cell_type": "code",
   "execution_count": 2,
   "metadata": {},
   "outputs": [],
   "source": [
    "#include <cstdlib>\n",
    "#include <iostream>\n",
    "#include <string>\n",
    "#include <vector>\n",
    "#include <sstream>"
   ]
  },
  {
   "cell_type": "code",
   "execution_count": 3,
   "metadata": {},
   "outputs": [],
   "source": [
    "// using namespace std;\n",
    "\n",
    "// When the above line of code is used, you don't have to type out std::\n",
    "// But it's possible to raise an issue if there's a conflict of function name\n",
    "// So we're not using this line here\n",
    "\n",
    "// An alternative would be to use this instead:\n",
    "// using std::cout\n",
    "// which also allows you to only type out cout down below"
   ]
  },
  {
   "cell_type": "code",
   "execution_count": 4,
   "metadata": {},
   "outputs": [],
   "source": [
    "int main(int argc, char** argv) {\n",
    "//  argc stores number of arguments passed\n",
    "//  argv stores an array that points to a bunch of values passed\n",
    "    std::cout << \"Hello World\\n\";\n",
    "//  << is the insertion operator\n",
    "//  OR:\n",
    "//  std::cout << \"Hello World\" << std::endl;\n",
    "//  don't forget to put the semicolon at the end\n",
    "    if(argc != 1) {\n",
    "        std::cout << \"You entered \" << argc <<\n",
    "            \" arguments\\n\";\n",
    "    }\n",
    "    for(int i = 0; i < argc; ++i) {\n",
    "        std::cout << argv[i] << \"\\n\";\n",
    "    }\n",
    "    return 0;\n",
    "//  0 means everything runs correctly\n",
    "//  -1 means something's not right\n",
    "}"
   ]
  },
  {
   "cell_type": "markdown",
   "metadata": {},
   "source": [
    "The for loop in the cell above counts how many arguments are passed to the function. We can't pass any in Jupyter Notebook, but if we run this program in terminal, we could. Here's how to run this in terminal (and the example output), supposing there's a main.cpp file containing all the above cells of code."
   ]
  },
  {
   "cell_type": "markdown",
   "metadata": {},
   "source": [
    "```\n",
    "$ g++ main.cpp\n",
    "$ ./a.out I Love C++\n",
    "Hello World\n",
    "You entered 4 arguments\n",
    "./a.out\n",
    "I\n",
    "Love\n",
    "C++\n",
    "$\n",
    "```"
   ]
  },
  {
   "cell_type": "markdown",
   "metadata": {},
   "source": [
    "Note that `./a.out` comes by default (if nothing is passed in)."
   ]
  },
  {
   "cell_type": "markdown",
   "metadata": {},
   "source": [
    "Below we take advantage of Jupyter Notebook and try out the hello-world line without having to worry about `int main()` and `return 0;`."
   ]
  },
  {
   "cell_type": "code",
   "execution_count": 5,
   "metadata": {
    "scrolled": true
   },
   "outputs": [
    {
     "name": "stdout",
     "output_type": "stream",
     "text": [
      "Hello World\n"
     ]
    }
   ],
   "source": [
    "std::cout << \"Hello World\\n\";"
   ]
  }
 ],
 "metadata": {
  "kernelspec": {
   "display_name": "C++17",
   "language": "C++17",
   "name": "xeus-cling-cpp17"
  },
  "language_info": {
   "codemirror_mode": "text/x-c++src",
   "file_extension": ".cpp",
   "mimetype": "text/x-c++src",
   "name": "c++",
   "version": "-std=c++17"
  }
 },
 "nbformat": 4,
 "nbformat_minor": 2
}
