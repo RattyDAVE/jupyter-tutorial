{
 "cells": [
  {
   "cell_type": "markdown",
   "metadata": {},
   "source": [
    "# C++ Tutorial 01-02"
   ]
  },
  {
   "cell_type": "code",
   "execution_count": 1,
   "metadata": {},
   "outputs": [],
   "source": [
    "#include <cstdlib>\n",
    "#include <iostream>\n",
    "#include <string>\n",
    "#include <vector>\n",
    "#include <sstream>\n",
    "#include <limits>"
   ]
  },
  {
   "cell_type": "markdown",
   "metadata": {},
   "source": [
    "Defining variables using the [Hungarian notation convention](https://en.wikipedia.org/wiki/Hungarian_notation).\n",
    "\n",
    "Note: [single quotes vs double quotes in C or C++](https://stackoverflow.com/questions/3683602/single-quotes-vs-double-quotes-in-c-or-c)"
   ]
  },
  {
   "cell_type": "code",
   "execution_count": 2,
   "metadata": {},
   "outputs": [],
   "source": [
    "int g_iRandNum = 0;"
   ]
  },
  {
   "cell_type": "code",
   "execution_count": 3,
   "metadata": {},
   "outputs": [],
   "source": [
    "const double PI = 3.1415927;"
   ]
  },
  {
   "cell_type": "code",
   "execution_count": 4,
   "metadata": {
    "scrolled": true
   },
   "outputs": [],
   "source": [
    "int main() {\n",
    "    \n",
    "    bool bMarried = true;\n",
    "    char chMyGrade = 'A';\n",
    "//  Note the use of single quotes here\n",
    "    unsigned short int u16Age = 43;\n",
    "    short int siWeight = 180;\n",
    "    int nDays = 7;\n",
    "    long lBigNum = 1100000;\n",
    "    float fPi = 3.1415927;\n",
    "    double dbBigFloat = 1.11111111111111;\n",
    "    long double ldPi = 3.1415927;\n",
    "    auto whatWillIBe = true;\n",
    "//  modern C++ uses 'auto' almost whenever possible\n",
    "    \n",
    "    std::cout << \"Min bool \" << std::numeric_limits<bool>::min() << \"\\n\";\n",
    "    std::cout << \"Max bool \" << std::numeric_limits<bool>::max() << \"\\n\";\n",
    "    \n",
    "    std::cout << \"Min unsigned short int \" << std::numeric_limits<unsigned short int>::min() << \"\\n\";\n",
    "    std::cout << \"Max unsigned short int \" << std::numeric_limits<unsigned short int>::max() << \"\\n\";\n",
    "    \n",
    "    std::cout << \"Min short int \" << std::numeric_limits<short int>::min() << \"\\n\";\n",
    "    std::cout << \"Max short int \" << std::numeric_limits<short int>::max() << \"\\n\";\n",
    "    \n",
    "    return 0;\n",
    "    \n",
    "}"
   ]
  },
  {
   "cell_type": "code",
   "execution_count": 5,
   "metadata": {},
   "outputs": [
    {
     "name": "stdout",
     "output_type": "stream",
     "text": [
      "int size 4\n"
     ]
    }
   ],
   "source": [
    "// Get the size of bytes\n",
    "std::cout << \"int size \" << sizeof(int) << \"\\n\";"
   ]
  },
  {
   "cell_type": "markdown",
   "metadata": {},
   "source": [
    "Now we're going to see how numbers lose precision during calculation. First we look at floats."
   ]
  },
  {
   "cell_type": "code",
   "execution_count": 6,
   "metadata": {},
   "outputs": [],
   "source": [
    "float fBigFloat1 = 1.1111111111;\n",
    "float fBigFloat2 = 1.1111111111;\n",
    "float fFloatSum = fBigFloat1 + fBigFloat2;"
   ]
  },
  {
   "cell_type": "code",
   "execution_count": 7,
   "metadata": {},
   "outputs": [
    {
     "name": "stdout",
     "output_type": "stream",
     "text": [
      "2.2222223282"
     ]
    }
   ],
   "source": [
    "// Generally speaking we can still use the C printf() in C++ (but for some reason it doesn't work in the cell)\n",
    "// printf(\"fFloatSum Precision : %.10f\\n\", fFloatSum);\n",
    "// So we use std::cout instead:\n",
    "std::cout << std::fixed << std::setprecision(10);\n",
    "std::cout << fFloatSum;"
   ]
  },
  {
   "cell_type": "markdown",
   "metadata": {},
   "source": [
    "Note the result. We have 6 points of precision when using a float. Next we look at doubles."
   ]
  },
  {
   "cell_type": "code",
   "execution_count": 8,
   "metadata": {},
   "outputs": [],
   "source": [
    "double dbBigDouble1 = 1.11111111111111111111;\n",
    "double dbBigDouble2 = 1.11111111111111111111;\n",
    "double dbBigDoubleSum = dbBigDouble1 + dbBigDouble2;"
   ]
  },
  {
   "cell_type": "code",
   "execution_count": 9,
   "metadata": {},
   "outputs": [
    {
     "name": "stdout",
     "output_type": "stream",
     "text": [
      "2.22222222222222232091"
     ]
    }
   ],
   "source": [
    "std::cout << std::fixed << std::setprecision(20);\n",
    "std::cout << dbBigDoubleSum;"
   ]
  },
  {
   "cell_type": "markdown",
   "metadata": {},
   "source": [
    "We get 10 points of precision using a double."
   ]
  },
  {
   "cell_type": "markdown",
   "metadata": {},
   "source": [
    "Now, more on `printf()`'s. According to [stackoverflow](https://stackoverflow.com/questions/29262667/how-to-allow-c-printf-to-print-in-ipython-notebook-in-cython-cell), `printf()`doesn't print the result in the notebook. But if you run the script elsewhere (like in terminal) it does show up."
   ]
  },
  {
   "cell_type": "code",
   "execution_count": 10,
   "metadata": {},
   "outputs": [],
   "source": [
    "printf(\"%c %d %5d %.3f %s\\n\", 'A', 10, 5, 3.1234, \"Hi\");"
   ]
  },
  {
   "cell_type": "markdown",
   "metadata": {},
   "source": [
    "**Update**\n",
    "\n",
    "According to [another stackoverflow answer](https://stackoverflow.com/questions/9935027/cout-does-not-name-a-type), **statements in C++ need to be in a function**. That's why if we try to run the above cell (and the `#include`'s) in terminal, we'll get an error saying 'cout' does not name a type. I'm guessing that Jupyter Notebook allows us to run `std::cout` in a single cell (which isn't wrapped in any function), like I did in earlier cells. Through this error we can see the upsides and downsides of learning C++ in Jupyter Notebook.\n",
    "\n",
    "Now let's see if we can get `printf()` to work properly if we wrap it in a function."
   ]
  },
  {
   "cell_type": "markdown",
   "metadata": {},
   "source": [
    "```C++\n",
    "int main() {\n",
    "    printf(\"%c %d %5d %.3f %s\\n\", 'A', 10, 5, 3.1234, \"Hi\");\n",
    "    return 0;\n",
    "}\n",
    "```"
   ]
  },
  {
   "cell_type": "markdown",
   "metadata": {},
   "source": [
    "Nice! Testing shows that works. The output looks like this:\n",
    "```\n",
    "A 10     5 3.123 Hi\n",
    "```"
   ]
  }
 ],
 "metadata": {
  "kernelspec": {
   "display_name": "C++17",
   "language": "C++17",
   "name": "xeus-cling-cpp17"
  },
  "language_info": {
   "codemirror_mode": "text/x-c++src",
   "file_extension": ".cpp",
   "mimetype": "text/x-c++src",
   "name": "c++",
   "version": "-std=c++17"
  }
 },
 "nbformat": 4,
 "nbformat_minor": 2
}
