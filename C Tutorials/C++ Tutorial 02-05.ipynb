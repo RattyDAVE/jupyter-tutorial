{
 "cells": [
  {
   "cell_type": "markdown",
   "metadata": {},
   "source": [
    "# C++ Tutorial 02-05"
   ]
  },
  {
   "cell_type": "markdown",
   "metadata": {},
   "source": [
    "**Exercise**\n",
    "\n",
    "Create a simple calculator that takes user input and performs the calculation."
   ]
  },
  {
   "cell_type": "code",
   "execution_count": 1,
   "metadata": {},
   "outputs": [],
   "source": [
    "#include <cstdlib>\n",
    "#include <iostream>\n",
    "#include <string>\n",
    "#include <vector>\n",
    "#include <sstream>\n",
    "#include <limits>"
   ]
  },
  {
   "cell_type": "code",
   "execution_count": 2,
   "metadata": {},
   "outputs": [],
   "source": [
    "int main(){\n",
    "    \n",
    "//  My solution differs a bit from Derek's. I think it's a better idea to define variables before you use them\n",
    "//  rather than throwing the declarations all at the top.\n",
    "//  I also leave out the curly brackets in the if statements for simplicity\n",
    "    \n",
    "    std::string calculation; // to store user input\n",
    "    std::cout << \"Enter calculation (e.g. 5 + 6): \"; // prompt the user to input\n",
    "    getline(std::cin, calculation); // save user input to string variable\n",
    "    std::stringstream ss(calculation);\n",
    "    std::string IndivStr;\n",
    "    std::vector<std::string> vecsCalc;\n",
    "    while(getline(ss, IndivStr, ' ')){\n",
    "        vecsCalc.push_back(IndivStr);\n",
    "    }\n",
    "    \n",
    "    double num1 = std::stoi(vecsCalc[0]);\n",
    "    double num2 = std::stoi(vecsCalc[2]);\n",
    "    std::string operation = vecsCalc[1];\n",
    "    \n",
    "    if (operation == \"+\")\n",
    "        printf(\"%.1f + %.1f = %.1f\\n\", num1, num2, num1+num2);\n",
    "    else if (operation == \"-\")\n",
    "        printf(\"%.1f - %.1f = %.1f\\n\", num1, num2, num1-num2);\n",
    "    else if (operation == \"*\")\n",
    "        printf(\"%.1f * %.1f = %.1f\\n\", num1, num2, num1*num2);\n",
    "    else if (operation == \"/\")\n",
    "        printf(\"%.1f / %.1f = %.1f\\n\", num1, num2, num1/num2);\n",
    "    else\n",
    "        std::cout << \"Please enter only +, -, *, or /\" << \"\\n\";\n",
    "    \n",
    "    return 0;\n",
    "    \n",
    "}"
   ]
  }
 ],
 "metadata": {
  "kernelspec": {
   "display_name": "C++17",
   "language": "C++17",
   "name": "xeus-cling-cpp17"
  },
  "language_info": {
   "codemirror_mode": "text/x-c++src",
   "file_extension": ".cpp",
   "mimetype": "text/x-c++src",
   "name": "c++",
   "version": "-std=c++17"
  }
 },
 "nbformat": 4,
 "nbformat_minor": 2
}
