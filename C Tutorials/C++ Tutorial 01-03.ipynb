{
 "cells": [
  {
   "cell_type": "markdown",
   "metadata": {},
   "source": [
    "# C++ Tutorial 01-03"
   ]
  },
  {
   "cell_type": "code",
   "execution_count": 1,
   "metadata": {},
   "outputs": [],
   "source": [
    "#include <cstdlib>\n",
    "#include <iostream>\n",
    "#include <string>\n",
    "#include <vector>\n",
    "#include <sstream>\n",
    "#include <limits>"
   ]
  },
  {
   "cell_type": "code",
   "execution_count": 2,
   "metadata": {},
   "outputs": [],
   "source": [
    "int main() {\n",
    "\n",
    "//  create strings, receive user inputs\n",
    "    std::string sQuestion (\"Enter number 1: \");\n",
    "    std::string sNum1, sNum2;\n",
    "    std::cout << sQuestion;\n",
    "    getline(std::cin, sNum1);\n",
    "    std::cout << \"Enter number 2: \";\n",
    "    getline(std::cin, sNum2);\n",
    "\n",
    "//  convert strings to integers\n",
    "    int nNum1 = std::stoi(sNum1);\n",
    "    int nNum2 = std::stoi(sNum2);\n",
    "    \n",
    "    printf(\"%d + %d = %d\\n\", nNum1, nNum2, (nNum1+nNum2));\n",
    "    printf(\"%d - %d = %d\\n\", nNum1, nNum2, (nNum1-nNum2));\n",
    "    printf(\"%d * %d = %d\\n\", nNum1, nNum2, (nNum1*nNum2));\n",
    "    printf(\"%d / %d = %d\\n\", nNum1, nNum2, (nNum1/nNum2));\n",
    "    printf(\"%d %% %d = %d\\n\", nNum1, nNum2, (nNum1%nNum2));\n",
    "    \n",
    "    return 0;\n",
    "}"
   ]
  },
  {
   "cell_type": "markdown",
   "metadata": {},
   "source": [
    "Because the tutorial is not built for learners using the Jupyter Notebook, we sometimes have to leave the comfort of our notebook and test out our code (like when we need inputs). I used Xcode to test out the above codes. It works fine."
   ]
  }
 ],
 "metadata": {
  "kernelspec": {
   "display_name": "C++17",
   "language": "C++17",
   "name": "xeus-cling-cpp17"
  },
  "language_info": {
   "codemirror_mode": "text/x-c++src",
   "file_extension": ".cpp",
   "mimetype": "text/x-c++src",
   "name": "c++",
   "version": "-std=c++17"
  }
 },
 "nbformat": 4,
 "nbformat_minor": 2
}
