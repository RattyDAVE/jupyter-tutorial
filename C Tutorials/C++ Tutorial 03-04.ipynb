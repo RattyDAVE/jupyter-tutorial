{
 "cells": [
  {
   "cell_type": "markdown",
   "metadata": {},
   "source": [
    "# C++ Tutorial 03-04"
   ]
  },
  {
   "cell_type": "markdown",
   "metadata": {},
   "source": [
    "Pointers."
   ]
  },
  {
   "cell_type": "code",
   "execution_count": 1,
   "metadata": {},
   "outputs": [],
   "source": [
    "#include <cstdlib>\n",
    "#include <iostream>\n",
    "#include <string>\n",
    "#include <vector>\n",
    "#include <numeric>"
   ]
  },
  {
   "cell_type": "code",
   "execution_count": 2,
   "metadata": {},
   "outputs": [
    {
     "name": "stdout",
     "output_type": "stream",
     "text": [
      "Address: 0x112104394\n",
      "Value at Address: 43\n"
     ]
    }
   ],
   "source": [
    "int age = 43;\n",
    "int* pAge = NULL;\n",
    "pAge = &age;\n",
    "std::cout << \"Address: \" << pAge << \"\\n\";\n",
    "std::cout << \"Value at Address: \" << *pAge << \"\\n\";"
   ]
  },
  {
   "cell_type": "code",
   "execution_count": 3,
   "metadata": {},
   "outputs": [
    {
     "name": "stdout",
     "output_type": "stream",
     "text": [
      "1st value: 1; Address: 0x1121047b0\n",
      "2nd value: 2; Address: 0x1121047b4\n",
      "1st value: 1; Address: 0x1121047b0\n"
     ]
    }
   ],
   "source": [
    "int intArray[] = {1,2,3,4};\n",
    "int* pIntArray = intArray;\n",
    "std::cout << \"1st value: \" << *pIntArray <<\"; Address: \" << pIntArray << \"\\n\";\n",
    "pIntArray++;\n",
    "std::cout << \"2nd value: \" << *pIntArray << \"; Address: \" << pIntArray << \"\\n\";\n",
    "pIntArray--;\n",
    "std::cout << \"1st value: \" << *pIntArray << \"; Address: \" << pIntArray << \"\\n\";"
   ]
  }
 ],
 "metadata": {
  "kernelspec": {
   "display_name": "C++17",
   "language": "C++17",
   "name": "xeus-cling-cpp17"
  },
  "language_info": {
   "codemirror_mode": "text/x-c++src",
   "file_extension": ".cpp",
   "mimetype": "text/x-c++src",
   "name": "c++",
   "version": "-std=c++17"
  }
 },
 "nbformat": 4,
 "nbformat_minor": 2
}
